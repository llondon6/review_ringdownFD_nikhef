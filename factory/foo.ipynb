{
 "cells": [
  {
   "cell_type": "markdown",
   "metadata": {},
   "source": [
    "# Development for code review: MMRDNS"
   ]
  },
  {
   "cell_type": "markdown",
   "metadata": {
    "heading_collapsed": true
   },
   "source": [
    "## Notes\n",
    "---\n",
    "#### Aug 12th 2017\n",
    "* Current issue: Amplitudes and phases of time domain waveforms are sligtly off (independently of spheroidal functions)\n",
    "* Now the spheroidal harmonic function works as expected! :DDD\n",
    "    * Errors (typically less than 1%) are now dominated by the fits used for the normalization constants.\n",
    "* Bug found and fixed in spheroidal LAL function: ```a0``` and ```a1``` must be initiated as ```COMPLEX16``` but they were defined as ```double```.\n",
    "* As a result of yesterday's discovery about the fit for QNM frequencies, I have implemented interpolation over QNM frequencies and separation constants by adding LALSimRingdownDATA.h to the workflow. The new related functions are ```XLALSimQNM_CW``` and ```XLALSimQNM_SC```.\n",
    "\n",
    "#### Aug 11th 2017\n",
    "* The discovery below was not enough. HOWEVER this did lead to another discovery --- THE FIT USED for the QNM frequencies and separation constants IS NOT ACCURATE ENOUGH to be used with the summation associated with spherodial harmonic calculation. \n",
    "* DISCOVERY: the convention used for the QNM frequencies in ```XLALcomplexOmega``` requires a conjugate in XLALcomplexOmega ```XLALSpinWeightedSpheroidalHarmonic```. Importantly, this is not the case for ```XLALseparationConstant```. This may fianlly fix ```XLALSpinWeightedSpheroidalHarmonic```.\n",
    "* Adding check of normalization: fit in LAL vs direct numerical calculation in python\n",
    "* Fixing the bug below helps, but now there are nans for low inclinaitons returned, and morphology of Slm are still a bit off for $(3,2,0)$.\n",
    "* Bug found in the Spheroidal function:\n",
    "``` C\n",
    "// Incorrect\n",
    "dY = pow(a2*(1.0+u),k);\n",
    "```\n",
    "Should be \n",
    "``` C\n",
    "// Correct\n",
    "dY = a2 * pow(1.0+u,k);\n",
    "```\n",
    "* There is definitely a noticeable error/bug in the LAL Spheroidal harmonic function: the amplitde and phase is off by ~10 percent for the q=1 test case\n",
    "    * The LAL spheroidal harmonics are not properly normalized. \n",
    "    * In some cases (e.g. $(l,m)=(3,2)$) the morphology of the spheroidal harmonic function is incorrect AND not properly normalized\n",
    "* Adding overall conjugation to output of Amplitude fit -- switching to correct phase convention\n",
    "``` C\n",
    "/*NOTE that the MATLAB code used to perform the fitting uses a different convention when handling the real and imaginary parts of psi4 than we will use here. The conjugation below makes the output of MMRDNS consistent with nrutils, which injects no manual minus signs when handling psi4, but enforces a phase convention: m>0 has frequencies >0 (non-precessing). NOTE that this may change in the future if significantly precessing systems are found to not sufficiently obey this property. See https://github.com/llondon6/nrutils_dev/blob/master/nrutils/core/nrsc.py#L1714-L1728 for more details.*/\n",
    "ans = conj( ans );\n",
    "```\n",
    "* I've locally modified a line in the LAL Amplitude function\n",
    "``` C\n",
    "  /* If m<0, then take the conjugate */\n",
    "  if ( input_m < 0 ) {\n",
    "    /**/\n",
    "    // OLD: ans = conj( ans );\n",
    "    ans = pow(-1,l) * conj( ans );\n",
    "  }\n",
    "```\n",
    "\n",
    "#### Aug 10th 2017\n",
    "* Adding mode-by-mode comparisons and making separate section for full signal comparison\n",
    "* I suspect an incorrect usage of the fninal mass fit: lalsim.E_rad_nonspinning_UIB2016(eta) --- the usage here turned out to be OK.\n",
    "\n",
    "#### Aug 9th 2017\n",
    "* (no longer of interest) The definition of time in the LAL version is correct but inconsistent with the model's construction. \n",
    "    * Tentatively changed in my version of the LAL Code by having T0=10M within the code. \n",
    "    * A better change may be to rescale the model itself with the LAL code.\n",
    "* There is something incorrect about how the multipoles are being added together: when modes beyond the fundmental are added, a strange modulation is"
   ]
  },
  {
   "cell_type": "markdown",
   "metadata": {},
   "source": [
    "## Setup Environment"
   ]
  },
  {
   "cell_type": "code",
   "execution_count": 1,
   "metadata": {
    "ExecuteTime": {
     "end_time": "2017-08-21T08:24:36.312062Z",
     "start_time": "2017-08-21T08:24:34.276318"
    },
    "code_folding": [],
    "collapsed": false
   },
   "outputs": [
    {
     "name": "stdout",
     "output_type": "stream",
     "text": [
      "(\u001b[0;36m<module>\u001b[0m)>> The LASIMULATION version is located at: \u001b[1m\u001b[0;33m/Users/book/.virtual_enviroments/ringdownFD_nikhef/opt/lalsuite/lib/python2.7/site-packages/lalsimulation\u001b[0m\u001b[0m\n"
     ]
    }
   ],
   "source": [
    "# Setup ipython environment\n",
    "%load_ext autoreload\n",
    "%autoreload 2\n",
    "# %matplotlib auto\n",
    "%matplotlib inline\n",
    "# Import useful things\n",
    "#\n",
    "# from os import system\n",
    "# system('source ~/.virtual_enviroments/ringdownFD_nikhef/bin/activate')\n",
    "from nrutils.core.basics import lalphenom\n",
    "from kerr import rgb,gmvpfit,modelrd,anglep,qnmfit,leaver,ndflatten,sunwrap,alert,cyan,slm\n",
    "from kerr.models import mmrdns as ns\n",
    "from nrutils import scsearch,gwylm,FinalSpin0815,EradRational0815\n",
    "# Setup plotting backend\n",
    "import matplotlib as mpl\n",
    "from mpl_toolkits.mplot3d import axes3d\n",
    "mpl.rcParams['lines.linewidth'] = 0.8\n",
    "mpl.rcParams['font.family'] = 'serif'\n",
    "mpl.rcParams['font.size'] = 12\n",
    "mpl.rcParams['axes.labelsize'] = 20\n",
    "mpl.rcParams['axes.titlesize'] = 20\n",
    "from matplotlib.pyplot import *\n",
    "from mpl_toolkits.mplot3d import Axes3D\n",
    "#\n",
    "import corner\n",
    "#\n",
    "from numpy import *\n",
    "from numpy.linalg import pinv\n",
    "#\n",
    "from nrutils.core.units import *\n",
    "#\n",
    "from scipy.optimize import minimize\n",
    "from os.path import expanduser\n",
    "#\n",
    "import lal\n",
    "from lal import MSUN_SI, PC_SI, C_SI, G_SI, MTSUN_SI\n",
    "import lalsimulation as lalsim\n",
    "alert('The LASIMULATION version is located at: %s'%( bold(yellow(lalsim.__path__[0])) ))\n",
    "#\n",
    "import review_ringdownFD_nikhef as review"
   ]
  },
  {
   "cell_type": "markdown",
   "metadata": {},
   "source": [
    "## Select and Load NR Data"
   ]
  },
  {
   "cell_type": "code",
   "execution_count": 22,
   "metadata": {
    "ExecuteTime": {
     "end_time": "2017-08-21T08:32:58.316276Z",
     "start_time": "2017-08-21T08:32:53.518767"
    },
    "collapsed": false
   },
   "outputs": [
    {
     "name": "stdout",
     "output_type": "stream",
     "text": [
      "(\u001b[0;36mscsearch\u001b[0m)>> Found \u001b[4mkeyword\u001b[0m (='hrq') keyword.\n",
      "(\u001b[0;36mscsearch\u001b[0m)>> Found \u001b[4mq\u001b[0m (=2) keyword.\n",
      "(\u001b[0;36mscsearch\u001b[0m)>> Found \u001b[4mverbose\u001b[0m (=True) keyword.\n",
      "(\u001b[0;36mscsearch\u001b[0m)>> List of keywords or string keyword found: \u001b[0;36mALL scentry objects matching will be passed.\u001b[0m To pass ANY entries matching the keywords, input the keywords using an iterable of not of type list.\n",
      "## Found \u001b[1m1\u001b[0m\u001b[0;35m possibly degenerate\u001b[0m simulations:\n",
      "[0001][\u001b[92mbradwr\u001b[0m] \u001b[0;36mHRq-series\u001b[0m: ns-q2.00\t(\u001b[0;36mD9_q2.0_a0.0_m160\u001b[0m)\n",
      "\n"
     ]
    }
   ],
   "source": [
    "# Find simlations to load \n",
    "# A = scsearch(keyword='D11_q1.00_a0.0_m240',verbose=True)\n",
    "A = scsearch(keyword='hrq',q=2,verbose=True)\n",
    "# A = scsearch(keyword='D9_q1.2_a0.0_m160',verbose=True)\n",
    "# A = scsearch(nonspinning=True,q=1.2,verbose=True,institute='gt',keyword='hrq')"
   ]
  },
  {
   "cell_type": "code",
   "execution_count": 23,
   "metadata": {
    "ExecuteTime": {
     "end_time": "2017-08-21T08:33:21.381741Z",
     "start_time": "2017-08-21T08:33:03.038949"
    },
    "collapsed": false
   },
   "outputs": [
    {
     "name": "stdout",
     "output_type": "stream",
     "text": [
      "(\u001b[0;36mgwylm\u001b[0m)>> Found \u001b[4mdt\u001b[0m (=0.15) keyword.\n",
      "(\u001b[0;36mgwylm\u001b[0m)>> Found \u001b[4mlm\u001b[0m (=[(2, 2), (3, 3), (3, 2), (4, 4), (4, 3), (5, 5)]) keyword.\n",
      "(\u001b[0;36mgwylm\u001b[0m)>> Found \u001b[4mscentry_obj\u001b[0m (=<nrutils.core.nrsc.scentry instance at 0x10c26d3b0>) keyword.\n",
      "(\u001b[0;36mgwylm\u001b[0m)>> Found \u001b[4mverbose\u001b[0m (=True) keyword.\n",
      "\u001b[1m(\u001b[0;33mvalidate!\u001b[0m)>> \u001b[0mMultiple catalog directories found. We will scan through the related list, and then store first the catalog_dir that the OS can find.\n",
      "\u001b[1m(\u001b[0;33mvalidate!\u001b[0m)>> \u001b[0mSelecting \"\u001b[0;36m/Volumes/athena/bradwr/\u001b[0m\"\n",
      "(\u001b[0;36mgwylm\u001b[0m)>> The (\u001b[0;35mextraction_parameter\u001b[0m,\u001b[92mlevel\u001b[0m) is (\u001b[0;35m75.0\u001b[0m,\u001b[92mNone\u001b[0m), which differs from the config values of (75,0). You have either manually input the non-config values, or the handler has set them by looking at the contents of the simulation directory. \n",
      "(\u001b[0;36m__make_lmlist__\u001b[0m)>> The following spherical multipoles will be loaded:\u001b[0;36m[(2, 2), (3, 3), (3, 2), (4, 4), (4, 3), (5, 5)]\u001b[0m\n",
      "(\u001b[0;36mload\u001b[0m)>> Loading: \u001b[0;36mmp_WeylScal4::Psi4i_l2_m2_r75.00.asc\u001b[0m\n",
      "(\u001b[0;36mload\u001b[0m)>> Imposing a default padding of 4 to the data.\n",
      "(\u001b[0;36mpad_wfarr\u001b[0m)>> The shape was (7327, 3). Now the shape is (7331, 3).\n",
      "(\u001b[0;36mload\u001b[0m)>> Loading: \u001b[0;36mmp_WeylScal4::Psi4i_l3_m3_r75.00.asc\u001b[0m\n",
      "(\u001b[0;36mload\u001b[0m)>> Imposing a default padding of 4 to the data.\n",
      "(\u001b[0;36mpad_wfarr\u001b[0m)>> The shape was (7327, 3). Now the shape is (7331, 3).\n",
      "(\u001b[0;36mload\u001b[0m)>> Loading: \u001b[0;36mmp_WeylScal4::Psi4i_l3_m2_r75.00.asc\u001b[0m\n",
      "(\u001b[0;36mload\u001b[0m)>> Imposing a default padding of 4 to the data.\n",
      "(\u001b[0;36mpad_wfarr\u001b[0m)>> The shape was (7327, 3). Now the shape is (7331, 3).\n",
      "(\u001b[0;36mload\u001b[0m)>> Loading: \u001b[0;36mmp_WeylScal4::Psi4i_l4_m4_r75.00.asc\u001b[0m\n",
      "(\u001b[0;36mload\u001b[0m)>> Imposing a default padding of 4 to the data.\n",
      "(\u001b[0;36mpad_wfarr\u001b[0m)>> The shape was (7327, 3). Now the shape is (7331, 3).\n",
      "(\u001b[0;36mload\u001b[0m)>> Loading: \u001b[0;36mmp_WeylScal4::Psi4i_l4_m3_r75.00.asc\u001b[0m\n",
      "(\u001b[0;36mload\u001b[0m)>> Imposing a default padding of 4 to the data.\n",
      "(\u001b[0;36mpad_wfarr\u001b[0m)>> The shape was (7327, 3). Now the shape is (7331, 3).\n",
      "(\u001b[0;36mload\u001b[0m)>> Loading: \u001b[0;36mmp_WeylScal4::Psi4i_l5_m5_r75.00.asc\u001b[0m\n",
      "(\u001b[0;36mload\u001b[0m)>> Imposing a default padding of 4 to the data.\n",
      "(\u001b[0;36mpad_wfarr\u001b[0m)>> The shape was (7327, 3). Now the shape is (7331, 3).\n",
      "(\u001b[0;36mgwylm\u001b[0m)>> Storing w22 from a \u001b[1m\u001b[0;35mPN estimate\u001b[0m\u001b[0m[see pnw0 in basics.py, and/or arxiv:1310.1528v4]. This will be the frequency parameter used if strain is to be calculated.\n",
      "(\u001b[0;36mcalcflm\u001b[0m)>> \u001b[0;35mw0(w22) = 0.057949\u001b[0m\u001b[0;33m (this is the lower frequency used for FFI method [arxiv:1006.1632v3])\u001b[0m\n",
      "(\u001b[0;36mcalcflm\u001b[0m)>> \u001b[0;35mw0(w22) = 0.086923\u001b[0m\u001b[0;33m (this is the lower frequency used for FFI method [arxiv:1006.1632v3])\u001b[0m\n",
      "(\u001b[0;36mcalcflm\u001b[0m)>> \u001b[0;35mw0(w22) = 0.057949\u001b[0m\u001b[0;33m (this is the lower frequency used for FFI method [arxiv:1006.1632v3])\u001b[0m\n",
      "(\u001b[0;36mcalcflm\u001b[0m)>> \u001b[0;35mw0(w22) = 0.115897\u001b[0m\u001b[0;33m (this is the lower frequency used for FFI method [arxiv:1006.1632v3])\u001b[0m\n",
      "(\u001b[0;36mcalcflm\u001b[0m)>> \u001b[0;35mw0(w22) = 0.086923\u001b[0m\u001b[0;33m (this is the lower frequency used for FFI method [arxiv:1006.1632v3])\u001b[0m\n",
      "(\u001b[0;36mcalcflm\u001b[0m)>> \u001b[0;35mw0(w22) = 0.144871\u001b[0m\u001b[0;33m (this is the lower frequency used for FFI method [arxiv:1006.1632v3])\u001b[0m\n",
      "(\u001b[0;36mcalchlm\u001b[0m)>> \u001b[0;35mw22 = m*w22/2 = 0.057949\u001b[0m\u001b[0;33m (this is the lower frequency used for FFI method [arxiv:1006.1632v3])\u001b[0m\n",
      "(\u001b[0;36mgwylm.calchlm\u001b[0m)>> \u001b[0;33mThe user should note that there is no minus sign used in front of the double time integral for strain (i.e. Eq 4 of arxiv:1006.1632). This differs from Eq 3.4 of arxiv:0707.4654v3. The net effect is a rotation of the overall polarization of pi degrees. The user should also note that there is no minus sign applied to h_cross meaning that the user must be mindful to write h_pluss-1j*h_cross when appropriate.\u001b[0m\n",
      "(\u001b[0;36mcalchlm\u001b[0m)>> \u001b[0;35mw33 = m*w22/2 = 0.086923\u001b[0m\u001b[0;33m (this is the lower frequency used for FFI method [arxiv:1006.1632v3])\u001b[0m\n",
      "(\u001b[0;36mgwylm.calchlm\u001b[0m)>> \u001b[0;33mThe user should note that there is no minus sign used in front of the double time integral for strain (i.e. Eq 4 of arxiv:1006.1632). This differs from Eq 3.4 of arxiv:0707.4654v3. The net effect is a rotation of the overall polarization of pi degrees. The user should also note that there is no minus sign applied to h_cross meaning that the user must be mindful to write h_pluss-1j*h_cross when appropriate.\u001b[0m\n",
      "(\u001b[0;36mcalchlm\u001b[0m)>> \u001b[0;35mw32 = m*w22/2 = 0.057949\u001b[0m\u001b[0;33m (this is the lower frequency used for FFI method [arxiv:1006.1632v3])\u001b[0m\n",
      "(\u001b[0;36mgwylm.calchlm\u001b[0m)>> \u001b[0;33mThe user should note that there is no minus sign used in front of the double time integral for strain (i.e. Eq 4 of arxiv:1006.1632). This differs from Eq 3.4 of arxiv:0707.4654v3. The net effect is a rotation of the overall polarization of pi degrees. The user should also note that there is no minus sign applied to h_cross meaning that the user must be mindful to write h_pluss-1j*h_cross when appropriate.\u001b[0m\n",
      "(\u001b[0;36mcalchlm\u001b[0m)>> \u001b[0;35mw44 = m*w22/2 = 0.115897\u001b[0m\u001b[0;33m (this is the lower frequency used for FFI method [arxiv:1006.1632v3])\u001b[0m\n",
      "(\u001b[0;36mgwylm.calchlm\u001b[0m)>> \u001b[0;33mThe user should note that there is no minus sign used in front of the double time integral for strain (i.e. Eq 4 of arxiv:1006.1632). This differs from Eq 3.4 of arxiv:0707.4654v3. The net effect is a rotation of the overall polarization of pi degrees. The user should also note that there is no minus sign applied to h_cross meaning that the user must be mindful to write h_pluss-1j*h_cross when appropriate.\u001b[0m\n",
      "(\u001b[0;36mcalchlm\u001b[0m)>> \u001b[0;35mw43 = m*w22/2 = 0.086923\u001b[0m\u001b[0;33m (this is the lower frequency used for FFI method [arxiv:1006.1632v3])\u001b[0m\n",
      "(\u001b[0;36mgwylm.calchlm\u001b[0m)>> \u001b[0;33mThe user should note that there is no minus sign used in front of the double time integral for strain (i.e. Eq 4 of arxiv:1006.1632). This differs from Eq 3.4 of arxiv:0707.4654v3. The net effect is a rotation of the overall polarization of pi degrees. The user should also note that there is no minus sign applied to h_cross meaning that the user must be mindful to write h_pluss-1j*h_cross when appropriate.\u001b[0m\n",
      "(\u001b[0;36mcalchlm\u001b[0m)>> \u001b[0;35mw55 = m*w22/2 = 0.144871\u001b[0m\u001b[0;33m (this is the lower frequency used for FFI method [arxiv:1006.1632v3])\u001b[0m\n",
      "(\u001b[0;36mgwylm.calchlm\u001b[0m)>> \u001b[0;33mThe user should note that there is no minus sign used in front of the double time integral for strain (i.e. Eq 4 of arxiv:1006.1632). This differs from Eq 3.4 of arxiv:0707.4654v3. The net effect is a rotation of the overall polarization of pi degrees. The user should also note that there is no minus sign applied to h_cross meaning that the user must be mindful to write h_pluss-1j*h_cross when appropriate.\u001b[0m\n"
     ]
    }
   ],
   "source": [
    "# Load simulation data\n",
    "a = A[0]\n",
    "# y = gwylm( a, lm=[(2,2)], verbose=True )\n",
    "y = gwylm( a, lm=[(2,2),(3,3),(3,2),(4,4),(4,3),(5,5)], verbose=True )"
   ]
  },
  {
   "cell_type": "code",
   "execution_count": 24,
   "metadata": {
    "ExecuteTime": {
     "end_time": "2017-08-21T08:33:21.603505Z",
     "start_time": "2017-08-21T08:33:21.385216"
    },
    "collapsed": false
   },
   "outputs": [
    {
     "name": "stdout",
     "output_type": "stream",
     "text": [
      "(\u001b[0;36mringdown\u001b[0m)>> Time will be listed relative to the peak of \u001b[0;36mluminosity\u001b[0m.\n"
     ]
    }
   ],
   "source": [
    "#\n",
    "yrd = y.ringdown(T0=10,use_peak_strain=False,verbose=True)"
   ]
  },
  {
   "cell_type": "code",
   "execution_count": 25,
   "metadata": {
    "ExecuteTime": {
     "end_time": "2017-08-21T08:33:21.641518Z",
     "start_time": "2017-08-21T08:33:21.606387"
    },
    "collapsed": false
   },
   "outputs": [],
   "source": [
    "# Define physical parameters for LAL comparison\n",
    "M_Sol = 50\n",
    "Mf_Sol = 1.00002821*M_Sol * y.mf\n",
    "D_Mpc = 150\n",
    "inclination = 0\n",
    "fmin = 20\n",
    "phi_ref = 0\n",
    "#\n",
    "M = M_Sol*MSUN_SI\n",
    "Mf = Mf_Sol*MSUN_SI\n",
    "D = D_Mpc*1.0e6*PC_SI\n",
    "#\n",
    "t_code = yrd.lm[2,2]['strain'].t\n",
    "deltaT = physt( diff(t_code)[0], M_Sol )\n",
    "xf = y.xf\n",
    "eta = y.eta"
   ]
  },
  {
   "cell_type": "markdown",
   "metadata": {},
   "source": [
    "### Spot check final mass fit "
   ]
  },
  {
   "cell_type": "code",
   "execution_count": 26,
   "metadata": {
    "ExecuteTime": {
     "end_time": "2017-08-21T08:33:21.678138Z",
     "start_time": "2017-08-21T08:33:21.644652"
    },
    "collapsed": false
   },
   "outputs": [
    {
     "name": "stdout",
     "output_type": "stream",
     "text": [
      ">> From LAL UIB Fit: Mf =  0.961212591868\n",
      ">> From NR metadata: Mf =  0.961196467981\n",
      ">> Estimated initial mass: M_Sol =  50.00057175\n",
      ">> Desired initial mass  : M_Sol =  50\n"
     ]
    }
   ],
   "source": [
    "print '>> From LAL UIB Fit: Mf = ',1-lalsim.E_rad_nonspinning_UIB2016(eta)\n",
    "print '>> From NR metadata: Mf = ',y.mf\n",
    "print '>> Estimated initial mass: M_Sol = ', lalsim.Mf_to_M_nonspinning_UIB2016(eta, Mf_Sol)\n",
    "print '>> Desired initial mass  : M_Sol = ', M_Sol"
   ]
  },
  {
   "cell_type": "markdown",
   "metadata": {
    "ExecuteTime": {
     "end_time": "2017-08-10T14:38:29.578130Z",
     "start_time": "2017-08-10T14:38:29.542377"
    }
   },
   "source": [
    "### Directly compare amplitude functions"
   ]
  },
  {
   "cell_type": "code",
   "execution_count": 27,
   "metadata": {
    "ExecuteTime": {
     "end_time": "2017-08-21T08:33:21.722646Z",
     "start_time": "2017-08-21T08:33:21.680495"
    },
    "collapsed": false
   },
   "outputs": [
    {
     "name": "stdout",
     "output_type": "stream",
     "text": [
      ">> From LAL MMRDNS Fit: A220 =  (-0.203841104762-0.05886848463j)\n",
      ">> From PY  MMRDNS Fit: A220 =  (-0.203841104762-0.05886848463j)\n",
      ">> From RAWPY      Fit: A220 =  (-0.203841104762-0.05886848463j)\n",
      "## Error (%) =  0.0\n",
      "---\n",
      ">> From LAL MMRDNS Fit: A221 =  (0.0303219912567-0.0321751333749j)\n",
      ">> From PY  MMRDNS Fit: A221 =  (0.0303219912567-0.0321751333749j)\n",
      ">> From RAWPY      Fit: A221 =  (0.0303219912567-0.0321751333749j)\n",
      "## Error (%) =  0.0\n",
      "---\n",
      ">> From LAL MMRDNS Fit: A210 =  (0.0182007119949+0.0216813061027j)\n",
      ">> From PY  MMRDNS Fit: A210 =  (0.0182007119949+0.0216813061027j)\n",
      ">> From RAWPY      Fit: A210 =  (0.0182007119949+0.0216813061027j)\n",
      "## Error (%) =  0.0\n",
      "---\n",
      ">> From LAL MMRDNS Fit: A330 =  (-0.0288318057181+0.0252304620238j)\n",
      ">> From PY  MMRDNS Fit: A330 =  (-0.0288318057181+0.0252304620238j)\n",
      ">> From RAWPY      Fit: A330 =  (-0.0288318057181+0.0252304620238j)\n",
      "## Error (%) =  0.0\n",
      "---\n",
      ">> From LAL MMRDNS Fit: A331 =  (-0.00257931054392-0.0126258545335j)\n",
      ">> From PY  MMRDNS Fit: A331 =  (-0.00257931054392-0.0126258545335j)\n",
      ">> From RAWPY      Fit: A331 =  (-0.00257931054392-0.0126258545335j)\n",
      "## Error (%) =  0.0\n",
      "---\n",
      ">> From LAL MMRDNS Fit: A320 =  (-0.00180747349436+0.000865373574824j)\n",
      ">> From PY  MMRDNS Fit: A320 =  (-0.00180747349436+0.000865373574824j)\n",
      ">> From RAWPY      Fit: A320 =  (-0.00180747349436+0.000865373574824j)\n",
      "## Error (%) =  0.0\n",
      "---\n",
      ">> From LAL MMRDNS Fit: A440 =  (0.00107046327225+0.00259373838381j)\n",
      ">> From PY  MMRDNS Fit: A440 =  (0.00107046327225+0.00259373838381j)\n",
      ">> From RAWPY      Fit: A440 =  (0.00107046327225+0.00259373838381j)\n",
      "## Error (%) =  0.0\n",
      "---\n",
      ">> From LAL MMRDNS Fit: A430 =  (-0.00104650777279+0.00175609364097j)\n",
      ">> From PY  MMRDNS Fit: A430 =  (-0.00104650777279+0.00175609364097j)\n",
      ">> From RAWPY      Fit: A430 =  (-0.00104650777279+0.00175609364097j)\n",
      "## Error (%) =  0.0\n",
      "---\n",
      ">> From LAL MMRDNS Fit: A550 =  (-0.000842291464363-0.0025250798095j)\n",
      ">> From PY  MMRDNS Fit: A550 =  (-0.000842291464363-0.0025250798095j)\n",
      ">> From RAWPY      Fit: A550 =  (-0.000842291464363-0.0025250798095j)\n",
      "## Error (%) =  0.0\n",
      "---\n"
     ]
    }
   ],
   "source": [
    "from kerr.formula.mmrdns_amplitudes import A_strain as Afitraw\n",
    "for l,m,n in ns.lmn:\n",
    "    Alal = lalsim.MMRDNSAmplitudeOverOmegaSquared(eta, l, m, n)\n",
    "    Apy  = ns.Afit(l, m, n, eta)\n",
    "    print '>> From LAL MMRDNS Fit: A%i%i%i = '%(l,m,n),Alal\n",
    "    print '>> From PY  MMRDNS Fit: A%i%i%i = '%(l,m,n),Apy\n",
    "    print '>> From RAWPY      Fit: A%i%i%i = '%(l,m,n), Afitraw[l,m,n](eta).conj()\n",
    "    print '## Error (%) = ',100*abs((Alal-Apy)/abs(Apy))\n",
    "    print '---'"
   ]
  },
  {
   "cell_type": "markdown",
   "metadata": {},
   "source": [
    "## Compare methods for Ringdown Frequencies and Separation Constants"
   ]
  },
  {
   "cell_type": "code",
   "execution_count": 28,
   "metadata": {
    "ExecuteTime": {
     "end_time": "2017-08-21T08:33:21.757206Z",
     "start_time": "2017-08-21T08:33:21.726132"
    },
    "collapsed": false
   },
   "outputs": [
    {
     "data": {
      "text/plain": [
       "(0.37367168446509785-0.088962315683355j)"
      ]
     },
     "execution_count": 28,
     "metadata": {},
     "output_type": "execute_result"
    }
   ],
   "source": [
    "lalsim.QNM_CW(0,2,2,0)\n",
    "# plot( lalsim.JF_DATA, lalsim.SC220REAL_DATA )"
   ]
  },
  {
   "cell_type": "code",
   "execution_count": 29,
   "metadata": {
    "ExecuteTime": {
     "end_time": "2017-08-21T08:33:21.874263Z",
     "start_time": "2017-08-21T08:33:21.760414"
    },
    "collapsed": false
   },
   "outputs": [
    {
     "name": "stdout",
     "output_type": "stream",
     "text": [
      "---\n",
      ">> From LAL: cw220 = (0.502108717456-0.0831956587184j)\t(Polynomial Fit -- Conjugate)\n",
      ">> From  PY: cw220 = (0.502108717464-0.0831956587169j)\t(Leaver's Method)\n",
      "## Error (%) =  1.72409441909e-09\n",
      "\\\\ From LAL: sc220 = (3.09372332047+0.163022234708j)\t(Polynomial Fit)\n",
      "\\\\ From  PY: sc220 = (3.09372332043+0.163022234703j)\t(Leaver's Method)\n",
      "## Error (%) =  1.29669413828e-09\n",
      "---\n",
      ">> From LAL: cw221 = (0.488488079331-0.251969486286j)\t(Polynomial Fit -- Conjugate)\n",
      ">> From  PY: cw221 = (0.488488079339-0.251969486282j)\t(Leaver's Method)\n",
      "## Error (%) =  1.76089134394e-09\n",
      "\\\\ From LAL: sc221 = (3.13765202788+0.491450024257j)\t(Polynomial Fit)\n",
      "\\\\ From  PY: sc221 = (3.13765202783+0.491450024241j)\t(Leaver's Method)\n",
      "## Error (%) =  1.4463041727e-09\n",
      "---\n",
      ">> From LAL: cw210 = (0.440036730955-0.0840823603917j)\t(Polynomial Fit -- Conjugate)\n",
      ">> From  PY: cw210 = (0.440036730958-0.0840823603904j)\t(Leaver's Method)\n",
      "## Error (%) =  6.84156813613e-10\n",
      "\\\\ From LAL: sc210 = (3.59159084258+0.0870409534668j)\t(Polynomial Fit)\n",
      "\\\\ From  PY: sc210 = (3.59159084257+0.0870409534652j)\t(Leaver's Method)\n",
      "## Error (%) =  2.30661819351e-10\n",
      "---\n",
      ">> From LAL: cw330 = (0.798321698948-0.0856984581672j)\t(Polynomial Fit -- Conjugate)\n",
      ">> From  PY: cw330 = (0.79832169896-0.0856984581653j)\t(Leaver's Method)\n",
      "## Error (%) =  1.5015977249e-09\n",
      "\\\\ From LAL: sc330 = (8.87629115945+0.135466225837j)\t(Polynomial Fit)\n",
      "\\\\ From  PY: sc330 = (8.8762911594+0.135466225834j)\t(Leaver's Method)\n",
      "## Error (%) =  5.53367715233e-10\n",
      "---\n",
      ">> From LAL: cw331 = (0.790736755483-0.258248551859j)\t(Polynomial Fit -- Conjugate)\n",
      ">> From  PY: cw331 = (0.790736755494-0.258248551855j)\t(Leaver's Method)\n",
      "## Error (%) =  1.45268072389e-09\n",
      "\\\\ From LAL: sc331 = (8.90159050203+0.40713843291j)\t(Polynomial Fit)\n",
      "\\\\ From  PY: sc331 = (8.90159050198+0.407138432896j)\t(Leaver's Method)\n",
      "## Error (%) =  5.8416696813e-10\n",
      "---\n",
      ">> From LAL: cw320 = (0.730547070673-0.0866795983841j)\t(Polynomial Fit -- Conjugate)\n",
      ">> From  PY: cw320 = (0.730547070678-0.086679598383j)\t(Leaver's Method)\n",
      "## Error (%) =  7.91907301706e-10\n",
      "\\\\ From LAL: sc320 = (9.30934929918+0.0922184072184j)\t(Polynomial Fit)\n",
      "\\\\ From  PY: sc320 = (9.30934929917+0.0922184072154j)\t(Leaver's Method)\n",
      "## Error (%) =  1.71890606186e-10\n",
      "---\n",
      ">> From LAL: cw440 = (1.08137704576-0.0871980753935j)\t(Polynomial Fit -- Conjugate)\n",
      ">> From  PY: cw440 = (1.08137704577-0.0871980753922j)\t(Leaver's Method)\n",
      "## Error (%) =  1.35145066118e-09\n",
      "\\\\ From LAL: sc440 = (16.7487583186+0.115984864845j)\t(Polynomial Fit)\n",
      "\\\\ From  PY: sc440 = (16.7487583185+0.115984864841j)\t(Leaver's Method)\n",
      "## Error (%) =  3.43180417716e-10\n",
      "---\n",
      ">> From LAL: cw430 = (1.00954131183-0.0878816341549j)\t(Polynomial Fit -- Conjugate)\n",
      ">> From  PY: cw430 = (1.00954131184-0.0878816341539j)\t(Leaver's Method)\n",
      "## Error (%) =  8.38303623203e-10\n",
      "\\\\ From LAL: sc430 = (17.1043484862+0.0903493045757j)\t(Polynomial Fit)\n",
      "\\\\ From  PY: sc430 = (17.1043484862+0.0903493045553j)\t(Leaver's Method)\n",
      "## Error (%) =  1.84746910763e-10\n",
      "---\n",
      ">> From LAL: cw550 = (1.35809284311-0.0880402998218j)\t(Polynomial Fit -- Conjugate)\n",
      ">> From  PY: cw550 = (1.35809284313-0.0880402998207j)\t(Leaver's Method)\n",
      "## Error (%) =  1.32423707945e-09\n",
      "\\\\ From LAL: sc550 = (26.6630199725+0.10138528168j)\t(Polynomial Fit)\n",
      "\\\\ From  PY: sc550 = (26.6630199725+0.101385281677j)\t(Leaver's Method)\n",
      "## Error (%) =  2.4823445906e-10\n"
     ]
    }
   ],
   "source": [
    "#\n",
    "for l,m,n in ns.lmn:\n",
    "\n",
    "    #\n",
    "    # kappa = lalsim.KAPPA(xf,l,m)\n",
    "    # cwlal = array([lalsim.complexOmega(kappa,l,m,n)]).conj()[0]\n",
    "    # sclal = lalsim.separationConstant( kappa, l, m, n )\n",
    "    cwlal = lalsim.QNM_CW(xf,l,m,n)\n",
    "    sclal = lalsim.QNM_SC(xf,l,m,n)\n",
    "    \n",
    "    \n",
    "\n",
    "    #\n",
    "    z = (l,m,n)\n",
    "    cwpy,scpy = leaver(xf,l,m,n)\n",
    "\n",
    "    #\n",
    "    print '---'\n",
    "    print '>> From LAL: cw%i%i%i = %s\\t(Polynomial Fit -- Conjugate)'%(l,m,n,cwlal)\n",
    "    print '>> From  PY: cw%i%i%i = %s\\t(Leaver\\'s Method)'%(l,m,n,cwpy)\n",
    "    print '## Error (%) = ',100*abs((cwlal-cwpy)/abs(cwpy))\n",
    "    print '\\\\\\\\ From LAL: sc%i%i%i = %s\\t(Polynomial Fit)'%(l,m,n,sclal)\n",
    "    print '\\\\\\\\ From  PY: sc%i%i%i = %s\\t(Leaver\\'s Method)'%(l,m,n,scpy)\n",
    "    print '## Error (%) = ',100*abs((sclal-scpy)/abs(scpy))"
   ]
  },
  {
   "cell_type": "markdown",
   "metadata": {},
   "source": [
    "## Compare ALPHA, BETA & GAMMA functions for Spheroidal Harmonic calculation"
   ]
  },
  {
   "cell_type": "code",
   "execution_count": 30,
   "metadata": {
    "ExecuteTime": {
     "end_time": "2017-08-21T08:33:21.951475Z",
     "start_time": "2017-08-21T08:33:21.877405"
    },
    "collapsed": false
   },
   "outputs": [
    {
     "name": "stdout",
     "output_type": "stream",
     "text": [
      "1 (0.107501381291-0.0181904803102j)\n",
      "2 (-0.0205326975429+0.00525801375502j)\n",
      "3 (0.00321907954383-0.00111488150316j)\n",
      "4 (-0.000432436054747+0.000190957535319j)\n",
      "5 (5.10648526894e-05-2.77663143578e-05j)\n",
      "6 (-5.39040454888e-06+3.5318555586e-06j)\n",
      "7 (5.14622220311e-07-4.00944338012e-07j)\n",
      "8 (-4.48069229947e-08+4.1207056373e-08j)\n",
      "9 (3.578972632e-09-3.87549418298e-09j)\n",
      "10 (-2.63288110554e-10+3.36343044452e-10j)\n",
      "11 (1.7873190625e-11-2.71177359346e-11j)\n",
      "12 (-1.11996093245e-12+2.04226188159e-12j)\n",
      "13 (6.42920270621e-14-1.44370620008e-13j)\n"
     ]
    }
   ],
   "source": [
    "#\n",
    "l,m,n, = 4,4,0\n",
    "\n",
    "u = array( [cos(0)] )\n",
    "\n",
    "#\n",
    "kappa = lalsim.KAPPA(xf,l,m)\n",
    "cw = lalsim.QNM_CW(xf,l,m,n) # array([lalsim.complexOmega(kappa,l,m,n)]).conj()[0]\n",
    "Alm = lalsim.QNM_SC(xf,l,m,n) # lalsim.separationConstant( kappa, l, m, n )\n",
    "    \n",
    "#\n",
    "# cw,Alm = leaver(xf,l,m,n)\n",
    "aw = cw*xf\n",
    "\n",
    "s = -2\n",
    "\n",
    "a0 = 1.0 \n",
    "a1 = -lalsim.BETA_RD(m,s,0,aw,Alm)/lalsim.ALPHA_RD(m,s,0)\n",
    "\n",
    "# the sum part\n",
    "done = False\n",
    "Y = a0*ones(u.shape,dtype=complex256)\n",
    "Y = Y + a1*(1.0+u)\n",
    "k = 1\n",
    "kmax = 2e3\n",
    "err,yy = [],[]\n",
    "et2=1e-8\n",
    "max_a = max(abs(array([a0,a1])))\n",
    "while not done:\n",
    "    k += 1\n",
    "    j = k-1\n",
    "    a2 = -1.0*( lalsim.BETA_RD(m,s,j,aw,Alm)*a1 + lalsim.GAMMA_RD(m,s,j,aw)*a0 ) / lalsim.ALPHA_RD(m,s,j)\n",
    "    dY = a2*(1.0+u)**k\n",
    "    Y += dY\n",
    "    xx = max(abs( dY ))\n",
    "    print j, a2\n",
    "\n",
    "    done = (k>=l) and ( (xx<et2 and k>30) or k>kmax )\n",
    "    done = done or xx<et2\n",
    "    a0 = a1\n",
    "    a1 = a2\n",
    "\n",
    "# raise"
   ]
  },
  {
   "cell_type": "markdown",
   "metadata": {},
   "source": [
    "#### ALPHA"
   ]
  },
  {
   "cell_type": "code",
   "execution_count": 31,
   "metadata": {
    "ExecuteTime": {
     "end_time": "2017-08-21T08:33:22.005686Z",
     "start_time": "2017-08-21T08:33:21.954950"
    },
    "collapsed": false
   },
   "outputs": [
    {
     "name": "stdout",
     "output_type": "stream",
     "text": [
      "---\n",
      ">> From LAL: alpha220 =  (-42+0j)\n",
      ">> From  PY: alpha220 =  -42.0\n",
      "## Error (%) =  0.0\n",
      "---\n",
      ">> From LAL: alpha221 =  (-42+0j)\n",
      ">> From  PY: alpha221 =  -42.0\n",
      "## Error (%) =  0.0\n",
      "---\n",
      ">> From LAL: alpha210 =  (-36+0j)\n",
      ">> From  PY: alpha210 =  -36.0\n",
      "## Error (%) =  0.0\n",
      "---\n",
      ">> From LAL: alpha330 =  (-48+0j)\n",
      ">> From  PY: alpha330 =  -48.0\n",
      "## Error (%) =  0.0\n",
      "---\n",
      ">> From LAL: alpha331 =  (-48+0j)\n",
      ">> From  PY: alpha331 =  -48.0\n",
      "## Error (%) =  0.0\n",
      "---\n",
      ">> From LAL: alpha320 =  (-42+0j)\n",
      ">> From  PY: alpha320 =  -42.0\n",
      "## Error (%) =  0.0\n",
      "---\n",
      ">> From LAL: alpha440 =  (-54+0j)\n",
      ">> From  PY: alpha440 =  -54.0\n",
      "## Error (%) =  0.0\n",
      "---\n",
      ">> From LAL: alpha430 =  (-48+0j)\n",
      ">> From  PY: alpha430 =  -48.0\n",
      "## Error (%) =  0.0\n",
      "---\n",
      ">> From LAL: alpha550 =  (-60+0j)\n",
      ">> From  PY: alpha550 =  -60.0\n",
      "## Error (%) =  0.0\n"
     ]
    }
   ],
   "source": [
    "#\n",
    "p = 2\n",
    "s = -2\n",
    "\n",
    "#\n",
    "for l,m,n in ns.lmn:\n",
    "    \n",
    "    #\n",
    "    cw = lalsim.QNM_CW(xf,l,m,n) \n",
    "    Alm = lalsim.QNM_SC(xf,l,m,n) \n",
    "    aw = cw*xf\n",
    "\n",
    "    #\n",
    "    alal = lalsim.ALPHA_RD(m,s,p)\n",
    "\n",
    "    #\n",
    "    z = (l,m,n)\n",
    "    k1 = 0.5*abs(m-s)\n",
    "    k2 = 0.5*abs(m+s)\n",
    "    apy = -2.0*(p+1.0)*(p+2.0*k1+1.0)\n",
    "\n",
    "    #\n",
    "    print '---'\n",
    "    print '>> From LAL: alpha%i%i%i = '%(l,m,n),alal\n",
    "    print '>> From  PY: alpha%i%i%i = '%(l,m,n),apy\n",
    "    print '## Error (%) = ',100*abs((alal-apy)/abs(apy))"
   ]
  },
  {
   "cell_type": "markdown",
   "metadata": {},
   "source": [
    "#### BETA"
   ]
  },
  {
   "cell_type": "code",
   "execution_count": 32,
   "metadata": {
    "ExecuteTime": {
     "end_time": "2017-08-21T08:33:22.064015Z",
     "start_time": "2017-08-21T08:33:22.009322"
    },
    "collapsed": false
   },
   "outputs": [
    {
     "name": "stdout",
     "output_type": "stream",
     "text": [
      "---\n",
      ">> From LAL: beta220 =  (29.9256365999+1.01029298224j)\n",
      ">> From  PY: beta220 =  (29.9256365999+1.01029298224j)\n",
      "## Error (%) =  0.0\n",
      "---\n",
      ">> From LAL: beta221 =  (30.0957063103+3.05942956515j)\n",
      ">> From  PY: beta221 =  (30.0957063103+3.05942956515j)\n",
      "## Error (%) =  0.0\n",
      "---\n",
      ">> From LAL: beta210 =  (30.8502987809+0.989904446825j)\n",
      ">> From  PY: beta210 =  (30.8502987809+0.989904446825j)\n",
      "## Error (%) =  0.0\n",
      "---\n",
      ">> From LAL: beta330 =  (32.9364160424+1.19970560443j)\n",
      ">> From  PY: beta330 =  (32.9364160424+1.19970560443j)\n",
      "## Error (%) =  0.0\n",
      "---\n",
      ">> From LAL: beta331 =  (33.0523248573+3.61482135353j)\n",
      ">> From  PY: beta331 =  (33.0523248573+3.61482135353j)\n",
      "## Error (%) =  0.0\n",
      "---\n",
      ">> From LAL: beta320 =  (20.4682810594+1.14561726957j)\n",
      ">> From  PY: beta320 =  (20.4682810594+1.14561726957j)\n",
      "## Error (%) =  0.0\n",
      "---\n",
      ">> From LAL: beta440 =  (35.274876059+1.37043336829j)\n",
      ">> From  PY: beta440 =  (35.274876059+1.37043336829j)\n",
      "## Error (%) =  0.0\n",
      "---\n",
      ">> From LAL: beta430 =  (21.4003960146+1.29325986113j)\n",
      ">> From  PY: beta430 =  (21.4003960146+1.29325986113j)\n",
      "## Error (%) =  0.0\n",
      "---\n",
      ">> From LAL: beta550 =  (36.92085978+1.52807392831j)\n",
      ">> From  PY: beta550 =  (36.92085978+1.52807392831j)\n",
      "## Error (%) =  0.0\n"
     ]
    }
   ],
   "source": [
    "#\n",
    "p = 4\n",
    "s = -2\n",
    "\n",
    "#\n",
    "for l,m,n in ns.lmn:\n",
    "    \n",
    "    #\n",
    "    cw = lalsim.QNM_CW(xf,l,m,n) \n",
    "    Alm = lalsim.QNM_SC(xf,l,m,n) \n",
    "    aw = cw*xf\n",
    "\n",
    "    #\n",
    "    blal = lalsim.BETA_RD(m,s,p,aw,Alm)\n",
    "\n",
    "    #\n",
    "    z = (l,m,n)\n",
    "    k1 = 0.5*abs(m-s)\n",
    "    k2 = 0.5*abs(m+s)\n",
    "    bpy = p*(p-1.0)+2.0*p*(k1+k2+1.0-2.0*aw) -( 2.0*aw*(2.0*k1+s+1.0)-(k1+k2)*(k1+k2+1.0) ) - ( aw*aw + s*(s+1.0) + Alm)\n",
    "\n",
    "    #\n",
    "    print '---'\n",
    "    print '>> From LAL: beta%i%i%i = '%(l,m,n),blal\n",
    "    print '>> From  PY: beta%i%i%i = '%(l,m,n),bpy\n",
    "    print '## Error (%) = ',100*abs((blal-bpy)/abs(bpy))"
   ]
  },
  {
   "cell_type": "markdown",
   "metadata": {},
   "source": [
    "#### GAMMA"
   ]
  },
  {
   "cell_type": "code",
   "execution_count": 33,
   "metadata": {
    "ExecuteTime": {
     "end_time": "2017-08-21T08:33:22.114953Z",
     "start_time": "2017-08-21T08:33:22.067114"
    },
    "collapsed": false
   },
   "outputs": [
    {
     "name": "stdout",
     "output_type": "stream",
     "text": [
      "---\n",
      ">> From LAL: gamma220 =  (2.50377379471-0.414856589601j)\n",
      ">> From  PY: gamma220 =  (2.50377379471-0.414856589601j)\n",
      "## Error (%) =  0.0\n",
      "---\n",
      ">> From LAL: gamma221 =  (2.43585424737-1.25645019673j)\n",
      ">> From  PY: gamma221 =  (2.43585424737-1.25645019673j)\n",
      "## Error (%) =  0.0\n",
      "---\n",
      ">> From LAL: gamma210 =  (2.19425076158-0.419278142815j)\n",
      ">> From  PY: gamma210 =  (2.19425076158-0.419278142815j)\n",
      "## Error (%) =  0.0\n",
      "---\n",
      ">> From LAL: gamma330 =  (4.97605618087-0.534171052867j)\n",
      ">> From  PY: gamma330 =  (4.97605618087-0.534171052867j)\n",
      "## Error (%) =  0.0\n",
      "---\n",
      ">> From LAL: gamma331 =  (4.92877811633-1.60970108212j)\n",
      ">> From  PY: gamma331 =  (4.92877811633-1.60970108212j)\n",
      "## Error (%) =  0.0\n",
      "---\n",
      ">> From LAL: gamma320 =  (3.64288558983-0.432229314937j)\n",
      ">> From  PY: gamma320 =  (3.64288558983-0.432229314937j)\n",
      "## Error (%) =  0.0\n",
      "---\n",
      ">> From LAL: gamma440 =  (8.08845798301-0.652222064254j)\n",
      ">> From  PY: gamma440 =  (8.08845798301-0.652222064254j)\n",
      "## Error (%) =  0.0\n",
      "---\n",
      ">> From LAL: gamma430 =  (6.29261899206-0.547779108846j)\n",
      ">> From  PY: gamma430 =  (6.29261899206-0.547779108846j)\n",
      "## Error (%) =  0.0\n",
      "---\n",
      ">> From LAL: gamma550 =  (11.8512684962-0.76827533329j)\n",
      ">> From  PY: gamma550 =  (11.8512684962-0.76827533329j)\n",
      "## Error (%) =  0.0\n"
     ]
    }
   ],
   "source": [
    "#\n",
    "p = 4\n",
    "s = -2\n",
    "\n",
    "#\n",
    "for l,m,n in ns.lmn:\n",
    "    \n",
    "    #\n",
    "    cw = lalsim.QNM_CW(xf,l,m,n) \n",
    "    Alm = lalsim.QNM_SC(xf,l,m,n) \n",
    "    aw = cw*xf\n",
    "\n",
    "    #\n",
    "    glal = lalsim.GAMMA_RD(m,s,p,aw)\n",
    "\n",
    "    #\n",
    "    z = (l,m,n)\n",
    "    k1 = 0.5*abs(m-s)\n",
    "    k2 = 0.5*abs(m+s)\n",
    "    gpy = 2.0*aw*(p+k1+k2+s)\n",
    "\n",
    "    #\n",
    "    print '---'\n",
    "    print '>> From LAL: gamma%i%i%i = '%(l,m,n),glal\n",
    "    print '>> From  PY: gamma%i%i%i = '%(l,m,n),gpy\n",
    "    print '## Error (%) = ',100*abs((glal-gpy)/abs(gpy))"
   ]
  },
  {
   "cell_type": "markdown",
   "metadata": {},
   "source": [
    "## Compare Spheroidal Harmonic Normalization"
   ]
  },
  {
   "cell_type": "code",
   "execution_count": 34,
   "metadata": {
    "ExecuteTime": {
     "end_time": "2017-08-21T08:33:22.258245Z",
     "start_time": "2017-08-21T08:33:22.119512"
    },
    "collapsed": false
   },
   "outputs": [
    {
     "name": "stdout",
     "output_type": "stream",
     "text": [
      "---\n",
      ">> From LAL: N220 =  6.63245304896\n",
      ">> From  PY: N220 =  (6.63276432887+0j)\n",
      "## Error (%) =  0.00469306453256\n",
      "---\n",
      ">> From LAL: N221 =  6.61176625895\n",
      ">> From  PY: N221 =  (6.61248563173+0j)\n",
      "## Error (%) =  0.0108790070992\n",
      "---\n",
      ">> From LAL: N210 =  3.09113174966\n",
      ">> From  PY: N210 =  (3.09059758042+0j)\n",
      "## Error (%) =  0.0172836879562\n",
      "---\n",
      ">> From LAL: N330 =  3.92212614672\n",
      ">> From  PY: N330 =  (3.9219911798+0j)\n",
      "## Error (%) =  0.00344128581757\n",
      "---\n",
      ">> From LAL: N331 =  3.92134759342\n",
      ">> From  PY: N331 =  (3.92137230404+0j)\n",
      "## Error (%) =  0.000630152534194\n",
      "---\n",
      ">> From LAL: N320 =  0.904845861609\n",
      ">> From  PY: N320 =  (0.904361025994+0j)\n",
      "## Error (%) =  0.0536108479992\n",
      "---\n",
      ">> From LAL: N440 =  2.69375282164\n",
      ">> From  PY: N440 =  (2.69340143041+0j)\n",
      "## Error (%) =  0.0130463742009\n",
      "---\n",
      ">> From LAL: N430 =  0.607198742661\n",
      ">> From  PY: N430 =  (0.606614065145+0j)\n",
      "## Error (%) =  0.0963837717574\n",
      "---\n",
      ">> From LAL: N550 =  1.97144927458\n",
      ">> From  PY: N550 =  (1.97081389491+0j)\n",
      "## Error (%) =  0.032239455387\n"
     ]
    }
   ],
   "source": [
    "#\n",
    "from kerr import ssprod\n",
    "#\n",
    "for l,m,n in ns.lmn:\n",
    "\n",
    "    #\n",
    "    kappa = lalsim.KAPPA(xf,l,m)\n",
    "    Nlal = lalsim.spheroidalHarmonicNormalization(kappa,l,m,n)\n",
    "\n",
    "    #\n",
    "    z = (l,m,n)\n",
    "    Npy = sqrt( ssprod(xf,z,z) )\n",
    "\n",
    "    #\n",
    "    print '---'\n",
    "    print '>> From LAL: N%i%i%i = '%(l,m,n),Nlal\n",
    "    print '>> From  PY: N%i%i%i = '%(l,m,n),Npy\n",
    "    print '## Error (%) = ',100*abs((Nlal-Npy)/abs(Npy))"
   ]
  },
  {
   "cell_type": "markdown",
   "metadata": {},
   "source": [
    "## Compare Spheroidal Harmonic Functions"
   ]
  },
  {
   "cell_type": "code",
   "execution_count": 35,
   "metadata": {
    "ExecuteTime": {
     "end_time": "2017-08-21T08:33:22.644820Z",
     "start_time": "2017-08-21T08:33:22.261101"
    },
    "collapsed": false
   },
   "outputs": [
    {
     "name": "stdout",
     "output_type": "stream",
     "text": [
      "---\n",
      ">> From LAL: S220(theta,phi) =  (0.675927122242-0.0139392653913j)\n",
      ">> From  PY: S220(theta,phi) =  (0.675895400556-0.0139386112115j)\n",
      "## Error (%) =  0.00469328335023\n",
      "---\n",
      ">> From LAL: S221(theta,phi) =  (0.673125291081-0.0419308521285j)\n",
      ">> From  PY: S221(theta,phi) =  (0.673052061743-0.0419262904647j)\n",
      "## Error (%) =  0.0108801891683\n",
      "---\n",
      ">> From LAL: S210(theta,phi) =  0j\n",
      ">> From  PY: S210(theta,phi) =  0j\n",
      "## Error (%) =  nan\n",
      "---\n",
      ">> From LAL: S330(theta,phi) =  (-0-0j)\n",
      ">> From  PY: S330(theta,phi) =  (-0+0j)\n",
      "## Error (%) =  nan\n",
      "---\n",
      ">> From LAL: S331(theta,phi) =  (-0-0j)\n",
      ">> From  PY: S331(theta,phi) =  (-0+0j)\n",
      "## Error (%) =  nan\n",
      "---\n",
      ">> From LAL: S320(theta,phi) =  (0.765967157605+0.0121456300953j)\n",
      ">> From  PY: S320(theta,phi) =  (0.766377799093+0.0121521414706j)\n",
      "## Error (%) =  0.0535821221614\n",
      "---\n",
      ">> From LAL: S440(theta,phi) =  0j\n",
      ">> From  PY: S440(theta,phi) =  0j\n",
      "## Error (%) =  nan\n",
      "---\n",
      ">> From LAL: S430(theta,phi) =  (-0+0j)\n",
      ">> From  PY: S430(theta,phi) =  0j\n",
      "## Error (%) =  nan\n"
     ]
    },
    {
     "name": "stderr",
     "output_type": "stream",
     "text": [
      "/Library/Python/2.7/site-packages/ipykernel/__main__.py:15: RuntimeWarning: invalid value encountered in clongdouble_scalars\n"
     ]
    },
    {
     "name": "stdout",
     "output_type": "stream",
     "text": [
      "---\n",
      ">> From LAL: S550(theta,phi) =  (-0-0j)\n",
      ">> From  PY: S550(theta,phi) =  (-0+0j)\n",
      "## Error (%) =  nan\n"
     ]
    }
   ],
   "source": [
    "\n",
    "#\n",
    "for l,m,n in ns.lmn:\n",
    "\n",
    "    #\n",
    "    slal = lalsim.SpinWeightedSpheroidalHarmonic( xf, l, m, n, inclination, phi_ref )\n",
    "\n",
    "    #\n",
    "    spy = slm( xf,l,m,n,inclination,phi_ref,norm=True )\n",
    "\n",
    "    #\n",
    "    print '---'\n",
    "    print '>> From LAL: S%i%i%i(theta,phi) = '%(l,m,n),slal\n",
    "    print '>> From  PY: S%i%i%i(theta,phi) = '%(l,m,n),spy\n",
    "    print '## Error (%) = ',100*abs((slal-spy)/abs(spy))\n"
   ]
  },
  {
   "cell_type": "code",
   "execution_count": 36,
   "metadata": {
    "ExecuteTime": {
     "end_time": "2017-08-21T08:33:23.389586Z",
     "start_time": "2017-08-21T08:33:22.647756"
    },
    "collapsed": false
   },
   "outputs": [
    {
     "name": "stdout",
     "output_type": "stream",
     "text": [
      ">> Checking Normalization\n",
      "Python:  (1+0j)\n",
      "LAL:     (0.999739123546+0j)\n"
     ]
    },
    {
     "data": {
      "image/png": "[encoded data removed]",
      "text/plain": [
       "<matplotlib.figure.Figure at 0x10f23eed0>"
      ]
     },
     "metadata": {},
     "output_type": "display_data"
    }
   ],
   "source": [
    "\n",
    "#\n",
    "l,m,n = 4,4,0\n",
    "jf = xf\n",
    "\n",
    "#\n",
    "theta = linspace(0,pi,5e2)\n",
    "phi = 0\n",
    "\n",
    "#\n",
    "Spy = slm( jf,l,m,n,theta,phi )\n",
    "Slal = array( [ lalsim.SpinWeightedSpheroidalHarmonic( jf, l, m, n, th, phi ) for th in theta ] )\n",
    "\n",
    "#\n",
    "plot( theta, abs(Spy), label = 'Py' )\n",
    "plot( theta, abs(Slal), label = 'LAL' )\n",
    "\n",
    "#\n",
    "legend( frameon=False )\n",
    "xlabel(r'$\\theta$')\n",
    "ylabel(r'$|S_{lmn}(\\theta,\\phi)|$')\n",
    "\n",
    "#\n",
    "print '>> Checking Normalization'\n",
    "print 'Python: ', 2*pi*trapz(Spy*Spy.conj()*sin(theta),theta )\n",
    "print 'LAL:    ', 2*pi*trapz(Slal*Slal.conj()*sin(theta),theta )"
   ]
  },
  {
   "cell_type": "markdown",
   "metadata": {},
   "source": [
    "## Compare LAL and Python Models"
   ]
  },
  {
   "cell_type": "code",
   "execution_count": 37,
   "metadata": {
    "ExecuteTime": {
     "end_time": "2017-08-21T08:33:24.264079Z",
     "start_time": "2017-08-21T08:33:23.392639"
    },
    "collapsed": false
   },
   "outputs": [
    {
     "name": "stdout",
     "output_type": "stream",
     "text": [
      "0.0 3.70794823605e-05 9.55719114837e+31 0.62331465967 0.222222111111 0 0 2 2 0 4.62851637224e+24 0 0 406 0.0\n",
      "(-2.2107934089e-21-5.89366148468e-22j)\n",
      "(-2.21092435915e-21-5.8940105794e-22j)\n",
      "Error (%) = 0.005923\n",
      "0.99994077127\n"
     ]
    },
    {
     "data": {
      "image/png": "[encoded data removed]",
      "text/plain": [
       "<matplotlib.figure.Figure at 0x112055bd0>"
      ]
     },
     "metadata": {},
     "output_type": "display_data"
    }
   ],
   "source": [
    "\n",
    "#\n",
    "l,m,n = 2,2,0\n",
    "\n",
    "#\n",
    "# pyh = ns.meval_mode(l,m,n,eta)(t_code)\n",
    "pyh = physh( ns.meval_mode(l,m,n,eta)(t_code), M_Sol, D_Mpc ) * slm(xf,l,m,n,inclination,phi_ref)\n",
    "# pyh = physh( ns.meval_mode(l,m,n,eta)(t_code), M_Sol, D_Mpc )\n",
    "\n",
    "# No spheroidal harmonic scaling used here\n",
    "lah_raw = lalsim.SimRingdownGenerateSingleModeMMRDNS_time( 0.0, deltaT,Mf,xf,eta,inclination,phi_ref,l,m,n,D,0,0,len(t_code), physt(0,M_Sol) )\n",
    "print 0.0, deltaT,Mf,xf,eta,inclination,phi_ref,l,m,n,D,0,0,len(t_code), physt(0,M_Sol)\n",
    "# lah_raw = lalsim.SimRingdownGenerateSingleBareModeMMRDNS_time( 0.0, deltaT,Mf,xf,eta,l,m,n,D,0,0,len(t_code), physt(0,M_Sol) )\n",
    "lah = lah_raw.data.data\n",
    "\n",
    "#\n",
    "t = physt(t_code,M_Sol)\n",
    "\n",
    "#\n",
    "fig = figure( figsize = 6*array([2.1,1]) )\n",
    "\n",
    "#\n",
    "def plotc(t, c,color='k',alpha=1,label=None,linestyle='-'):\n",
    "    #\n",
    "    subplot(1,2,1)\n",
    "    alpha = 0.6\n",
    "    plot( t, c.real, color = color, alpha=alpha, label=label,linestyle=linestyle )\n",
    "    plot( t, c.imag, color = color, alpha=alpha,linestyle=linestyle )\n",
    "    plot( t, abs(c), color = color, alpha=alpha,linestyle=linestyle )\n",
    "    plot( t,-abs(c), color = color, alpha=alpha,linestyle=linestyle )\n",
    "    xlim( lim(t) )\n",
    "    legend( frameon=False )\n",
    "    #\n",
    "    subplot(1,2,2)\n",
    "    alpha = 0.6\n",
    "    plot( t, unwrap(angle(c)), color = color, alpha=alpha, label=label,linestyle=linestyle )\n",
    "    xlim( lim(t) )\n",
    "    legend( frameon=False )\n",
    "\n",
    "    \n",
    "plotc( t, pyh, color='b', label = 'Python',linestyle='-' )\n",
    "plotc( t, lah, color='g', label = 'LAL',linestyle='-' )\n",
    "\n",
    "\n",
    "# print abs(pyh[0])/abs(lah[0])\n",
    "# from nrutils.core.units import __physical_constants__\n",
    "# print __physical_constants__['mass_sun_secs']\n",
    "# print lal.MTSUN_SI/lal.MSUN_SI\n",
    "\n",
    "print pyh[0]\n",
    "print lah[0]\n",
    "print 'Error (%%) = %f' % ( 100*average( abs(pyh-lah)[0]/abs(lah)[0] ) )\n",
    "print abs(pyh[0]/lah[0])"
   ]
  },
  {
   "cell_type": "markdown",
   "metadata": {},
   "source": [
    "## Compare Recomposed Waveforms"
   ]
  },
  {
   "cell_type": "code",
   "execution_count": 38,
   "metadata": {
    "ExecuteTime": {
     "end_time": "2017-08-21T08:33:24.616578Z",
     "start_time": "2017-08-21T08:33:24.267207"
    },
    "collapsed": false
   },
   "outputs": [],
   "source": [
    "\n",
    "#\n",
    "yrd.align( ns.meval() ,verbose=True,plot=True)\n",
    "\n",
    "# Format NR Waveform \n",
    "hnr = physh( yrd.recompose(inclination,phi_ref,kind='strain',domain='time').wfarr, M_Sol, D_Mpc )\n",
    "\n",
    "# Eval python model \n",
    "hpy = physh( ns.meval( inclination, phi_ref, eta, kind='strain' )(t_code), M_Sol, D_Mpc )\n",
    "\n",
    "# Evaluate LAL model\n",
    "hlal_raw = lalsim.SimRingdownMMRDNS_time(0.0,deltaT,Mf,xf,eta,inclination,phi_ref,D,nonGRparams=None)\n",
    "chlal = hlal_raw[0].data.data - 1j*hlal_raw[1].data.data"
   ]
  },
  {
   "cell_type": "code",
   "execution_count": 39,
   "metadata": {
    "ExecuteTime": {
     "end_time": "2017-08-21T08:33:25.779334Z",
     "start_time": "2017-08-21T08:33:24.619133"
    },
    "collapsed": false
   },
   "outputs": [
    {
     "data": {
      "image/png": "[encoded data removed]",
      "text/plain": [
       "<matplotlib.figure.Figure at 0x10b2d0210>"
      ]
     },
     "metadata": {},
     "output_type": "display_data"
    }
   ],
   "source": [
    "#\n",
    "fig = figure( figsize=5*array([3.2,1]) )\n",
    "\n",
    "#\n",
    "def plotnr():\n",
    "    t = hnr[:,0]\n",
    "    # Plot NR Waveform\n",
    "    nr_alpha = 0.3\n",
    "    # Shift time to align with LAL verision\n",
    "    plot( t-t[0], hnr[:,1], 'k', alpha=nr_alpha )\n",
    "    plot( t-t[0], hnr[:,2], 'k', alpha=nr_alpha )\n",
    "    chnr = hnr[:,1]+1j*hnr[:,2]\n",
    "    plot( t-t[0], abs(chnr), 'k', alpha=nr_alpha, label='NR' )\n",
    "    plot( t-t[0],-abs(chnr), 'k', alpha=nr_alpha )\n",
    "    if False:\n",
    "        ll,mm = 2,2\n",
    "        hlallmraw = lalsim.SimRingdownGenerateSingleBareModeMMRDNS_time( 0.0, deltaT,M,xf,eta,ll,mm,0,D,0,0,len(t),0.0 )\n",
    "        hlal22 = sYlm(-2,ll,mm,inclination,phi_ref)*hlallmraw.data.data\n",
    "        plot( t-t[0],abs(hlal22),'--r',label='LAL (2,2,0) ONLY')\n",
    "        plot( t-t[0],-abs(hlal22),'--r' )\n",
    "    xlim( lim(t-t[0]) )\n",
    "    #\n",
    "    legend( frameon=False )\n",
    "\n",
    "#\n",
    "def plotlal():\n",
    "    alpha = 0.5\n",
    "    t = deltaT * arange( len(chlal) )\n",
    "    # Plot LAL Waveform\n",
    "    plot( t, chlal.real, 'b', alpha=alpha )\n",
    "    plot( t, chlal.imag, 'b', alpha=alpha )\n",
    "    plot( t, abs(chlal), 'b', label='MMRDNS (LAL)',alpha=alpha )\n",
    "    plot( t,-abs(chlal), 'b',alpha=alpha )\n",
    "    xlim( lim(t) )\n",
    "    #\n",
    "    legend( frameon=False )\n",
    "    \n",
    "#\n",
    "def plotpy():\n",
    "    alpha=0.90\n",
    "    color = 'k'\n",
    "    t = physt(t_code-t_code[0],M_Sol)\n",
    "    plot( t, hpy.real, '--',alpha=alpha, color=color, label='MMRDNS (PY)'  )\n",
    "    plot( t, hpy.imag, '--',alpha=alpha, color=color  )\n",
    "    plot( t, abs(hpy), '--',alpha=alpha, color=color  )\n",
    "    plot( t,-abs(hpy), '--',alpha=alpha, color=color  )\n",
    "    #\n",
    "    legend( frameon=False )\n",
    "\n",
    "#\n",
    "subplot(1,3,1)\n",
    "plotnr()\n",
    "plotpy()\n",
    "#\n",
    "subplot(1,3,2)\n",
    "plotlal()\n",
    "plotpy()\n",
    "#\n",
    "subplot(1,3,3)\n",
    "plotnr()\n",
    "plotlal()\n",
    "plotpy()\n"
   ]
  },
  {
   "cell_type": "markdown",
   "metadata": {},
   "source": [
    "## Compute Faithfulness "
   ]
  },
  {
   "cell_type": "code",
   "execution_count": null,
   "metadata": {
    "collapsed": true
   },
   "outputs": [],
   "source": []
  }
 ],
 "metadata": {
  "kernelspec": {
   "display_name": "Python [Root]",
   "language": "python",
   "name": "Python [Root]"
  },
  "language_info": {
   "codemirror_mode": {
    "name": "ipython",
    "version": 2
   },
   "file_extension": ".py",
   "mimetype": "text/x-python",
   "name": "python",
   "nbconvert_exporter": "python",
   "pygments_lexer": "ipython2",
   "version": "2.7.9"
  }
 },
 "nbformat": 4,
 "nbformat_minor": 0
}
