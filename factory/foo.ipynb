{
 "cells": [
  {
   "cell_type": "markdown",
   "metadata": {},
   "source": [
    "# Development for code review: MMRDNS"
   ]
  },
  {
   "cell_type": "markdown",
   "metadata": {
    "heading_collapsed": true
   },
   "source": [
    "## Notes\n",
    "---\n",
    "\n",
    "#### Aug 21st 2017\n",
    "* Verifying that all low-level chacks for q-1 pass -- they do.\n",
    "* Proceeding to more NR comparisons and faithfulness calculations.\n",
    "\n",
    "#### Aug 16th 2017\n",
    "* Making core time domain fucntion dependent on \"BareMode\" testing function for consistency\n",
    "* ```A``` defined as ```REAL8``` but should be ```COMPLEX16``` -- This fixes the previously mentioned amplitude issue.\n",
    "\n",
    "#### Aug 12th 2017\n",
    "* Current issue: Amplitudes and phases of time domain waveforms are sligtly off (independently of spheroidal functions)\n",
    "* Now the spheroidal harmonic function works as expected! :DDD\n",
    "    * Errors (typically less than 1%) are now dominated by the fits used for the normalization constants.\n",
    "* Bug found and fixed in spheroidal LAL function: ```a0``` and ```a1``` must be initiated as ```COMPLEX16``` but they were defined as ```double```.\n",
    "* As a result of yesterday's discovery about the fit for QNM frequencies, I have implemented interpolation over QNM frequencies and separation constants by adding LALSimRingdownDATA.h to the workflow. The new related functions are ```XLALSimQNM_CW``` and ```XLALSimQNM_SC```.\n",
    "\n",
    "#### Aug 11th 2017\n",
    "* The discovery below was not enough. HOWEVER this did lead to another discovery --- THE FIT USED for the QNM frequencies and separation constants IS NOT ACCURATE ENOUGH to be used with the summation associated with spherodial harmonic calculation. \n",
    "* DISCOVERY: the convention used for the QNM frequencies in ```XLALcomplexOmega``` requires a conjugate in XLALcomplexOmega ```XLALSpinWeightedSpheroidalHarmonic```. Importantly, this is not the case for ```XLALseparationConstant```. This may fianlly fix ```XLALSpinWeightedSpheroidalHarmonic```.\n",
    "* Adding check of normalization: fit in LAL vs direct numerical calculation in python\n",
    "* Fixing the bug below helps, but now there are nans for low inclinaitons returned, and morphology of Slm are still a bit off for $(3,2,0)$.\n",
    "* Bug found in the Spheroidal function:\n",
    "``` C\n",
    "// Incorrect\n",
    "dY = pow(a2*(1.0+u),k);\n",
    "```\n",
    "Should be \n",
    "``` C\n",
    "// Correct\n",
    "dY = a2 * pow(1.0+u,k);\n",
    "```\n",
    "* There is definitely a noticeable error/bug in the LAL Spheroidal harmonic function: the amplitde and phase is off by ~10 percent for the q=1 test case\n",
    "    * The LAL spheroidal harmonics are not properly normalized. \n",
    "    * In some cases (e.g. $(l,m)=(3,2)$) the morphology of the spheroidal harmonic function is incorrect AND not properly normalized\n",
    "* Adding overall conjugation to output of Amplitude fit -- switching to correct phase convention\n",
    "``` C\n",
    "/*NOTE that the MATLAB code used to perform the fitting uses a different convention when handling the real and imaginary parts of psi4 than we will use here. The conjugation below makes the output of MMRDNS consistent with nrutils, which injects no manual minus signs when handling psi4, but enforces a phase convention: m>0 has frequencies >0 (non-precessing). NOTE that this may change in the future if significantly precessing systems are found to not sufficiently obey this property. See https://github.com/llondon6/nrutils_dev/blob/master/nrutils/core/nrsc.py#L1714-L1728 for more details.*/\n",
    "ans = conj( ans );\n",
    "```\n",
    "* I've locally modified a line in the LAL Amplitude function\n",
    "``` C\n",
    "  /* If m<0, then take the conjugate */\n",
    "  if ( input_m < 0 ) {\n",
    "    /**/\n",
    "    // OLD: ans = conj( ans );\n",
    "    ans = pow(-1,l) * conj( ans );\n",
    "  }\n",
    "```\n",
    "\n",
    "#### Aug 10th 2017\n",
    "* Adding mode-by-mode comparisons and making separate section for full signal comparison\n",
    "* I suspect an incorrect usage of the fninal mass fit: lalsim.E_rad_nonspinning_UIB2016(eta) --- the usage here turned out to be OK.\n",
    "\n",
    "#### Aug 9th 2017\n",
    "* (no longer of interest) The definition of time in the LAL version is correct but inconsistent with the model's construction. \n",
    "    * Tentatively changed in my version of the LAL Code by having T0=10M within the code. \n",
    "    * A better change may be to rescale the model itself with the LAL code.\n",
    "* There is something incorrect about how the multipoles are being added together: when modes beyond the fundmental are added, a strange modulation is"
   ]
  },
  {
   "cell_type": "markdown",
   "metadata": {},
   "source": [
    "## Setup Environment"
   ]
  },
  {
   "cell_type": "code",
   "execution_count": 1,
   "metadata": {
    "ExecuteTime": {
     "end_time": "2017-08-21T08:51:57.634872Z",
     "start_time": "2017-08-21T08:51:54.951868"
    },
    "code_folding": [],
    "collapsed": false
   },
   "outputs": [
    {
     "name": "stdout",
     "output_type": "stream",
     "text": [
      "(\u001b[0;36m<module>\u001b[0m)>> The LASIMULATION version is located at: \u001b[1m\u001b[0;33m/Users/book/.virtual_enviroments/ringdownFD_nikhef/opt/lalsuite/lib/python2.7/site-packages/lalsimulation\u001b[0m\u001b[0m\n"
     ]
    }
   ],
   "source": [
    "# Setup ipython environment\n",
    "%load_ext autoreload\n",
    "%autoreload 2\n",
    "# %matplotlib auto\n",
    "%matplotlib inline\n",
    "# Import useful things\n",
    "#\n",
    "# from os import system\n",
    "# system('source ~/.virtual_enviroments/ringdownFD_nikhef/bin/activate')\n",
    "from nrutils.core.basics import lalphenom\n",
    "from kerr import rgb,gmvpfit,modelrd,anglep,qnmfit,leaver,ndflatten,sunwrap,alert,cyan,slm\n",
    "from kerr.models import mmrdns as ns\n",
    "from nrutils import scsearch,gwylm,FinalSpin0815,EradRational0815\n",
    "# Setup plotting backend\n",
    "import matplotlib as mpl\n",
    "from mpl_toolkits.mplot3d import axes3d\n",
    "mpl.rcParams['lines.linewidth'] = 0.8\n",
    "mpl.rcParams['font.family'] = 'serif'\n",
    "mpl.rcParams['font.size'] = 12\n",
    "mpl.rcParams['axes.labelsize'] = 20\n",
    "mpl.rcParams['axes.titlesize'] = 20\n",
    "from matplotlib.pyplot import *\n",
    "from mpl_toolkits.mplot3d import Axes3D\n",
    "#\n",
    "import corner\n",
    "#\n",
    "from numpy import *\n",
    "from numpy.linalg import pinv\n",
    "#\n",
    "from nrutils.core.units import *\n",
    "#\n",
    "from scipy.optimize import minimize\n",
    "from os.path import expanduser\n",
    "#\n",
    "import lal\n",
    "from lal import MSUN_SI, PC_SI, C_SI, G_SI, MTSUN_SI\n",
    "import lalsimulation as lalsim\n",
    "alert('The LASIMULATION version is located at: %s'%( bold(yellow(lalsim.__path__[0])) ))\n",
    "#\n",
    "import review_ringdownFD_nikhef as review"
   ]
  },
  {
   "cell_type": "markdown",
   "metadata": {},
   "source": [
    "## Select and Load NR Data"
   ]
  },
  {
   "cell_type": "code",
   "execution_count": 2,
   "metadata": {
    "ExecuteTime": {
     "end_time": "2017-08-21T08:52:02.598471Z",
     "start_time": "2017-08-21T08:51:57.638444"
    },
    "collapsed": false
   },
   "outputs": [
    {
     "name": "stdout",
     "output_type": "stream",
     "text": [
      "(\u001b[0;36mscsearch\u001b[0m)>> Found \u001b[4mkeyword\u001b[0m (='D11_q1.00_a0.0_m240') keyword.\n",
      "(\u001b[0;36mscsearch\u001b[0m)>> Found \u001b[4mverbose\u001b[0m (=True) keyword.\n",
      "(\u001b[0;36mscsearch\u001b[0m)>> List of keywords or string keyword found: \u001b[0;36mALL scentry objects matching will be passed.\u001b[0m To pass ANY entries matching the keywords, input the keywords using an iterable of not of type list.\n",
      "## Found \u001b[1m1\u001b[0m\u001b[0;35m possibly degenerate\u001b[0m simulations:\n",
      "[0001][\u001b[92mbradwr\u001b[0m] \u001b[0;36mHR-series\u001b[0m: ns-q1.00\t(\u001b[0;36mD11_q1.00_a0.0_m240\u001b[0m)\n",
      "\n"
     ]
    }
   ],
   "source": [
    "# Find simlations to load \n",
    "A = scsearch(keyword='D11_q1.00_a0.0_m240',verbose=True)\n",
    "# A = scsearch(keyword='hrq',q=2,verbose=True)\n",
    "# A = scsearch(keyword='D9_q1.2_a0.0_m160',verbose=True)\n",
    "# A = scsearch(nonspinning=True,q=1.2,verbose=True,institute='gt',keyword='hrq')"
   ]
  },
  {
   "cell_type": "code",
   "execution_count": 3,
   "metadata": {
    "ExecuteTime": {
     "end_time": "2017-08-21T08:52:10.013518Z",
     "start_time": "2017-08-21T08:52:02.601456"
    },
    "collapsed": false
   },
   "outputs": [
    {
     "name": "stdout",
     "output_type": "stream",
     "text": [
      "(\u001b[0;36mgwylm\u001b[0m)>> Found \u001b[4mdt\u001b[0m (=0.15) keyword.\n",
      "(\u001b[0;36mgwylm\u001b[0m)>> Found \u001b[4mlm\u001b[0m (=[(2, 2), (3, 3), (3, 2), (4, 4), (4, 3), (5, 5)]) keyword.\n",
      "(\u001b[0;36mgwylm\u001b[0m)>> Found \u001b[4mscentry_obj\u001b[0m (=<nrutils.core.nrsc.scentry instance at 0x10b72fc20>) keyword.\n",
      "(\u001b[0;36mgwylm\u001b[0m)>> Found \u001b[4mverbose\u001b[0m (=True) keyword.\n",
      "\u001b[1m(\u001b[0;33mvalidate!\u001b[0m)>> \u001b[0mMultiple catalog directories found. We will scan through the related list, and then store first the catalog_dir that the OS can find.\n",
      "\u001b[1m(\u001b[0;33mvalidate!\u001b[0m)>> \u001b[0mSelecting \"\u001b[0;36m/Volumes/athena/bradwr/\u001b[0m\"\n",
      "(\u001b[0;36mgwylm\u001b[0m)>> The (\u001b[0;35mextraction_parameter\u001b[0m,\u001b[92mlevel\u001b[0m) is (\u001b[0;35m75.0\u001b[0m,\u001b[92mNone\u001b[0m), which differs from the config values of (75,0). You have either manually input the non-config values, or the handler has set them by looking at the contents of the simulation directory. \n",
      "(\u001b[0;36m__make_lmlist__\u001b[0m)>> The following spherical multipoles will be loaded:\u001b[0;36m[(2, 2), (3, 3), (3, 2), (4, 4), (4, 3), (5, 5)]\u001b[0m\n",
      "(\u001b[0;36mload\u001b[0m)>> Loading: \u001b[0;36mYlm_WEYLSCAL4::Psi4r_l2_m2_r75.00.asc\u001b[0m\n",
      "(\u001b[0;36mload\u001b[0m)>> Imposing a default padding of 3 to the data.\n",
      "(\u001b[0;36mpad_wfarr\u001b[0m)>> The shape was (11994, 3). Now the shape is (11997, 3).\n",
      "(\u001b[0;36mload\u001b[0m)>> Loading: \u001b[0;36mYlm_WEYLSCAL4::Psi4r_l3_m3_r75.00.asc\u001b[0m\n",
      "(\u001b[0;36mload\u001b[0m)>> Imposing a default padding of 3 to the data.\n",
      "(\u001b[0;36mpad_wfarr\u001b[0m)>> The shape was (11994, 3). Now the shape is (11997, 3).\n",
      "(\u001b[0;36mload\u001b[0m)>> Loading: \u001b[0;36mYlm_WEYLSCAL4::Psi4r_l3_m2_r75.00.asc\u001b[0m\n",
      "(\u001b[0;36mload\u001b[0m)>> Imposing a default padding of 3 to the data.\n",
      "(\u001b[0;36mpad_wfarr\u001b[0m)>> The shape was (11994, 3). Now the shape is (11997, 3).\n",
      "(\u001b[0;36mload\u001b[0m)>> Loading: \u001b[0;36mYlm_WEYLSCAL4::Psi4r_l4_m4_r75.00.asc\u001b[0m\n",
      "(\u001b[0;36mload\u001b[0m)>> Imposing a default padding of 3 to the data.\n",
      "(\u001b[0;36mpad_wfarr\u001b[0m)>> The shape was (11994, 3). Now the shape is (11997, 3).\n",
      "(\u001b[0;36mload\u001b[0m)>> Loading: \u001b[0;36mYlm_WEYLSCAL4::Psi4r_l4_m3_r75.00.asc\u001b[0m\n",
      "(\u001b[0;36mload\u001b[0m)>> Imposing a default padding of 3 to the data.\n",
      "(\u001b[0;36mpad_wfarr\u001b[0m)>> The shape was (11994, 3). Now the shape is (11997, 3).\n",
      "(\u001b[0;36mload\u001b[0m)>> Loading: \u001b[0;36mYlm_WEYLSCAL4::Psi4r_l5_m5_r75.00.asc\u001b[0m\n",
      "(\u001b[0;36mload\u001b[0m)>> Imposing a default padding of 3 to the data.\n",
      "(\u001b[0;36mpad_wfarr\u001b[0m)>> The shape was (11994, 3). Now the shape is (11997, 3).\n",
      "(\u001b[0;36mgwylm\u001b[0m)>> Storing w22 from a \u001b[1m\u001b[0;35mPN estimate\u001b[0m\u001b[0m[see pnw0 in basics.py, and/or arxiv:1310.1528v4]. This will be the frequency parameter used if strain is to be calculated.\n",
      "(\u001b[0;36mcalcflm\u001b[0m)>> \u001b[0;35mw0(w22) = 0.044088\u001b[0m\u001b[0;33m (this is the lower frequency used for FFI method [arxiv:1006.1632v3])\u001b[0m\n",
      "(\u001b[0;36mcalcflm\u001b[0m)>> \u001b[0;35mw0(w22) = 0.066131\u001b[0m\u001b[0;33m (this is the lower frequency used for FFI method [arxiv:1006.1632v3])\u001b[0m\n",
      "(\u001b[0;36mcalcflm\u001b[0m)>> \u001b[0;35mw0(w22) = 0.044088\u001b[0m\u001b[0;33m (this is the lower frequency used for FFI method [arxiv:1006.1632v3])\u001b[0m\n",
      "(\u001b[0;36mcalcflm\u001b[0m)>> \u001b[0;35mw0(w22) = 0.088175\u001b[0m\u001b[0;33m (this is the lower frequency used for FFI method [arxiv:1006.1632v3])\u001b[0m\n",
      "(\u001b[0;36mcalcflm\u001b[0m)>> \u001b[0;35mw0(w22) = 0.066131\u001b[0m\u001b[0;33m (this is the lower frequency used for FFI method [arxiv:1006.1632v3])\u001b[0m\n",
      "(\u001b[0;36mcalcflm\u001b[0m)>> \u001b[0;35mw0(w22) = 0.110219\u001b[0m\u001b[0;33m (this is the lower frequency used for FFI method [arxiv:1006.1632v3])\u001b[0m\n",
      "(\u001b[0;36mcalchlm\u001b[0m)>> \u001b[0;35mw22 = m*w22/2 = 0.044088\u001b[0m\u001b[0;33m (this is the lower frequency used for FFI method [arxiv:1006.1632v3])\u001b[0m\n",
      "(\u001b[0;36mgwylm.calchlm\u001b[0m)>> \u001b[0;33mThe user should note that there is no minus sign used in front of the double time integral for strain (i.e. Eq 4 of arxiv:1006.1632). This differs from Eq 3.4 of arxiv:0707.4654v3. The net effect is a rotation of the overall polarization of pi degrees. The user should also note that there is no minus sign applied to h_cross meaning that the user must be mindful to write h_pluss-1j*h_cross when appropriate.\u001b[0m\n",
      "(\u001b[0;36mcalchlm\u001b[0m)>> \u001b[0;35mw33 = m*w22/2 = 0.066131\u001b[0m\u001b[0;33m (this is the lower frequency used for FFI method [arxiv:1006.1632v3])\u001b[0m\n",
      "(\u001b[0;36mgwylm.calchlm\u001b[0m)>> \u001b[0;33mThe user should note that there is no minus sign used in front of the double time integral for strain (i.e. Eq 4 of arxiv:1006.1632). This differs from Eq 3.4 of arxiv:0707.4654v3. The net effect is a rotation of the overall polarization of pi degrees. The user should also note that there is no minus sign applied to h_cross meaning that the user must be mindful to write h_pluss-1j*h_cross when appropriate.\u001b[0m\n",
      "(\u001b[0;36mcalchlm\u001b[0m)>> \u001b[0;35mw32 = m*w22/2 = 0.044088\u001b[0m\u001b[0;33m (this is the lower frequency used for FFI method [arxiv:1006.1632v3])\u001b[0m\n",
      "(\u001b[0;36mgwylm.calchlm\u001b[0m)>> \u001b[0;33mThe user should note that there is no minus sign used in front of the double time integral for strain (i.e. Eq 4 of arxiv:1006.1632). This differs from Eq 3.4 of arxiv:0707.4654v3. The net effect is a rotation of the overall polarization of pi degrees. The user should also note that there is no minus sign applied to h_cross meaning that the user must be mindful to write h_pluss-1j*h_cross when appropriate.\u001b[0m\n",
      "(\u001b[0;36mcalchlm\u001b[0m)>> \u001b[0;35mw44 = m*w22/2 = 0.088175\u001b[0m\u001b[0;33m (this is the lower frequency used for FFI method [arxiv:1006.1632v3])\u001b[0m\n",
      "(\u001b[0;36mgwylm.calchlm\u001b[0m)>> \u001b[0;33mThe user should note that there is no minus sign used in front of the double time integral for strain (i.e. Eq 4 of arxiv:1006.1632). This differs from Eq 3.4 of arxiv:0707.4654v3. The net effect is a rotation of the overall polarization of pi degrees. The user should also note that there is no minus sign applied to h_cross meaning that the user must be mindful to write h_pluss-1j*h_cross when appropriate.\u001b[0m\n",
      "(\u001b[0;36mcalchlm\u001b[0m)>> \u001b[0;35mw43 = m*w22/2 = 0.066131\u001b[0m\u001b[0;33m (this is the lower frequency used for FFI method [arxiv:1006.1632v3])\u001b[0m\n",
      "(\u001b[0;36mgwylm.calchlm\u001b[0m)>> \u001b[0;33mThe user should note that there is no minus sign used in front of the double time integral for strain (i.e. Eq 4 of arxiv:1006.1632). This differs from Eq 3.4 of arxiv:0707.4654v3. The net effect is a rotation of the overall polarization of pi degrees. The user should also note that there is no minus sign applied to h_cross meaning that the user must be mindful to write h_pluss-1j*h_cross when appropriate.\u001b[0m\n",
      "(\u001b[0;36mcalchlm\u001b[0m)>> \u001b[0;35mw55 = m*w22/2 = 0.110219\u001b[0m\u001b[0;33m (this is the lower frequency used for FFI method [arxiv:1006.1632v3])\u001b[0m\n",
      "(\u001b[0;36mgwylm.calchlm\u001b[0m)>> \u001b[0;33mThe user should note that there is no minus sign used in front of the double time integral for strain (i.e. Eq 4 of arxiv:1006.1632). This differs from Eq 3.4 of arxiv:0707.4654v3. The net effect is a rotation of the overall polarization of pi degrees. The user should also note that there is no minus sign applied to h_cross meaning that the user must be mindful to write h_pluss-1j*h_cross when appropriate.\u001b[0m\n"
     ]
    }
   ],
   "source": [
    "# Load simulation data\n",
    "a = A[0]\n",
    "# y = gwylm( a, lm=[(2,2)], verbose=True )\n",
    "y = gwylm( a, lm=[(2,2),(3,3),(3,2),(4,4),(4,3),(5,5)], verbose=True )"
   ]
  },
  {
   "cell_type": "code",
   "execution_count": 4,
   "metadata": {
    "ExecuteTime": {
     "end_time": "2017-08-21T08:52:10.289323Z",
     "start_time": "2017-08-21T08:52:10.016509"
    },
    "collapsed": false
   },
   "outputs": [
    {
     "name": "stdout",
     "output_type": "stream",
     "text": [
      "(\u001b[0;36mringdown\u001b[0m)>> Time will be listed relative to the peak of \u001b[0;36mluminosity\u001b[0m.\n"
     ]
    }
   ],
   "source": [
    "#\n",
    "yrd = y.ringdown(T0=10,use_peak_strain=False,verbose=True)"
   ]
  },
  {
   "cell_type": "code",
   "execution_count": 5,
   "metadata": {
    "ExecuteTime": {
     "end_time": "2017-08-21T08:52:10.330001Z",
     "start_time": "2017-08-21T08:52:10.291691"
    },
    "collapsed": false
   },
   "outputs": [],
   "source": [
    "# Define physical parameters for LAL comparison\n",
    "M_Sol = 50\n",
    "Mf_Sol = 1.00002821*M_Sol * y.mf\n",
    "D_Mpc = 150\n",
    "inclination = 0\n",
    "fmin = 20\n",
    "phi_ref = 0\n",
    "#\n",
    "M = M_Sol*MSUN_SI\n",
    "Mf = Mf_Sol*MSUN_SI\n",
    "D = D_Mpc*1.0e6*PC_SI\n",
    "#\n",
    "t_code = yrd.lm[2,2]['strain'].t\n",
    "deltaT = physt( diff(t_code)[0], M_Sol )\n",
    "xf = y.xf\n",
    "eta = y.eta"
   ]
  },
  {
   "cell_type": "markdown",
   "metadata": {},
   "source": [
    "### Spot check final mass fit "
   ]
  },
  {
   "cell_type": "code",
   "execution_count": 6,
   "metadata": {
    "ExecuteTime": {
     "end_time": "2017-08-21T08:52:10.359979Z",
     "start_time": "2017-08-21T08:52:10.332764"
    },
    "collapsed": false
   },
   "outputs": [
    {
     "name": "stdout",
     "output_type": "stream",
     "text": [
      ">> From LAL UIB Fit: Mf =  0.951588979146\n",
      ">> From NR metadata: Mf =  0.951562197018\n",
      ">> Estimated initial mass: M_Sol =  50.0000032284\n",
      ">> Desired initial mass  : M_Sol =  50\n"
     ]
    }
   ],
   "source": [
    "print '>> From LAL UIB Fit: Mf = ',1-lalsim.E_rad_nonspinning_UIB2016(eta)\n",
    "print '>> From NR metadata: Mf = ',y.mf\n",
    "print '>> Estimated initial mass: M_Sol = ', lalsim.Mf_to_M_nonspinning_UIB2016(eta, Mf_Sol)\n",
    "print '>> Desired initial mass  : M_Sol = ', M_Sol"
   ]
  },
  {
   "cell_type": "markdown",
   "metadata": {
    "ExecuteTime": {
     "end_time": "2017-08-10T14:38:29.578130Z",
     "start_time": "2017-08-10T14:38:29.542377"
    }
   },
   "source": [
    "### Directly compare amplitude functions"
   ]
  },
  {
   "cell_type": "code",
   "execution_count": 7,
   "metadata": {
    "ExecuteTime": {
     "end_time": "2017-08-21T08:52:10.409815Z",
     "start_time": "2017-08-21T08:52:10.363236"
    },
    "collapsed": false
   },
   "outputs": [
    {
     "name": "stdout",
     "output_type": "stream",
     "text": [
      ">> From LAL MMRDNS Fit: A220 =  (-0.229804848082-0.0716724887031j)\n",
      ">> From PY  MMRDNS Fit: A220 =  (-0.229804848082-0.0716724887031j)\n",
      ">> From RAWPY      Fit: A220 =  (-0.229804848082-0.0716724887031j)\n",
      "## Error (%) =  0.0\n",
      "---\n",
      ">> From LAL MMRDNS Fit: A221 =  (0.0386954515206-0.0465239548319j)\n",
      ">> From PY  MMRDNS Fit: A221 =  (0.0386954515206-0.0465239548319j)\n",
      ">> From RAWPY      Fit: A221 =  (0.0386954515206-0.0465239548319j)\n",
      "## Error (%) =  0.0\n",
      "---\n",
      ">> From LAL MMRDNS Fit: A210 =  0j\n",
      ">> From PY  MMRDNS Fit: A210 =  -0j\n",
      ">> From RAWPY      Fit: A210 =  -0j\n",
      "## Error (%) =  nan\n",
      "---\n",
      ">> From LAL MMRDNS Fit: A330 =  (-0+0j)\n",
      ">> From PY  MMRDNS Fit: A330 =  0j\n",
      ">> From RAWPY      Fit: A330 =  0j\n",
      "## Error (%) =  nan\n",
      "---\n",
      ">> From LAL MMRDNS Fit: A331 =  (-0-0j)\n",
      ">> From PY  MMRDNS Fit: A331 =  (-0-0j)\n",
      ">> From RAWPY      Fit: A331 =  (-0-0j)\n",
      "## Error (%) =  nan\n",
      "---\n",
      ">> From LAL MMRDNS Fit: A320 =  (-0.00744566845341-0.00161945693189j)\n",
      ">> From PY  MMRDNS Fit: A320 =  (-0.00744566845341-0.00161945693189j)\n",
      ">> From RAWPY      Fit: A320 =  (-0.00744566845341-0.00161945693189j)\n",
      "## Error (%) =  0.0\n",
      "---\n",
      ">> From LAL MMRDNS Fit: A440 =  (0.00854016048963-0.0036417587464j)\n",
      ">> From PY  MMRDNS Fit: A440 =  (0.00854016048963-0.0036417587464j)\n",
      ">> From RAWPY      Fit: A440 =  (0.00854016048963-0.0036417587464j)\n",
      "## Error (%) =  0.0\n",
      "---\n",
      ">> From LAL MMRDNS Fit: A430 =  (-0+0j)\n",
      ">> From PY  MMRDNS Fit: A430 =  0j\n",
      ">> From RAWPY      Fit: A430 =  0j\n",
      "## Error (%) =  nan\n",
      "---\n",
      ">> From LAL MMRDNS Fit: A550 =  (-0-0j)\n",
      ">> From PY  MMRDNS Fit: A550 =  (-0-0j)\n",
      ">> From RAWPY      Fit: A550 =  (-0-0j)\n",
      "## Error (%) =  nan\n",
      "---\n"
     ]
    },
    {
     "name": "stderr",
     "output_type": "stream",
     "text": [
      "/Library/Python/2.7/site-packages/ipykernel/__main__.py:8: RuntimeWarning: invalid value encountered in cdouble_scalars\n"
     ]
    }
   ],
   "source": [
    "from kerr.formula.mmrdns_amplitudes import A_strain as Afitraw\n",
    "for l,m,n in ns.lmn:\n",
    "    Alal = lalsim.MMRDNSAmplitudeOverOmegaSquared(eta, l, m, n)\n",
    "    Apy  = ns.Afit(l, m, n, eta)\n",
    "    print '>> From LAL MMRDNS Fit: A%i%i%i = '%(l,m,n),Alal\n",
    "    print '>> From PY  MMRDNS Fit: A%i%i%i = '%(l,m,n),Apy\n",
    "    print '>> From RAWPY      Fit: A%i%i%i = '%(l,m,n), Afitraw[l,m,n](eta).conj()\n",
    "    print '## Error (%) = ',100*abs((Alal-Apy)/abs(Apy))\n",
    "    print '---'"
   ]
  },
  {
   "cell_type": "markdown",
   "metadata": {},
   "source": [
    "## Compare methods for Ringdown Frequencies and Separation Constants"
   ]
  },
  {
   "cell_type": "code",
   "execution_count": 8,
   "metadata": {
    "ExecuteTime": {
     "end_time": "2017-08-21T08:52:10.449829Z",
     "start_time": "2017-08-21T08:52:10.413638"
    },
    "collapsed": false
   },
   "outputs": [
    {
     "data": {
      "text/plain": [
       "(0.37367168446509785-0.088962315683355j)"
      ]
     },
     "execution_count": 8,
     "metadata": {},
     "output_type": "execute_result"
    }
   ],
   "source": [
    "lalsim.QNM_CW(0,2,2,0)\n",
    "# plot( lalsim.JF_DATA, lalsim.SC220REAL_DATA )"
   ]
  },
  {
   "cell_type": "code",
   "execution_count": 9,
   "metadata": {
    "ExecuteTime": {
     "end_time": "2017-08-21T08:52:10.576441Z",
     "start_time": "2017-08-21T08:52:10.457558"
    },
    "collapsed": false
   },
   "outputs": [
    {
     "name": "stdout",
     "output_type": "stream",
     "text": [
      "---\n",
      ">> From LAL: cw220 = (0.526609694246-0.0812961315088j)\t(Polynomial Fit -- Conjugate)\n",
      ">> From  PY: cw220 = (0.52660969424-0.0812961315097j)\t(Leaver's Method)\n",
      "## Error (%) =  1.1366369795e-09\n",
      "\\\\ From LAL: sc220 = (2.94003599524+0.179659860802j)\t(Polynomial Fit)\n",
      "\\\\ From  PY: sc220 = (2.94003599526+0.179659860806j)\t(Leaver's Method)\n",
      "## Error (%) =  9.97983173217e-10\n",
      "---\n",
      ">> From LAL: cw221 = (0.514759083897-0.245837785043j)\t(Polynomial Fit -- Conjugate)\n",
      ">> From  PY: cw221 = (0.514759083891-0.245837785047j)\t(Leaver's Method)\n",
      "## Error (%) =  1.35800634937e-09\n",
      "\\\\ From LAL: sc221 = (2.98631869135+0.540880993465j)\t(Polynomial Fit)\n",
      "\\\\ From  PY: sc221 = (2.98631869138+0.540880993478j)\t(Leaver's Method)\n",
      "## Error (%) =  1.09206816899e-09\n",
      "---\n",
      ">> From LAL: cw210 = (0.452197472412-0.0824989931673j)\t(Polynomial Fit -- Conjugate)\n",
      ">> From  PY: cw210 = (0.45219747241-0.0824989931683j)\t(Leaver's Method)\n",
      "## Error (%) =  5.48319210811e-10\n",
      "\\\\ From LAL: sc210 = (3.53123557747+0.0965583732966j)\t(Polynomial Fit)\n",
      "\\\\ From  PY: sc210 = (3.53123557748+0.0965583732982j)\t(Leaver's Method)\n",
      "## Error (%) =  1.59506622703e-10\n",
      "---\n",
      ">> From LAL: cw330 = (0.834819864298-0.0834442261662j)\t(Polynomial Fit -- Conjugate)\n",
      ">> From  PY: cw330 = (0.83481986429-0.0834442261676j)\t(Leaver's Method)\n",
      "## Error (%) =  9.51468654511e-10\n",
      "\\\\ From LAL: sc330 = (8.68234700554+0.150260131964j)\t(Polynomial Fit)\n",
      "\\\\ From  PY: sc330 = (8.68234700557+0.150260131968j)\t(Leaver's Method)\n",
      "## Error (%) =  4.05314136026e-10\n",
      "---\n",
      ">> From LAL: cw331 = (0.828380230989-0.251252242419j)\t(Polynomial Fit -- Conjugate)\n",
      ">> From  PY: cw331 = (0.828380230981-0.251252242422j)\t(Leaver's Method)\n",
      "## Error (%) =  1.06906957467e-09\n",
      "\\\\ From LAL: sc331 = (8.70954265393+0.451285321145j)\t(Polynomial Fit)\n",
      "\\\\ From  PY: sc331 = (8.70954265397+0.451285321155j)\t(Leaver's Method)\n",
      "## Error (%) =  4.30271372496e-10\n",
      "---\n",
      ">> From LAL: cw320 = (0.753633080388-0.0847055262828j)\t(Polynomial Fit -- Conjugate)\n",
      ">> From  PY: cw320 = (0.753633080384-0.084705526284j)\t(Leaver's Method)\n",
      "## Error (%) =  5.62613362179e-10\n",
      "\\\\ From LAL: sc320 = (9.20244574775+0.102223761146j)\t(Polynomial Fit)\n",
      "\\\\ From  PY: sc320 = (9.20244574776+0.102223761148j)\t(Leaver's Method)\n",
      "## Error (%) =  1.19759347627e-10\n",
      "---\n",
      ">> From LAL: cw440 = (1.13070149858-0.0848535855236j)\t(Polynomial Fit -- Conjugate)\n",
      ">> From  PY: cw440 = (1.13070149857-0.084853585525j)\t(Leaver's Method)\n",
      "## Error (%) =  9.55652994315e-10\n",
      "\\\\ From LAL: sc440 = (16.5269581963+0.12952130178j)\t(Polynomial Fit)\n",
      "\\\\ From  PY: sc440 = (16.5269581963+0.129521301783j)\t(Leaver's Method)\n",
      "## Error (%) =  2.52936049611e-10\n",
      "---\n",
      ">> From LAL: cw430 = (1.04457948681-0.0857464362076j)\t(Polynomial Fit -- Conjugate)\n",
      ">> From  PY: cw430 = (1.0445794868-0.0857464362093j)\t(Leaver's Method)\n",
      "## Error (%) =  5.6522547121e-10\n",
      "\\\\ From LAL: sc430 = (16.9573407802+0.100731176618j)\t(Polynomial Fit)\n",
      "\\\\ From  PY: sc430 = (16.9573407802+0.100731176608j)\t(Leaver's Method)\n",
      "## Error (%) =  1.20516210023e-10\n",
      "---\n",
      ">> From LAL: cw550 = (1.42045776582-0.0856686499431j)\t(Polynomial Fit -- Conjugate)\n",
      ">> From  PY: cw550 = (1.42045776581-0.0856686499448j)\t(Leaver's Method)\n",
      "## Error (%) =  9.07437465132e-10\n",
      "\\\\ From LAL: sc550 = (26.4205735818+0.113844314105j)\t(Polynomial Fit)\n",
      "\\\\ From  PY: sc550 = (26.4205735818+0.113844314107j)\t(Leaver's Method)\n",
      "## Error (%) =  1.79260105398e-10\n"
     ]
    }
   ],
   "source": [
    "#\n",
    "for l,m,n in ns.lmn:\n",
    "\n",
    "    #\n",
    "    # kappa = lalsim.KAPPA(xf,l,m)\n",
    "    # cwlal = array([lalsim.complexOmega(kappa,l,m,n)]).conj()[0]\n",
    "    # sclal = lalsim.separationConstant( kappa, l, m, n )\n",
    "    cwlal = lalsim.QNM_CW(xf,l,m,n)\n",
    "    sclal = lalsim.QNM_SC(xf,l,m,n)\n",
    "    \n",
    "    \n",
    "\n",
    "    #\n",
    "    z = (l,m,n)\n",
    "    cwpy,scpy = leaver(xf,l,m,n)\n",
    "\n",
    "    #\n",
    "    print '---'\n",
    "    print '>> From LAL: cw%i%i%i = %s\\t(Polynomial Fit -- Conjugate)'%(l,m,n,cwlal)\n",
    "    print '>> From  PY: cw%i%i%i = %s\\t(Leaver\\'s Method)'%(l,m,n,cwpy)\n",
    "    print '## Error (%) = ',100*abs((cwlal-cwpy)/abs(cwpy))\n",
    "    print '\\\\\\\\ From LAL: sc%i%i%i = %s\\t(Polynomial Fit)'%(l,m,n,sclal)\n",
    "    print '\\\\\\\\ From  PY: sc%i%i%i = %s\\t(Leaver\\'s Method)'%(l,m,n,scpy)\n",
    "    print '## Error (%) = ',100*abs((sclal-scpy)/abs(scpy))"
   ]
  },
  {
   "cell_type": "markdown",
   "metadata": {},
   "source": [
    "## Compare ALPHA, BETA & GAMMA functions for Spheroidal Harmonic calculation"
   ]
  },
  {
   "cell_type": "code",
   "execution_count": 10,
   "metadata": {
    "ExecuteTime": {
     "end_time": "2017-08-21T08:52:10.655514Z",
     "start_time": "2017-08-21T08:52:10.580081"
    },
    "collapsed": false
   },
   "outputs": [
    {
     "name": "stdout",
     "output_type": "stream",
     "text": [
      "1 (0.144373382341-0.0228312190241j)\n",
      "2 (-0.0319558692061+0.00763367993983j)\n",
      "3 (0.00580774295803-0.00187167620215j)\n",
      "4 (-0.000904905964501+0.000370634039914j)\n",
      "5 (0.000124034547466-6.23005615147e-05j)\n",
      "6 (-1.52133554828e-05+9.16081910222e-06j)\n",
      "7 (1.68987238202e-06-1.20224652078e-06j)\n",
      "8 (-1.71484287667e-07+1.42857696687e-07j)\n",
      "9 (1.60007114075e-08-1.55363067155e-08j)\n",
      "10 (-1.37922246027e-09+1.55947363265e-09j)\n",
      "11 (1.10170911576e-10-1.45454675824e-10j)\n",
      "12 (-8.16957160124e-12+1.26764923097e-11j)\n",
      "13 (5.61745321351e-13-1.03715775164e-12j)\n",
      "14 (-3.59969157859e-14+7.99342756577e-14j)\n"
     ]
    }
   ],
   "source": [
    "#\n",
    "l,m,n, = 4,4,0\n",
    "\n",
    "u = array( [cos(0)] )\n",
    "\n",
    "#\n",
    "kappa = lalsim.KAPPA(xf,l,m)\n",
    "cw = lalsim.QNM_CW(xf,l,m,n) # array([lalsim.complexOmega(kappa,l,m,n)]).conj()[0]\n",
    "Alm = lalsim.QNM_SC(xf,l,m,n) # lalsim.separationConstant( kappa, l, m, n )\n",
    "    \n",
    "#\n",
    "# cw,Alm = leaver(xf,l,m,n)\n",
    "aw = cw*xf\n",
    "\n",
    "s = -2\n",
    "\n",
    "a0 = 1.0 \n",
    "a1 = -lalsim.BETA_RD(m,s,0,aw,Alm)/lalsim.ALPHA_RD(m,s,0)\n",
    "\n",
    "# the sum part\n",
    "done = False\n",
    "Y = a0*ones(u.shape,dtype=complex256)\n",
    "Y = Y + a1*(1.0+u)\n",
    "k = 1\n",
    "kmax = 2e3\n",
    "err,yy = [],[]\n",
    "et2=1e-8\n",
    "max_a = max(abs(array([a0,a1])))\n",
    "while not done:\n",
    "    k += 1\n",
    "    j = k-1\n",
    "    a2 = -1.0*( lalsim.BETA_RD(m,s,j,aw,Alm)*a1 + lalsim.GAMMA_RD(m,s,j,aw)*a0 ) / lalsim.ALPHA_RD(m,s,j)\n",
    "    dY = a2*(1.0+u)**k\n",
    "    Y += dY\n",
    "    xx = max(abs( dY ))\n",
    "    print j, a2\n",
    "\n",
    "    done = (k>=l) and ( (xx<et2 and k>30) or k>kmax )\n",
    "    done = done or xx<et2\n",
    "    a0 = a1\n",
    "    a1 = a2\n",
    "\n",
    "# raise"
   ]
  },
  {
   "cell_type": "markdown",
   "metadata": {},
   "source": [
    "#### ALPHA"
   ]
  },
  {
   "cell_type": "code",
   "execution_count": 11,
   "metadata": {
    "ExecuteTime": {
     "end_time": "2017-08-21T08:52:10.724331Z",
     "start_time": "2017-08-21T08:52:10.658872"
    },
    "collapsed": false
   },
   "outputs": [
    {
     "name": "stdout",
     "output_type": "stream",
     "text": [
      "---\n",
      ">> From LAL: alpha220 =  (-42+0j)\n",
      ">> From  PY: alpha220 =  -42.0\n",
      "## Error (%) =  0.0\n",
      "---\n",
      ">> From LAL: alpha221 =  (-42+0j)\n",
      ">> From  PY: alpha221 =  -42.0\n",
      "## Error (%) =  0.0\n",
      "---\n",
      ">> From LAL: alpha210 =  (-36+0j)\n",
      ">> From  PY: alpha210 =  -36.0\n",
      "## Error (%) =  0.0\n",
      "---\n",
      ">> From LAL: alpha330 =  (-48+0j)\n",
      ">> From  PY: alpha330 =  -48.0\n",
      "## Error (%) =  0.0\n",
      "---\n",
      ">> From LAL: alpha331 =  (-48+0j)\n",
      ">> From  PY: alpha331 =  -48.0\n",
      "## Error (%) =  0.0\n",
      "---\n",
      ">> From LAL: alpha320 =  (-42+0j)\n",
      ">> From  PY: alpha320 =  -42.0\n",
      "## Error (%) =  0.0\n",
      "---\n",
      ">> From LAL: alpha440 =  (-54+0j)\n",
      ">> From  PY: alpha440 =  -54.0\n",
      "## Error (%) =  0.0\n",
      "---\n",
      ">> From LAL: alpha430 =  (-48+0j)\n",
      ">> From  PY: alpha430 =  -48.0\n",
      "## Error (%) =  0.0\n",
      "---\n",
      ">> From LAL: alpha550 =  (-60+0j)\n",
      ">> From  PY: alpha550 =  -60.0\n",
      "## Error (%) =  0.0\n"
     ]
    }
   ],
   "source": [
    "#\n",
    "p = 2\n",
    "s = -2\n",
    "\n",
    "#\n",
    "for l,m,n in ns.lmn:\n",
    "    \n",
    "    #\n",
    "    cw = lalsim.QNM_CW(xf,l,m,n) \n",
    "    Alm = lalsim.QNM_SC(xf,l,m,n) \n",
    "    aw = cw*xf\n",
    "\n",
    "    #\n",
    "    alal = lalsim.ALPHA_RD(m,s,p)\n",
    "\n",
    "    #\n",
    "    z = (l,m,n)\n",
    "    k1 = 0.5*abs(m-s)\n",
    "    k2 = 0.5*abs(m+s)\n",
    "    apy = -2.0*(p+1.0)*(p+2.0*k1+1.0)\n",
    "\n",
    "    #\n",
    "    print '---'\n",
    "    print '>> From LAL: alpha%i%i%i = '%(l,m,n),alal\n",
    "    print '>> From  PY: alpha%i%i%i = '%(l,m,n),apy\n",
    "    print '## Error (%) = ',100*abs((alal-apy)/abs(apy))"
   ]
  },
  {
   "cell_type": "markdown",
   "metadata": {},
   "source": [
    "#### BETA"
   ]
  },
  {
   "cell_type": "code",
   "execution_count": 12,
   "metadata": {
    "ExecuteTime": {
     "end_time": "2017-08-21T08:52:10.782329Z",
     "start_time": "2017-08-21T08:52:10.728058"
    },
    "collapsed": false
   },
   "outputs": [
    {
     "name": "stdout",
     "output_type": "stream",
     "text": [
      "---\n",
      ">> From LAL: beta220 =  (28.9820906013+1.08801500047j)\n",
      ">> From  PY: beta220 =  (28.9820906013+1.08801500047j)\n",
      "## Error (%) =  0.0\n",
      "---\n",
      ">> From LAL: beta221 =  (29.1458805455+3.28979708862j)\n",
      ">> From  PY: beta221 =  (29.1458805455+3.28979708862j)\n",
      "## Error (%) =  0.0\n",
      "---\n",
      ">> From LAL: beta210 =  (30.1693413788+1.07086265199j)\n",
      ">> From  PY: beta210 =  (30.1693413788+1.07086265199j)\n",
      "## Error (%) =  0.0\n",
      "---\n",
      ">> From LAL: beta330 =  (31.2434222021+1.28965931035j)\n",
      ">> From  PY: beta330 =  (31.2434222021+1.28965931035j)\n",
      "## Error (%) =  0.0\n",
      "---\n",
      ">> From LAL: beta331 =  (31.3537792967+3.88281717138j)\n",
      ">> From  PY: beta331 =  (31.3537792967+3.88281717138j)\n",
      "## Error (%) =  0.0\n",
      "---\n",
      ">> From LAL: beta320 =  (19.1556325011+1.236726797j)\n",
      ">> From  PY: beta320 =  (19.1556325011+1.236726797j)\n",
      "## Error (%) =  0.0\n",
      "---\n",
      ">> From LAL: beta440 =  (32.7000724529+1.4748249941j)\n",
      ">> From  PY: beta440 =  (32.7000724529+1.4748249941j)\n",
      "## Error (%) =  0.0\n",
      "---\n",
      ">> From LAL: beta430 =  (19.3282646731+1.39585568774j)\n",
      ">> From  PY: beta430 =  (19.3282646731+1.39585568774j)\n",
      "## Error (%) =  0.0\n",
      "---\n",
      ">> From LAL: beta550 =  (33.338941942+1.64687100377j)\n",
      ">> From  PY: beta550 =  (33.338941942+1.64687100377j)\n",
      "## Error (%) =  0.0\n"
     ]
    }
   ],
   "source": [
    "#\n",
    "p = 4\n",
    "s = -2\n",
    "\n",
    "#\n",
    "for l,m,n in ns.lmn:\n",
    "    \n",
    "    #\n",
    "    cw = lalsim.QNM_CW(xf,l,m,n) \n",
    "    Alm = lalsim.QNM_SC(xf,l,m,n) \n",
    "    aw = cw*xf\n",
    "\n",
    "    #\n",
    "    blal = lalsim.BETA_RD(m,s,p,aw,Alm)\n",
    "\n",
    "    #\n",
    "    z = (l,m,n)\n",
    "    k1 = 0.5*abs(m-s)\n",
    "    k2 = 0.5*abs(m+s)\n",
    "    bpy = p*(p-1.0)+2.0*p*(k1+k2+1.0-2.0*aw) -( 2.0*aw*(2.0*k1+s+1.0)-(k1+k2)*(k1+k2+1.0) ) - ( aw*aw + s*(s+1.0) + Alm)\n",
    "\n",
    "    #\n",
    "    print '---'\n",
    "    print '>> From LAL: beta%i%i%i = '%(l,m,n),blal\n",
    "    print '>> From  PY: beta%i%i%i = '%(l,m,n),bpy\n",
    "    print '## Error (%) = ',100*abs((blal-bpy)/abs(bpy))"
   ]
  },
  {
   "cell_type": "markdown",
   "metadata": {},
   "source": [
    "#### GAMMA"
   ]
  },
  {
   "cell_type": "code",
   "execution_count": 13,
   "metadata": {
    "ExecuteTime": {
     "end_time": "2017-08-21T08:52:10.839123Z",
     "start_time": "2017-08-21T08:52:10.785890"
    },
    "collapsed": false
   },
   "outputs": [
    {
     "name": "stdout",
     "output_type": "stream",
     "text": [
      "---\n",
      ">> From LAL: gamma220 =  (2.89105066256-0.446310118158j)\n",
      ">> From  PY: gamma220 =  (2.89105066256-0.446310118158j)\n",
      "## Error (%) =  0.0\n",
      "---\n",
      ">> From LAL: gamma221 =  (2.82599163445-1.34963237308j)\n",
      ">> From  PY: gamma221 =  (2.82599163445-1.34963237308j)\n",
      "## Error (%) =  0.0\n",
      "---\n",
      ">> From LAL: gamma210 =  (2.48253273062-0.452913745157j)\n",
      ">> From  PY: gamma210 =  (2.48253273062-0.452913745157j)\n",
      "## Error (%) =  0.0\n",
      "---\n",
      ">> From LAL: gamma330 =  (5.72887887407-0.572628760875j)\n",
      ">> From  PY: gamma330 =  (5.72887887407-0.572628760875j)\n",
      "## Error (%) =  0.0\n",
      "---\n",
      ">> From LAL: gamma331 =  (5.68468744931-1.72419671023j)\n",
      ">> From  PY: gamma331 =  (5.68468744931-1.72419671023j)\n",
      "## Error (%) =  0.0\n",
      "---\n",
      ">> From LAL: gamma320 =  (4.13739329182-0.465027458777j)\n",
      ">> From  PY: gamma320 =  (4.13739329182-0.465027458777j)\n",
      "## Error (%) =  0.0\n",
      "---\n",
      ">> From LAL: gamma440 =  (9.31120909568-0.698760440596j)\n",
      ">> From  PY: gamma440 =  (9.31120909568-0.698760440596j)\n",
      "## Error (%) =  0.0\n",
      "---\n",
      ">> From LAL: gamma430 =  (7.16833608086-0.588427477501j)\n",
      ">> From  PY: gamma430 =  (7.16833608086-0.588427477501j)\n",
      "## Error (%) =  0.0\n",
      "---\n",
      ">> From LAL: gamma550 =  (13.6468754132-0.823051146416j)\n",
      ">> From  PY: gamma550 =  (13.6468754132-0.823051146416j)\n",
      "## Error (%) =  0.0\n"
     ]
    }
   ],
   "source": [
    "#\n",
    "p = 4\n",
    "s = -2\n",
    "\n",
    "#\n",
    "for l,m,n in ns.lmn:\n",
    "    \n",
    "    #\n",
    "    cw = lalsim.QNM_CW(xf,l,m,n) \n",
    "    Alm = lalsim.QNM_SC(xf,l,m,n) \n",
    "    aw = cw*xf\n",
    "\n",
    "    #\n",
    "    glal = lalsim.GAMMA_RD(m,s,p,aw)\n",
    "\n",
    "    #\n",
    "    z = (l,m,n)\n",
    "    k1 = 0.5*abs(m-s)\n",
    "    k2 = 0.5*abs(m+s)\n",
    "    gpy = 2.0*aw*(p+k1+k2+s)\n",
    "\n",
    "    #\n",
    "    print '---'\n",
    "    print '>> From LAL: gamma%i%i%i = '%(l,m,n),glal\n",
    "    print '>> From  PY: gamma%i%i%i = '%(l,m,n),gpy\n",
    "    print '## Error (%) = ',100*abs((glal-gpy)/abs(gpy))"
   ]
  },
  {
   "cell_type": "markdown",
   "metadata": {},
   "source": [
    "## Compare Spheroidal Harmonic Normalization"
   ]
  },
  {
   "cell_type": "code",
   "execution_count": 14,
   "metadata": {
    "ExecuteTime": {
     "end_time": "2017-08-21T08:52:11.012456Z",
     "start_time": "2017-08-21T08:52:10.844178"
    },
    "collapsed": false
   },
   "outputs": [
    {
     "name": "stdout",
     "output_type": "stream",
     "text": [
      "---\n",
      ">> From LAL: N220 =  6.6911139222\n",
      ">> From  PY: N220 =  (6.69148591916+0j)\n",
      "## Error (%) =  0.00555925794624\n",
      "---\n",
      ">> From LAL: N221 =  6.66837225332\n",
      ">> From  PY: N221 =  (6.66928446288+0j)\n",
      "## Error (%) =  0.0136777726317\n",
      "---\n",
      ">> From LAL: N210 =  3.08302847349\n",
      ">> From  PY: N210 =  (3.08263949968+0j)\n",
      "## Error (%) =  0.0126182061808\n",
      "---\n",
      ">> From LAL: N330 =  3.86883702456\n",
      ">> From  PY: N330 =  (3.86855912206+0j)\n",
      "## Error (%) =  0.00718361779841\n",
      "---\n",
      ">> From LAL: N331 =  3.86664680658\n",
      ">> From  PY: N331 =  (3.86680000321+0j)\n",
      "## Error (%) =  0.00396184505295\n",
      "---\n",
      ">> From LAL: N320 =  0.885187500331\n",
      ">> From  PY: N320 =  (0.88480304824+0j)\n",
      "## Error (%) =  0.0434505838557\n",
      "---\n",
      ">> From LAL: N440 =  2.58921243577\n",
      ">> From  PY: N440 =  (2.58831596037+0j)\n",
      "## Error (%) =  0.0346354701253\n",
      "---\n",
      ">> From LAL: N430 =  0.580613263678\n",
      ">> From  PY: N430 =  (0.580153527625+0j)\n",
      "## Error (%) =  0.0792438606278\n",
      "---\n",
      ">> From LAL: N550 =  1.84464760922\n",
      ">> From  PY: N550 =  (1.84258780787+0j)\n",
      "## Error (%) =  0.111788504367\n"
     ]
    }
   ],
   "source": [
    "#\n",
    "from kerr import ssprod\n",
    "#\n",
    "for l,m,n in ns.lmn:\n",
    "\n",
    "    #\n",
    "    kappa = lalsim.KAPPA(xf,l,m)\n",
    "    Nlal = lalsim.spheroidalHarmonicNormalization(kappa,l,m,n)\n",
    "\n",
    "    #\n",
    "    z = (l,m,n)\n",
    "    Npy = sqrt( ssprod(xf,z,z) )\n",
    "\n",
    "    #\n",
    "    print '---'\n",
    "    print '>> From LAL: N%i%i%i = '%(l,m,n),Nlal\n",
    "    print '>> From  PY: N%i%i%i = '%(l,m,n),Npy\n",
    "    print '## Error (%) = ',100*abs((Nlal-Npy)/abs(Npy))"
   ]
  },
  {
   "cell_type": "markdown",
   "metadata": {},
   "source": [
    "## Compare Spheroidal Harmonic Functions"
   ]
  },
  {
   "cell_type": "code",
   "execution_count": 15,
   "metadata": {
    "ExecuteTime": {
     "end_time": "2017-08-21T08:52:11.415802Z",
     "start_time": "2017-08-21T08:52:11.020046"
    },
    "collapsed": false
   },
   "outputs": [
    {
     "name": "stdout",
     "output_type": "stream",
     "text": [
      "---\n",
      ">> From LAL: S220(theta,phi) =  (0.68312312065-0.0155201202049j)\n",
      ">> From  PY: S220(theta,phi) =  (0.683085144067-0.0155192574025j)\n",
      "## Error (%) =  0.00555956802049\n",
      "---\n",
      ">> From LAL: S221(theta,phi) =  (0.680071598228-0.0466292435007j)\n",
      ">> From  PY: S221(theta,phi) =  (0.679978579574-0.0466228656609j)\n",
      "## Error (%) =  0.0136796447141\n",
      "---\n",
      ">> From LAL: S210(theta,phi) =  0j\n",
      ">> From  PY: S210(theta,phi) =  0j\n",
      "## Error (%) =  nan\n",
      "---\n",
      ">> From LAL: S330(theta,phi) =  (-0-0j)\n",
      ">> From  PY: S330(theta,phi) =  (-0+0j)\n",
      "## Error (%) =  nan\n",
      "---\n",
      ">> From LAL: S331(theta,phi) =  (-0-0j)\n",
      ">> From  PY: S331(theta,phi) =  (-0+0j)\n",
      "## Error (%) =  nan\n",
      "---\n",
      ">> From LAL: S320(theta,phi) =  (0.769022680742+0.0128316394487j)\n",
      ">> From  PY: S320(theta,phi) =  (0.769356825587+0.0128372148711j)\n",
      "## Error (%) =  0.0434317125446\n",
      "---\n",
      ">> From LAL: S440(theta,phi) =  0j\n",
      ">> From  PY: S440(theta,phi) =  0j\n",
      "## Error (%) =  nan\n",
      "---\n",
      ">> From LAL: S430(theta,phi) =  (-0+0j)\n",
      ">> From  PY: S430(theta,phi) =  0j\n",
      "## Error (%) =  nan\n",
      "---\n",
      ">> From LAL: S550(theta,phi) =  (-0-0j)\n",
      ">> From  PY: S550(theta,phi) =  (-0+0j)\n",
      "## Error (%) =  nan\n"
     ]
    },
    {
     "name": "stderr",
     "output_type": "stream",
     "text": [
      "/Library/Python/2.7/site-packages/ipykernel/__main__.py:15: RuntimeWarning: invalid value encountered in clongdouble_scalars\n"
     ]
    }
   ],
   "source": [
    "\n",
    "#\n",
    "for l,m,n in ns.lmn:\n",
    "\n",
    "    #\n",
    "    slal = lalsim.SpinWeightedSpheroidalHarmonic( xf, l, m, n, inclination, phi_ref )\n",
    "\n",
    "    #\n",
    "    spy = slm( xf,l,m,n,inclination,phi_ref,norm=True )\n",
    "\n",
    "    #\n",
    "    print '---'\n",
    "    print '>> From LAL: S%i%i%i(theta,phi) = '%(l,m,n),slal\n",
    "    print '>> From  PY: S%i%i%i(theta,phi) = '%(l,m,n),spy\n",
    "    print '## Error (%) = ',100*abs((slal-spy)/abs(spy))\n"
   ]
  },
  {
   "cell_type": "code",
   "execution_count": 16,
   "metadata": {
    "ExecuteTime": {
     "end_time": "2017-08-21T08:52:12.413244Z",
     "start_time": "2017-08-21T08:52:11.422517"
    },
    "collapsed": false
   },
   "outputs": [
    {
     "name": "stdout",
     "output_type": "stream",
     "text": [
      ">> Checking Normalization\n",
      "Python:  (1+0j)\n",
      "LAL:     (0.999307650351+0j)\n"
     ]
    },
    {
     "data": {
      "image/png": "[encoded data removed]",
      "text/plain": [
       "<matplotlib.figure.Figure at 0x10c35b2d0>"
      ]
     },
     "metadata": {},
     "output_type": "display_data"
    }
   ],
   "source": [
    "\n",
    "#\n",
    "l,m,n = 4,4,0\n",
    "jf = xf\n",
    "\n",
    "#\n",
    "theta = linspace(0,pi,5e2)\n",
    "phi = 0\n",
    "\n",
    "#\n",
    "Spy = slm( jf,l,m,n,theta,phi )\n",
    "Slal = array( [ lalsim.SpinWeightedSpheroidalHarmonic( jf, l, m, n, th, phi ) for th in theta ] )\n",
    "\n",
    "#\n",
    "plot( theta, abs(Spy), label = 'Py' )\n",
    "plot( theta, abs(Slal), label = 'LAL' )\n",
    "\n",
    "#\n",
    "legend( frameon=False )\n",
    "xlabel(r'$\\theta$')\n",
    "ylabel(r'$|S_{lmn}(\\theta,\\phi)|$')\n",
    "\n",
    "#\n",
    "print '>> Checking Normalization'\n",
    "print 'Python: ', 2*pi*trapz(Spy*Spy.conj()*sin(theta),theta )\n",
    "print 'LAL:    ', 2*pi*trapz(Slal*Slal.conj()*sin(theta),theta )"
   ]
  },
  {
   "cell_type": "markdown",
   "metadata": {},
   "source": [
    "## Compare LAL and Python Models"
   ]
  },
  {
   "cell_type": "code",
   "execution_count": 17,
   "metadata": {
    "ExecuteTime": {
     "end_time": "2017-08-21T08:52:13.367560Z",
     "start_time": "2017-08-21T08:52:12.415797"
    },
    "collapsed": false
   },
   "outputs": [
    {
     "name": "stdout",
     "output_type": "stream",
     "text": [
      "0.0 3.70337671094e-05 9.46139744517e+31 0.686241322119 0.25 0 0 2 2 0 4.62851637224e+24 0 0 400 0.0\n",
      "(-2.52172987014e-21-7.24064891934e-22j)\n",
      "(-2.5218724087e-21-7.24105819068e-22j)\n",
      "Error (%) = 0.005652\n",
      "0.999943479076\n"
     ]
    },
    {
     "data": {
      "image/png": "[encoded data removed]",
      "text/plain": [
       "<matplotlib.figure.Figure at 0x1120dcbd0>"
      ]
     },
     "metadata": {},
     "output_type": "display_data"
    }
   ],
   "source": [
    "\n",
    "#\n",
    "l,m,n = 2,2,0\n",
    "\n",
    "#\n",
    "# pyh = ns.meval_mode(l,m,n,eta)(t_code)\n",
    "pyh = physh( ns.meval_mode(l,m,n,eta)(t_code), M_Sol, D_Mpc ) * slm(xf,l,m,n,inclination,phi_ref)\n",
    "# pyh = physh( ns.meval_mode(l,m,n,eta)(t_code), M_Sol, D_Mpc )\n",
    "\n",
    "# No spheroidal harmonic scaling used here\n",
    "lah_raw = lalsim.SimRingdownGenerateSingleModeMMRDNS_time( 0.0, deltaT,Mf,xf,eta,inclination,phi_ref,l,m,n,D,0,0,len(t_code), physt(0,M_Sol) )\n",
    "print 0.0, deltaT,Mf,xf,eta,inclination,phi_ref,l,m,n,D,0,0,len(t_code), physt(0,M_Sol)\n",
    "# lah_raw = lalsim.SimRingdownGenerateSingleBareModeMMRDNS_time( 0.0, deltaT,Mf,xf,eta,l,m,n,D,0,0,len(t_code), physt(0,M_Sol) )\n",
    "lah = lah_raw.data.data\n",
    "\n",
    "#\n",
    "t = physt(t_code,M_Sol)\n",
    "\n",
    "#\n",
    "fig = figure( figsize = 6*array([2.1,1]) )\n",
    "\n",
    "#\n",
    "def plotc(t, c,color='k',alpha=1,label=None,linestyle='-'):\n",
    "    #\n",
    "    subplot(1,2,1)\n",
    "    alpha = 0.6\n",
    "    plot( t, c.real, color = color, alpha=alpha, label=label,linestyle=linestyle )\n",
    "    plot( t, c.imag, color = color, alpha=alpha,linestyle=linestyle )\n",
    "    plot( t, abs(c), color = color, alpha=alpha,linestyle=linestyle )\n",
    "    plot( t,-abs(c), color = color, alpha=alpha,linestyle=linestyle )\n",
    "    xlim( lim(t) )\n",
    "    legend( frameon=False )\n",
    "    #\n",
    "    subplot(1,2,2)\n",
    "    alpha = 0.6\n",
    "    plot( t, unwrap(angle(c)), color = color, alpha=alpha, label=label,linestyle=linestyle )\n",
    "    xlim( lim(t) )\n",
    "    legend( frameon=False )\n",
    "\n",
    "    \n",
    "plotc( t, pyh, color='b', label = 'Python',linestyle='-' )\n",
    "plotc( t, lah, color='g', label = 'LAL',linestyle='-' )\n",
    "\n",
    "\n",
    "# print abs(pyh[0])/abs(lah[0])\n",
    "# from nrutils.core.units import __physical_constants__\n",
    "# print __physical_constants__['mass_sun_secs']\n",
    "# print lal.MTSUN_SI/lal.MSUN_SI\n",
    "\n",
    "print pyh[0]\n",
    "print lah[0]\n",
    "print 'Error (%%) = %f' % ( 100*average( abs(pyh-lah)[0]/abs(lah)[0] ) )\n",
    "print abs(pyh[0]/lah[0])"
   ]
  },
  {
   "cell_type": "markdown",
   "metadata": {},
   "source": [
    "## Compare Recomposed Waveforms"
   ]
  },
  {
   "cell_type": "code",
   "execution_count": 18,
   "metadata": {
    "ExecuteTime": {
     "end_time": "2017-08-21T08:52:13.425380Z",
     "start_time": "2017-08-21T08:52:13.370315"
    },
    "collapsed": false
   },
   "outputs": [
    {
     "ename": "TypeError",
     "evalue": "meval() takes at least 3 arguments (0 given)",
     "output_type": "error",
     "traceback": [
      "\u001b[0;31m---------------------------------------------------------------------------\u001b[0m",
      "\u001b[0;31mTypeError\u001b[0m                                 Traceback (most recent call last)",
      "\u001b[0;32m<ipython-input-18-c47093a163a2>\u001b[0m in \u001b[0;36m<module>\u001b[0;34m()\u001b[0m\n\u001b[1;32m      1\u001b[0m \u001b[0;34m\u001b[0m\u001b[0m\n\u001b[1;32m      2\u001b[0m \u001b[0;31m#\u001b[0m\u001b[0;34m\u001b[0m\u001b[0;34m\u001b[0m\u001b[0m\n\u001b[0;32m----> 3\u001b[0;31m \u001b[0myrd\u001b[0m\u001b[0;34m.\u001b[0m\u001b[0malign\u001b[0m\u001b[0;34m(\u001b[0m \u001b[0mns\u001b[0m\u001b[0;34m.\u001b[0m\u001b[0mmeval\u001b[0m\u001b[0;34m(\u001b[0m\u001b[0;34m)\u001b[0m \u001b[0;34m,\u001b[0m\u001b[0mverbose\u001b[0m\u001b[0;34m=\u001b[0m\u001b[0mTrue\u001b[0m\u001b[0;34m,\u001b[0m\u001b[0mplot\u001b[0m\u001b[0;34m=\u001b[0m\u001b[0mTrue\u001b[0m\u001b[0;34m)\u001b[0m\u001b[0;34m\u001b[0m\u001b[0m\n\u001b[0m\u001b[1;32m      4\u001b[0m \u001b[0;34m\u001b[0m\u001b[0m\n\u001b[1;32m      5\u001b[0m \u001b[0;31m# Format NR Waveform\u001b[0m\u001b[0;34m\u001b[0m\u001b[0;34m\u001b[0m\u001b[0m\n",
      "\u001b[0;31mTypeError\u001b[0m: meval() takes at least 3 arguments (0 given)"
     ]
    }
   ],
   "source": [
    "\n",
    "#\n",
    "yrd.align( ns.meval() ,verbose=True,plot=True)\n",
    "\n",
    "# Format NR Waveform \n",
    "hnr = physh( yrd.recompose(inclination,phi_ref,kind='strain',domain='time').wfarr, M_Sol, D_Mpc )\n",
    "\n",
    "# Eval python model \n",
    "hpy = physh( ns.meval( inclination, phi_ref, eta, kind='strain' )(t_code), M_Sol, D_Mpc )\n",
    "\n",
    "# Evaluate LAL model\n",
    "hlal_raw = lalsim.SimRingdownMMRDNS_time(0.0,deltaT,Mf,xf,eta,inclination,phi_ref,D,nonGRparams=None)\n",
    "chlal = hlal_raw[0].data.data - 1j*hlal_raw[1].data.data"
   ]
  },
  {
   "cell_type": "code",
   "execution_count": null,
   "metadata": {
    "ExecuteTime": {
     "end_time": "2017-08-21T08:52:13.426211Z",
     "start_time": "2017-08-21T07:51:55.025Z"
    },
    "collapsed": false
   },
   "outputs": [],
   "source": [
    "#\n",
    "fig = figure( figsize=5*array([3.2,1]) )\n",
    "\n",
    "#\n",
    "def plotnr():\n",
    "    t = hnr[:,0]\n",
    "    # Plot NR Waveform\n",
    "    nr_alpha = 0.3\n",
    "    # Shift time to align with LAL verision\n",
    "    plot( t-t[0], hnr[:,1], 'k', alpha=nr_alpha )\n",
    "    plot( t-t[0], hnr[:,2], 'k', alpha=nr_alpha )\n",
    "    chnr = hnr[:,1]+1j*hnr[:,2]\n",
    "    plot( t-t[0], abs(chnr), 'k', alpha=nr_alpha, label='NR' )\n",
    "    plot( t-t[0],-abs(chnr), 'k', alpha=nr_alpha )\n",
    "    if False:\n",
    "        ll,mm = 2,2\n",
    "        hlallmraw = lalsim.SimRingdownGenerateSingleBareModeMMRDNS_time( 0.0, deltaT,M,xf,eta,ll,mm,0,D,0,0,len(t),0.0 )\n",
    "        hlal22 = sYlm(-2,ll,mm,inclination,phi_ref)*hlallmraw.data.data\n",
    "        plot( t-t[0],abs(hlal22),'--r',label='LAL (2,2,0) ONLY')\n",
    "        plot( t-t[0],-abs(hlal22),'--r' )\n",
    "    xlim( lim(t-t[0]) )\n",
    "    #\n",
    "    legend( frameon=False )\n",
    "\n",
    "#\n",
    "def plotlal():\n",
    "    alpha = 0.5\n",
    "    t = deltaT * arange( len(chlal) )\n",
    "    # Plot LAL Waveform\n",
    "    plot( t, chlal.real, 'b', alpha=alpha )\n",
    "    plot( t, chlal.imag, 'b', alpha=alpha )\n",
    "    plot( t, abs(chlal), 'b', label='MMRDNS (LAL)',alpha=alpha )\n",
    "    plot( t,-abs(chlal), 'b',alpha=alpha )\n",
    "    xlim( lim(t) )\n",
    "    #\n",
    "    legend( frameon=False )\n",
    "    \n",
    "#\n",
    "def plotpy():\n",
    "    alpha=0.90\n",
    "    color = 'k'\n",
    "    t = physt(t_code-t_code[0],M_Sol)\n",
    "    plot( t, hpy.real, '--',alpha=alpha, color=color, label='MMRDNS (PY)'  )\n",
    "    plot( t, hpy.imag, '--',alpha=alpha, color=color  )\n",
    "    plot( t, abs(hpy), '--',alpha=alpha, color=color  )\n",
    "    plot( t,-abs(hpy), '--',alpha=alpha, color=color  )\n",
    "    #\n",
    "    legend( frameon=False )\n",
    "\n",
    "#\n",
    "subplot(1,3,1)\n",
    "plotnr()\n",
    "plotpy()\n",
    "#\n",
    "subplot(1,3,2)\n",
    "plotlal()\n",
    "plotpy()\n",
    "#\n",
    "subplot(1,3,3)\n",
    "plotnr()\n",
    "plotlal()\n",
    "plotpy()\n"
   ]
  },
  {
   "cell_type": "markdown",
   "metadata": {},
   "source": [
    "## Compute Faithfulness "
   ]
  },
  {
   "cell_type": "code",
   "execution_count": null,
   "metadata": {
    "collapsed": true
   },
   "outputs": [],
   "source": []
  }
 ],
 "metadata": {
  "kernelspec": {
   "display_name": "Python [Root]",
   "language": "python",
   "name": "Python [Root]"
  },
  "language_info": {
   "codemirror_mode": {
    "name": "ipython",
    "version": 2
   },
   "file_extension": ".py",
   "mimetype": "text/x-python",
   "name": "python",
   "nbconvert_exporter": "python",
   "pygments_lexer": "ipython2",
   "version": "2.7.9"
  }
 },
 "nbformat": 4,
 "nbformat_minor": 0
}
