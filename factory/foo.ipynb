{
 "cells": [
  {
   "cell_type": "markdown",
   "metadata": {},
   "source": [
    "# Development for code review: MMRDNS"
   ]
  },
  {
   "cell_type": "markdown",
   "metadata": {
    "heading_collapsed": true
   },
   "source": [
    "## Notes\n",
    "---\n",
    "\n",
    "#### Aug 21st 2017\n",
    "* Verifying that all low-level chacks for q-1 pass -- they do.\n",
    "* Proceeding to more NR comparisons and faithfulness calculations.\n",
    "* TODO:\n",
    " * Verify inplementation of dfreq and dtau\n",
    " * Verify correct handling of $m<0$ cases\n",
    "\n",
    "#### Aug 16th 2017\n",
    "* Making core time domain fucntion dependent on \"BareMode\" testing function for consistency\n",
    "* ```A``` defined as ```REAL8``` but should be ```COMPLEX16``` -- This fixes the previously mentioned amplitude issue.\n",
    "\n",
    "#### Aug 12th 2017\n",
    "* Current issue: Amplitudes and phases of time domain waveforms are sligtly off (independently of spheroidal functions)\n",
    "* Now the spheroidal harmonic function works as expected! :DDD\n",
    "    * Errors (typically less than 1%) are now dominated by the fits used for the normalization constants.\n",
    "* Bug found and fixed in spheroidal LAL function: ```a0``` and ```a1``` must be initiated as ```COMPLEX16``` but they were defined as ```double```.\n",
    "* As a result of yesterday's discovery about the fit for QNM frequencies, I have implemented interpolation over QNM frequencies and separation constants by adding LALSimRingdownDATA.h to the workflow. The new related functions are ```XLALSimQNM_CW``` and ```XLALSimQNM_SC```.\n",
    "\n",
    "#### Aug 11th 2017\n",
    "* The discovery below was not enough. HOWEVER this did lead to another discovery --- THE FIT USED for the QNM frequencies and separation constants IS NOT ACCURATE ENOUGH to be used with the summation associated with spherodial harmonic calculation. \n",
    "* DISCOVERY: the convention used for the QNM frequencies in ```XLALcomplexOmega``` requires a conjugate in XLALcomplexOmega ```XLALSpinWeightedSpheroidalHarmonic```. Importantly, this is not the case for ```XLALseparationConstant```. This may fianlly fix ```XLALSpinWeightedSpheroidalHarmonic```.\n",
    "* Adding check of normalization: fit in LAL vs direct numerical calculation in python\n",
    "* Fixing the bug below helps, but now there are nans for low inclinaitons returned, and morphology of Slm are still a bit off for $(3,2,0)$.\n",
    "* Bug found in the Spheroidal function:\n",
    "``` C\n",
    "// Incorrect\n",
    "dY = pow(a2*(1.0+u),k);\n",
    "```\n",
    "Should be \n",
    "``` C\n",
    "// Correct\n",
    "dY = a2 * pow(1.0+u,k);\n",
    "```\n",
    "* There is definitely a noticeable error/bug in the LAL Spheroidal harmonic function: the amplitde and phase is off by ~10 percent for the q=1 test case\n",
    "    * The LAL spheroidal harmonics are not properly normalized. \n",
    "    * In some cases (e.g. $(l,m)=(3,2)$) the morphology of the spheroidal harmonic function is incorrect AND not properly normalized\n",
    "* Adding overall conjugation to output of Amplitude fit -- switching to correct phase convention\n",
    "``` C\n",
    "/*NOTE that the MATLAB code used to perform the fitting uses a different convention when handling the real and imaginary parts of psi4 than we will use here. The conjugation below makes the output of MMRDNS consistent with nrutils, which injects no manual minus signs when handling psi4, but enforces a phase convention: m>0 has frequencies >0 (non-precessing). NOTE that this may change in the future if significantly precessing systems are found to not sufficiently obey this property. See https://github.com/llondon6/nrutils_dev/blob/master/nrutils/core/nrsc.py#L1714-L1728 for more details.*/\n",
    "ans = conj( ans );\n",
    "```\n",
    "* I've locally modified a line in the LAL Amplitude function\n",
    "``` C\n",
    "  /* If m<0, then take the conjugate */\n",
    "  if ( input_m < 0 ) {\n",
    "    /**/\n",
    "    // OLD: ans = conj( ans );\n",
    "    ans = pow(-1,l) * conj( ans );\n",
    "  }\n",
    "```\n",
    "\n",
    "#### Aug 10th 2017\n",
    "* Adding mode-by-mode comparisons and making separate section for full signal comparison\n",
    "* I suspect an incorrect usage of the fninal mass fit: lalsim.E_rad_nonspinning_UIB2016(eta) --- the usage here turned out to be OK.\n",
    "\n",
    "#### Aug 9th 2017\n",
    "* (no longer of interest) The definition of time in the LAL version is correct but inconsistent with the model's construction. \n",
    "    * Tentatively changed in my version of the LAL Code by having T0=10M within the code. \n",
    "    * A better change may be to rescale the model itself with the LAL code.\n",
    "* There is something incorrect about how the multipoles are being added together: when modes beyond the fundmental are added, a strange modulation is"
   ]
  },
  {
   "cell_type": "markdown",
   "metadata": {},
   "source": [
    "## Setup Environment"
   ]
  },
  {
   "cell_type": "code",
   "execution_count": 1,
   "metadata": {
    "ExecuteTime": {
     "end_time": "2017-09-07T16:12:08.424583Z",
     "start_time": "2017-09-07T16:12:06.639151"
    },
    "code_folding": [],
    "collapsed": false
   },
   "outputs": [
    {
     "name": "stdout",
     "output_type": "stream",
     "text": [
      "(\u001b[0;36m<module>\u001b[0m)>> The LASIMULATION version is located at: \u001b[1m\u001b[0;33m/Users/book/.virtual_enviroments/ringdownFD_nikhef/opt/lalsuite/lib/python2.7/site-packages/lalsimulation\u001b[0m\u001b[0m\n"
     ]
    }
   ],
   "source": [
    "# Setup ipython environment\n",
    "%load_ext autoreload\n",
    "%autoreload 2\n",
    "# %matplotlib auto\n",
    "%matplotlib inline\n",
    "# Import useful things\n",
    "#\n",
    "# from os import system\n",
    "# system('source ~/.virtual_enviroments/ringdownFD_nikhef/bin/activate')\n",
    "from nrutils.core.basics import lalphenom\n",
    "from kerr import rgb,gmvpfit,modelrd,anglep,qnmfit,leaver,ndflatten,sunwrap,alert,cyan,slm\n",
    "from kerr.models import mmrdns as ns\n",
    "from nrutils import scsearch,gwylm,FinalSpin0815,EradRational0815\n",
    "# Setup plotting backend\n",
    "import matplotlib as mpl\n",
    "from mpl_toolkits.mplot3d import axes3d\n",
    "mpl.rcParams['lines.linewidth'] = 0.8\n",
    "mpl.rcParams['font.family'] = 'serif'\n",
    "mpl.rcParams['font.size'] = 12\n",
    "mpl.rcParams['axes.labelsize'] = 20\n",
    "mpl.rcParams['axes.titlesize'] = 20\n",
    "from matplotlib.pyplot import *\n",
    "from mpl_toolkits.mplot3d import Axes3D\n",
    "#\n",
    "import corner\n",
    "#\n",
    "from numpy import *\n",
    "from numpy.linalg import pinv\n",
    "#\n",
    "from nrutils.core.units import *\n",
    "#\n",
    "from scipy.optimize import minimize\n",
    "from os.path import expanduser\n",
    "#\n",
    "import lal\n",
    "from lal import MSUN_SI, PC_SI, C_SI, G_SI, MTSUN_SI\n",
    "import lalsimulation as lalsim\n",
    "alert('The LASIMULATION version is located at: %s'%( bold(yellow(lalsim.__path__[0])) ))\n",
    "#\n",
    "import review_ringdownFD_nikhef as review"
   ]
  },
  {
   "cell_type": "markdown",
   "metadata": {},
   "source": [
    "## Select and Load NR Data"
   ]
  },
  {
   "cell_type": "code",
   "execution_count": 2,
   "metadata": {
    "ExecuteTime": {
     "end_time": "2017-09-07T16:12:13.783666Z",
     "start_time": "2017-09-07T16:12:08.428244"
    },
    "collapsed": false
   },
   "outputs": [
    {
     "name": "stdout",
     "output_type": "stream",
     "text": [
      "(\u001b[0;36mscsearch\u001b[0m)>> Found \u001b[4mkeyword\u001b[0m (='hrq') keyword.\n",
      "(\u001b[0;36mscsearch\u001b[0m)>> Found \u001b[4mq\u001b[0m (=3) keyword.\n",
      "(\u001b[0;36mscsearch\u001b[0m)>> Found \u001b[4mverbose\u001b[0m (=True) keyword.\n",
      "(\u001b[0;36mscsearch\u001b[0m)>> List of keywords or string keyword found: \u001b[0;36mALL scentry objects matching will be passed.\u001b[0m To pass ANY entries matching the keywords, input the keywords using an iterable of not of type list.\n",
      "## Found \u001b[1m10\u001b[0m\u001b[0;35m possibly degenerate\u001b[0m simulations:\n",
      "[0001][\u001b[92mbradwr\u001b[0m] \u001b[0;36mHRq-series\u001b[0m: ns-q3.00\t(\u001b[0;36mD9_q3.0_a0.0_m160\u001b[0m)\n",
      "[0002][\u001b[92mbradwr\u001b[0m] \u001b[0;36mHRq-series\u001b[0m: ns-q3.00\t(\u001b[0;36mD9_q3.0_a0.0_CFL25_m120\u001b[0m)\n",
      "[0003][\u001b[92mbradwr\u001b[0m] \u001b[0;36mHRq-series\u001b[0m: ns-q3.00\t(\u001b[0;36mD9_q3.0_a0.0_CFL25_m100\u001b[0m)\n",
      "[0004][\u001b[92mbradwr\u001b[0m] \u001b[0;36mHRq-series\u001b[0m: ns-q3.00\t(\u001b[0;36mD9_q3.0_a0.0_m100\u001b[0m)\n",
      "[0005][\u001b[92mbradwr\u001b[0m] \u001b[0;36mHRq-series\u001b[0m: ns-q3.00\t(\u001b[0;36mD9_q3.0_a0.0_m120\u001b[0m)\n",
      "[0006][\u001b[92mbradwr\u001b[0m] \u001b[0;36mHRq-series\u001b[0m: ns-q3.00\t(\u001b[0;36mD9_q3.0_a0.0_m180\u001b[0m)\n",
      "[0007][\u001b[92mbradwr\u001b[0m] \u001b[0;36mHRq-series\u001b[0m: ns-q3.00\t(\u001b[0;36mD9_q3.0_a0.0_m140\u001b[0m)\n",
      "[0008][\u001b[92mbradwr\u001b[0m] \u001b[0;36mHRq-series\u001b[0m: ns-q3.00\t(\u001b[0;36mD9_q3.0_a0.0_CFL125_m100\u001b[0m)\n",
      "[0009][\u001b[92mbradwr\u001b[0m] \u001b[0;36mHRq-series\u001b[0m: ns-q3.00\t(\u001b[0;36mD9_q3.0_a0.0_CFL25_m160\u001b[0m)\n",
      "[0010][\u001b[92mbradwr\u001b[0m] \u001b[0;36mHRq-series\u001b[0m: ns-q3.00\t(\u001b[0;36mD9_q3.0_a0.0_CFL25_m140\u001b[0m)\n",
      "\n"
     ]
    }
   ],
   "source": [
    "# Find simlations to load \n",
    "# A = scsearch(keyword='D11_q1.00_a0.0_m240',verbose=True)\n",
    "A = scsearch(keyword='hrq',q=3,verbose=True)\n",
    "# A = scsearch(keyword='D9_q1.2_a0.0_m160',verbose=True)\n",
    "# A = scsearch(nonspinning=True,q=1.2,verbose=True,institute='gt',keyword='hrq')"
   ]
  },
  {
   "cell_type": "code",
   "execution_count": 4,
   "metadata": {
    "ExecuteTime": {
     "end_time": "2017-09-07T16:13:52.419600Z",
     "start_time": "2017-09-07T16:13:24.940886"
    },
    "collapsed": false
   },
   "outputs": [
    {
     "name": "stdout",
     "output_type": "stream",
     "text": [
      "(\u001b[0;36mgwylm\u001b[0m)>> Found \u001b[4mdt\u001b[0m (=0.15) keyword.\n",
      "(\u001b[0;36mgwylm\u001b[0m)>> Found \u001b[4mlm\u001b[0m (=[(2, 2), (2, -2), (2, 1), (2, -1), (3, 3), (3, -3), (3, 2), (3, -2), (4, 4), (4, -4), (4, 3), (4, -3), (5, 5), (5, -5)]) keyword.\n",
      "(\u001b[0;36mgwylm\u001b[0m)>> Found \u001b[4mscentry_obj\u001b[0m (=<nrutils.core.nrsc.scentry instance at 0x10cab3128>) keyword.\n",
      "(\u001b[0;36mgwylm\u001b[0m)>> Found \u001b[4mverbose\u001b[0m (=True) keyword.\n",
      "\u001b[1m(\u001b[0;33mvalidate!\u001b[0m)>> \u001b[0mMultiple catalog directories found. We will scan through the related list, and then store first the catalog_dir that the OS can find.\n",
      "\u001b[1m(\u001b[0;33mvalidate!\u001b[0m)>> \u001b[0mSelecting \"\u001b[0;36m/Users/book/MOUNT/datafiles@gatech/Waveforms/\u001b[0m\"\n",
      "(\u001b[0;36mgwylm\u001b[0m)>> The (\u001b[0;35mextraction_parameter\u001b[0m,\u001b[92mlevel\u001b[0m) is (\u001b[0;35m75.0\u001b[0m,\u001b[92mNone\u001b[0m), which differs from the config values of (75,0). You have either manually input the non-config values, or the handler has set them by looking at the contents of the simulation directory. \n",
      "(\u001b[0;36m__make_lmlist__\u001b[0m)>> The following spherical multipoles will be loaded:\u001b[0;36m[(2, 2), (2, -2), (2, 1), (2, -1), (3, 3), (3, -3), (3, 2), (3, -2), (4, 4), (4, -4), (4, 3), (4, -3), (5, 5), (5, -5)]\u001b[0m\n",
      "(\u001b[0;36mload\u001b[0m)>> Loading: \u001b[0;36mmp_WeylScal4::Psi4i_l2_m2_r75.00.asc\u001b[0m\n",
      "(\u001b[0;36mload\u001b[0m)>> Imposing a default padding of 3 to the data.\n",
      "(\u001b[0;36mpad_wfarr\u001b[0m)>> The shape was (7994, 3). Now the shape is (7997, 3).\n",
      "(\u001b[0;36mload\u001b[0m)>> Loading: \u001b[0;36mmp_WeylScal4::Psi4i_l2_m-2_r75.00.asc\u001b[0m\n",
      "(\u001b[0;36mload\u001b[0m)>> Imposing a default padding of 3 to the data.\n",
      "(\u001b[0;36mpad_wfarr\u001b[0m)>> The shape was (7994, 3). Now the shape is (7997, 3).\n",
      "(\u001b[0;36mload\u001b[0m)>> Loading: \u001b[0;36mmp_WeylScal4::Psi4i_l2_m1_r75.00.asc\u001b[0m\n",
      "(\u001b[0;36mload\u001b[0m)>> Imposing a default padding of 3 to the data.\n",
      "(\u001b[0;36mpad_wfarr\u001b[0m)>> The shape was (7994, 3). Now the shape is (7997, 3).\n",
      "(\u001b[0;36mload\u001b[0m)>> Loading: \u001b[0;36mmp_WeylScal4::Psi4i_l2_m-1_r75.00.asc\u001b[0m\n",
      "(\u001b[0;36mload\u001b[0m)>> Imposing a default padding of 3 to the data.\n",
      "(\u001b[0;36mpad_wfarr\u001b[0m)>> The shape was (7994, 3). Now the shape is (7997, 3).\n",
      "(\u001b[0;36mload\u001b[0m)>> Loading: \u001b[0;36mmp_WeylScal4::Psi4i_l3_m3_r75.00.asc\u001b[0m\n",
      "(\u001b[0;36mload\u001b[0m)>> Imposing a default padding of 3 to the data.\n",
      "(\u001b[0;36mpad_wfarr\u001b[0m)>> The shape was (7994, 3). Now the shape is (7997, 3).\n",
      "(\u001b[0;36mload\u001b[0m)>> Loading: \u001b[0;36mmp_WeylScal4::Psi4i_l3_m-3_r75.00.asc\u001b[0m\n",
      "(\u001b[0;36mload\u001b[0m)>> Imposing a default padding of 3 to the data.\n",
      "(\u001b[0;36mpad_wfarr\u001b[0m)>> The shape was (7994, 3). Now the shape is (7997, 3).\n",
      "(\u001b[0;36mload\u001b[0m)>> Loading: \u001b[0;36mmp_WeylScal4::Psi4i_l3_m2_r75.00.asc\u001b[0m\n",
      "(\u001b[0;36mload\u001b[0m)>> Imposing a default padding of 3 to the data.\n",
      "(\u001b[0;36mpad_wfarr\u001b[0m)>> The shape was (7994, 3). Now the shape is (7997, 3).\n",
      "(\u001b[0;36mload\u001b[0m)>> Loading: \u001b[0;36mmp_WeylScal4::Psi4i_l3_m-2_r75.00.asc\u001b[0m\n",
      "(\u001b[0;36mload\u001b[0m)>> Imposing a default padding of 3 to the data.\n",
      "(\u001b[0;36mpad_wfarr\u001b[0m)>> The shape was (7994, 3). Now the shape is (7997, 3).\n",
      "(\u001b[0;36mload\u001b[0m)>> Loading: \u001b[0;36mmp_WeylScal4::Psi4i_l4_m4_r75.00.asc\u001b[0m\n",
      "(\u001b[0;36mload\u001b[0m)>> Imposing a default padding of 3 to the data.\n",
      "(\u001b[0;36mpad_wfarr\u001b[0m)>> The shape was (7994, 3). Now the shape is (7997, 3).\n",
      "(\u001b[0;36mload\u001b[0m)>> Loading: \u001b[0;36mmp_WeylScal4::Psi4i_l4_m-4_r75.00.asc\u001b[0m\n",
      "(\u001b[0;36mload\u001b[0m)>> Imposing a default padding of 3 to the data.\n",
      "(\u001b[0;36mpad_wfarr\u001b[0m)>> The shape was (7994, 3). Now the shape is (7997, 3).\n",
      "(\u001b[0;36mload\u001b[0m)>> Loading: \u001b[0;36mmp_WeylScal4::Psi4i_l4_m3_r75.00.asc\u001b[0m\n",
      "(\u001b[0;36mload\u001b[0m)>> Imposing a default padding of 3 to the data.\n",
      "(\u001b[0;36mpad_wfarr\u001b[0m)>> The shape was (7994, 3). Now the shape is (7997, 3).\n",
      "(\u001b[0;36mload\u001b[0m)>> Loading: \u001b[0;36mmp_WeylScal4::Psi4i_l4_m-3_r75.00.asc\u001b[0m\n",
      "(\u001b[0;36mload\u001b[0m)>> Imposing a default padding of 3 to the data.\n",
      "(\u001b[0;36mpad_wfarr\u001b[0m)>> The shape was (7994, 3). Now the shape is (7997, 3).\n",
      "(\u001b[0;36mload\u001b[0m)>> Loading: \u001b[0;36mmp_WeylScal4::Psi4i_l5_m5_r75.00.asc\u001b[0m\n",
      "(\u001b[0;36mload\u001b[0m)>> Imposing a default padding of 3 to the data.\n",
      "(\u001b[0;36mpad_wfarr\u001b[0m)>> The shape was (7994, 3). Now the shape is (7997, 3).\n",
      "(\u001b[0;36mload\u001b[0m)>> Loading: \u001b[0;36mmp_WeylScal4::Psi4i_l5_m-5_r75.00.asc\u001b[0m\n",
      "(\u001b[0;36mload\u001b[0m)>> Imposing a default padding of 3 to the data.\n",
      "(\u001b[0;36mpad_wfarr\u001b[0m)>> The shape was (7994, 3). Now the shape is (7997, 3).\n",
      "(\u001b[0;36mgwylm\u001b[0m)>> Storing w22 from a \u001b[1m\u001b[0;35mPN estimate\u001b[0m\u001b[0m[see pnw0 in basics.py, and/or arxiv:1310.1528v4]. This will be the frequency parameter used if strain is to be calculated.\n",
      "(\u001b[0;36mcalcflm\u001b[0m)>> \u001b[0;35mw0(w22) = 0.057771\u001b[0m\u001b[0;33m (this is the lower frequency used for FFI method [arxiv:1006.1632v3])\u001b[0m\n",
      "(\u001b[0;36mcalcflm\u001b[0m)>> \u001b[0;35mw0(w22) = -0.057771\u001b[0m\u001b[0;33m (this is the lower frequency used for FFI method [arxiv:1006.1632v3])\u001b[0m\n",
      "(\u001b[0;36mcalcflm\u001b[0m)>> \u001b[0;35mw0(w22) = 0.028885\u001b[0m\u001b[0;33m (this is the lower frequency used for FFI method [arxiv:1006.1632v3])\u001b[0m\n",
      "(\u001b[0;36mcalcflm\u001b[0m)>> \u001b[0;35mw0(w22) = -0.028885\u001b[0m\u001b[0;33m (this is the lower frequency used for FFI method [arxiv:1006.1632v3])\u001b[0m\n",
      "(\u001b[0;36mcalcflm\u001b[0m)>> \u001b[0;35mw0(w22) = 0.086656\u001b[0m\u001b[0;33m (this is the lower frequency used for FFI method [arxiv:1006.1632v3])\u001b[0m\n",
      "(\u001b[0;36mcalcflm\u001b[0m)>> \u001b[0;35mw0(w22) = -0.086656\u001b[0m\u001b[0;33m (this is the lower frequency used for FFI method [arxiv:1006.1632v3])\u001b[0m\n",
      "(\u001b[0;36mcalcflm\u001b[0m)>> \u001b[0;35mw0(w22) = 0.057771\u001b[0m\u001b[0;33m (this is the lower frequency used for FFI method [arxiv:1006.1632v3])\u001b[0m\n",
      "(\u001b[0;36mcalcflm\u001b[0m)>> \u001b[0;35mw0(w22) = -0.057771\u001b[0m\u001b[0;33m (this is the lower frequency used for FFI method [arxiv:1006.1632v3])\u001b[0m\n",
      "(\u001b[0;36mcalcflm\u001b[0m)>> \u001b[0;35mw0(w22) = 0.115542\u001b[0m\u001b[0;33m (this is the lower frequency used for FFI method [arxiv:1006.1632v3])\u001b[0m\n",
      "(\u001b[0;36mcalcflm\u001b[0m)>> \u001b[0;35mw0(w22) = -0.115542\u001b[0m\u001b[0;33m (this is the lower frequency used for FFI method [arxiv:1006.1632v3])\u001b[0m\n",
      "(\u001b[0;36mcalcflm\u001b[0m)>> \u001b[0;35mw0(w22) = 0.086656\u001b[0m\u001b[0;33m (this is the lower frequency used for FFI method [arxiv:1006.1632v3])\u001b[0m\n",
      "(\u001b[0;36mcalcflm\u001b[0m)>> \u001b[0;35mw0(w22) = -0.086656\u001b[0m\u001b[0;33m (this is the lower frequency used for FFI method [arxiv:1006.1632v3])\u001b[0m\n",
      "(\u001b[0;36mcalcflm\u001b[0m)>> \u001b[0;35mw0(w22) = 0.144427\u001b[0m\u001b[0;33m (this is the lower frequency used for FFI method [arxiv:1006.1632v3])\u001b[0m\n",
      "(\u001b[0;36mcalcflm\u001b[0m)>> \u001b[0;35mw0(w22) = -0.144427\u001b[0m\u001b[0;33m (this is the lower frequency used for FFI method [arxiv:1006.1632v3])\u001b[0m\n",
      "(\u001b[0;36mcalchlm\u001b[0m)>> \u001b[0;35mw22 = m*w22/2 = 0.057771\u001b[0m\u001b[0;33m (this is the lower frequency used for FFI method [arxiv:1006.1632v3])\u001b[0m\n",
      "(\u001b[0;36mgwylm.calchlm\u001b[0m)>> \u001b[0;33mThe user should note that there is no minus sign used in front of the double time integral for strain (i.e. Eq 4 of arxiv:1006.1632). This differs from Eq 3.4 of arxiv:0707.4654v3. The net effect is a rotation of the overall polarization of pi degrees. The user should also note that there is no minus sign applied to h_cross meaning that the user must be mindful to write h_pluss-1j*h_cross when appropriate.\u001b[0m\n",
      "(\u001b[0;36mcalchlm\u001b[0m)>> \u001b[0;35mw2-2 = m*w22/2 = -0.057771\u001b[0m\u001b[0;33m (this is the lower frequency used for FFI method [arxiv:1006.1632v3])\u001b[0m\n",
      "(\u001b[0;36mgwylm.calchlm\u001b[0m)>> \u001b[0;33mThe user should note that there is no minus sign used in front of the double time integral for strain (i.e. Eq 4 of arxiv:1006.1632). This differs from Eq 3.4 of arxiv:0707.4654v3. The net effect is a rotation of the overall polarization of pi degrees. The user should also note that there is no minus sign applied to h_cross meaning that the user must be mindful to write h_pluss-1j*h_cross when appropriate.\u001b[0m\n",
      "(\u001b[0;36mcalchlm\u001b[0m)>> \u001b[0;35mw21 = m*w22/2 = 0.028885\u001b[0m\u001b[0;33m (this is the lower frequency used for FFI method [arxiv:1006.1632v3])\u001b[0m\n",
      "(\u001b[0;36mgwylm.calchlm\u001b[0m)>> \u001b[0;33mThe user should note that there is no minus sign used in front of the double time integral for strain (i.e. Eq 4 of arxiv:1006.1632). This differs from Eq 3.4 of arxiv:0707.4654v3. The net effect is a rotation of the overall polarization of pi degrees. The user should also note that there is no minus sign applied to h_cross meaning that the user must be mindful to write h_pluss-1j*h_cross when appropriate.\u001b[0m\n",
      "(\u001b[0;36mcalchlm\u001b[0m)>> \u001b[0;35mw2-1 = m*w22/2 = -0.028885\u001b[0m\u001b[0;33m (this is the lower frequency used for FFI method [arxiv:1006.1632v3])\u001b[0m\n",
      "(\u001b[0;36mgwylm.calchlm\u001b[0m)>> \u001b[0;33mThe user should note that there is no minus sign used in front of the double time integral for strain (i.e. Eq 4 of arxiv:1006.1632). This differs from Eq 3.4 of arxiv:0707.4654v3. The net effect is a rotation of the overall polarization of pi degrees. The user should also note that there is no minus sign applied to h_cross meaning that the user must be mindful to write h_pluss-1j*h_cross when appropriate.\u001b[0m\n",
      "(\u001b[0;36mcalchlm\u001b[0m)>> \u001b[0;35mw33 = m*w22/2 = 0.086656\u001b[0m\u001b[0;33m (this is the lower frequency used for FFI method [arxiv:1006.1632v3])\u001b[0m\n",
      "(\u001b[0;36mgwylm.calchlm\u001b[0m)>> \u001b[0;33mThe user should note that there is no minus sign used in front of the double time integral for strain (i.e. Eq 4 of arxiv:1006.1632). This differs from Eq 3.4 of arxiv:0707.4654v3. The net effect is a rotation of the overall polarization of pi degrees. The user should also note that there is no minus sign applied to h_cross meaning that the user must be mindful to write h_pluss-1j*h_cross when appropriate.\u001b[0m\n",
      "(\u001b[0;36mcalchlm\u001b[0m)>> \u001b[0;35mw3-3 = m*w22/2 = -0.086656\u001b[0m\u001b[0;33m (this is the lower frequency used for FFI method [arxiv:1006.1632v3])\u001b[0m\n",
      "(\u001b[0;36mgwylm.calchlm\u001b[0m)>> \u001b[0;33mThe user should note that there is no minus sign used in front of the double time integral for strain (i.e. Eq 4 of arxiv:1006.1632). This differs from Eq 3.4 of arxiv:0707.4654v3. The net effect is a rotation of the overall polarization of pi degrees. The user should also note that there is no minus sign applied to h_cross meaning that the user must be mindful to write h_pluss-1j*h_cross when appropriate.\u001b[0m\n",
      "(\u001b[0;36mcalchlm\u001b[0m)>> \u001b[0;35mw32 = m*w22/2 = 0.057771\u001b[0m\u001b[0;33m (this is the lower frequency used for FFI method [arxiv:1006.1632v3])\u001b[0m\n",
      "(\u001b[0;36mgwylm.calchlm\u001b[0m)>> \u001b[0;33mThe user should note that there is no minus sign used in front of the double time integral for strain (i.e. Eq 4 of arxiv:1006.1632). This differs from Eq 3.4 of arxiv:0707.4654v3. The net effect is a rotation of the overall polarization of pi degrees. The user should also note that there is no minus sign applied to h_cross meaning that the user must be mindful to write h_pluss-1j*h_cross when appropriate.\u001b[0m\n",
      "(\u001b[0;36mcalchlm\u001b[0m)>> \u001b[0;35mw3-2 = m*w22/2 = -0.057771\u001b[0m\u001b[0;33m (this is the lower frequency used for FFI method [arxiv:1006.1632v3])\u001b[0m\n",
      "(\u001b[0;36mgwylm.calchlm\u001b[0m)>> \u001b[0;33mThe user should note that there is no minus sign used in front of the double time integral for strain (i.e. Eq 4 of arxiv:1006.1632). This differs from Eq 3.4 of arxiv:0707.4654v3. The net effect is a rotation of the overall polarization of pi degrees. The user should also note that there is no minus sign applied to h_cross meaning that the user must be mindful to write h_pluss-1j*h_cross when appropriate.\u001b[0m\n",
      "(\u001b[0;36mcalchlm\u001b[0m)>> \u001b[0;35mw44 = m*w22/2 = 0.115542\u001b[0m\u001b[0;33m (this is the lower frequency used for FFI method [arxiv:1006.1632v3])\u001b[0m\n",
      "(\u001b[0;36mgwylm.calchlm\u001b[0m)>> \u001b[0;33mThe user should note that there is no minus sign used in front of the double time integral for strain (i.e. Eq 4 of arxiv:1006.1632). This differs from Eq 3.4 of arxiv:0707.4654v3. The net effect is a rotation of the overall polarization of pi degrees. The user should also note that there is no minus sign applied to h_cross meaning that the user must be mindful to write h_pluss-1j*h_cross when appropriate.\u001b[0m\n",
      "(\u001b[0;36mcalchlm\u001b[0m)>> \u001b[0;35mw4-4 = m*w22/2 = -0.115542\u001b[0m\u001b[0;33m (this is the lower frequency used for FFI method [arxiv:1006.1632v3])\u001b[0m\n",
      "(\u001b[0;36mgwylm.calchlm\u001b[0m)>> \u001b[0;33mThe user should note that there is no minus sign used in front of the double time integral for strain (i.e. Eq 4 of arxiv:1006.1632). This differs from Eq 3.4 of arxiv:0707.4654v3. The net effect is a rotation of the overall polarization of pi degrees. The user should also note that there is no minus sign applied to h_cross meaning that the user must be mindful to write h_pluss-1j*h_cross when appropriate.\u001b[0m\n",
      "(\u001b[0;36mcalchlm\u001b[0m)>> \u001b[0;35mw43 = m*w22/2 = 0.086656\u001b[0m\u001b[0;33m (this is the lower frequency used for FFI method [arxiv:1006.1632v3])\u001b[0m\n",
      "(\u001b[0;36mgwylm.calchlm\u001b[0m)>> \u001b[0;33mThe user should note that there is no minus sign used in front of the double time integral for strain (i.e. Eq 4 of arxiv:1006.1632). This differs from Eq 3.4 of arxiv:0707.4654v3. The net effect is a rotation of the overall polarization of pi degrees. The user should also note that there is no minus sign applied to h_cross meaning that the user must be mindful to write h_pluss-1j*h_cross when appropriate.\u001b[0m\n",
      "(\u001b[0;36mcalchlm\u001b[0m)>> \u001b[0;35mw4-3 = m*w22/2 = -0.086656\u001b[0m\u001b[0;33m (this is the lower frequency used for FFI method [arxiv:1006.1632v3])\u001b[0m\n",
      "(\u001b[0;36mgwylm.calchlm\u001b[0m)>> \u001b[0;33mThe user should note that there is no minus sign used in front of the double time integral for strain (i.e. Eq 4 of arxiv:1006.1632). This differs from Eq 3.4 of arxiv:0707.4654v3. The net effect is a rotation of the overall polarization of pi degrees. The user should also note that there is no minus sign applied to h_cross meaning that the user must be mindful to write h_pluss-1j*h_cross when appropriate.\u001b[0m\n",
      "(\u001b[0;36mcalchlm\u001b[0m)>> \u001b[0;35mw55 = m*w22/2 = 0.144427\u001b[0m\u001b[0;33m (this is the lower frequency used for FFI method [arxiv:1006.1632v3])\u001b[0m\n",
      "(\u001b[0;36mgwylm.calchlm\u001b[0m)>> \u001b[0;33mThe user should note that there is no minus sign used in front of the double time integral for strain (i.e. Eq 4 of arxiv:1006.1632). This differs from Eq 3.4 of arxiv:0707.4654v3. The net effect is a rotation of the overall polarization of pi degrees. The user should also note that there is no minus sign applied to h_cross meaning that the user must be mindful to write h_pluss-1j*h_cross when appropriate.\u001b[0m\n",
      "(\u001b[0;36mcalchlm\u001b[0m)>> \u001b[0;35mw5-5 = m*w22/2 = -0.144427\u001b[0m\u001b[0;33m (this is the lower frequency used for FFI method [arxiv:1006.1632v3])\u001b[0m\n",
      "(\u001b[0;36mgwylm.calchlm\u001b[0m)>> \u001b[0;33mThe user should note that there is no minus sign used in front of the double time integral for strain (i.e. Eq 4 of arxiv:1006.1632). This differs from Eq 3.4 of arxiv:0707.4654v3. The net effect is a rotation of the overall polarization of pi degrees. The user should also note that there is no minus sign applied to h_cross meaning that the user must be mindful to write h_pluss-1j*h_cross when appropriate.\u001b[0m\n"
     ]
    }
   ],
   "source": [
    "# Load simulation data\n",
    "a = A[0]\n",
    "# y = gwylm( a, lm=[(2,2)], verbose=True )\n",
    "# y = gwylm( a, lm=[(2,-2),(3,2),(3-2)], verbose=True )\n",
    "# y = gwylm( a, lm=[(2,2),(3,3),(3,2),(4,4),(4,3),(5,5)], verbose=True )\n",
    "# y = gwylm( a, lm=[(2,-2),(3,-3),(3,-2),(4,-4),(4,-3),(5,-5)], verbose=True )\n",
    "lm = []\n",
    "for ll,mm in [(2,2),(2,1),(3,3),(3,2),(4,4),(4,3),(5,5)]:\n",
    "    lm += [ (ll,mm), (ll,-mm) ]\n",
    "y = gwylm( a, lm=lm, verbose=True )"
   ]
  },
  {
   "cell_type": "code",
   "execution_count": 5,
   "metadata": {
    "ExecuteTime": {
     "end_time": "2017-09-07T16:13:52.988001Z",
     "start_time": "2017-09-07T16:13:52.422580"
    },
    "collapsed": false
   },
   "outputs": [
    {
     "name": "stdout",
     "output_type": "stream",
     "text": [
      "(\u001b[0;36mringdown\u001b[0m)>> Time will be listed relative to the peak of \u001b[0;36mluminosity\u001b[0m.\n"
     ]
    }
   ],
   "source": [
    "#\n",
    "yrd = y.ringdown(T0=10,use_peak_strain=False,verbose=True)"
   ]
  },
  {
   "cell_type": "code",
   "execution_count": 6,
   "metadata": {
    "ExecuteTime": {
     "end_time": "2017-09-07T16:13:53.025197Z",
     "start_time": "2017-09-07T16:13:52.991349"
    },
    "collapsed": false
   },
   "outputs": [],
   "source": [
    "# Define physical parameters for LAL comparison\n",
    "M_Sol = 50\n",
    "Mf_Sol = 1.00002821*M_Sol * y.mf\n",
    "D_Mpc = 150\n",
    "inclination = pi/3\n",
    "fmin = 20\n",
    "phi_ref = 0 # pi/3\n",
    "#\n",
    "M = M_Sol*MSUN_SI\n",
    "Mf = Mf_Sol*MSUN_SI\n",
    "D = D_Mpc*1.0e6*PC_SI\n",
    "#\n",
    "t_code = yrd.lm[2,2]['strain'].t\n",
    "deltaT = physt( diff(t_code)[0], M_Sol )\n",
    "xf = y.xf\n",
    "eta = y.eta"
   ]
  },
  {
   "cell_type": "markdown",
   "metadata": {},
   "source": [
    "### Spot check final mass fit "
   ]
  },
  {
   "cell_type": "code",
   "execution_count": 7,
   "metadata": {
    "ExecuteTime": {
     "end_time": "2017-09-07T16:13:53.062460Z",
     "start_time": "2017-09-07T16:13:53.028046"
    },
    "collapsed": false
   },
   "outputs": [
    {
     "name": "stdout",
     "output_type": "stream",
     "text": [
      ">> From LAL UIB Fit: Mf =  0.97125019078\n",
      ">> From NR metadata: Mf =  0.971218470355\n",
      ">> Estimated initial mass: M_Sol =  49.9997774851\n",
      ">> Desired initial mass  : M_Sol =  50\n"
     ]
    }
   ],
   "source": [
    "print '>> From LAL UIB Fit: Mf = ',1-lalsim.E_rad_nonspinning_UIB2016(eta)\n",
    "print '>> From NR metadata: Mf = ',y.mf\n",
    "print '>> Estimated initial mass: M_Sol = ', lalsim.Mf_to_M_nonspinning_UIB2016(eta, Mf_Sol)\n",
    "print '>> Desired initial mass  : M_Sol = ', M_Sol"
   ]
  },
  {
   "cell_type": "markdown",
   "metadata": {
    "ExecuteTime": {
     "end_time": "2017-08-10T14:38:29.578130Z",
     "start_time": "2017-08-10T14:38:29.542377"
    }
   },
   "source": [
    "### Directly compare amplitude functions"
   ]
  },
  {
   "cell_type": "code",
   "execution_count": 8,
   "metadata": {
    "ExecuteTime": {
     "end_time": "2017-09-07T16:13:53.114271Z",
     "start_time": "2017-09-07T16:13:53.065833"
    },
    "collapsed": false
   },
   "outputs": [
    {
     "name": "stdout",
     "output_type": "stream",
     "text": [
      ">> From LAL MMRDNS Fit: A220 =  (-0.171875507736-0.0449392972625j)\n",
      ">> From PY  MMRDNS Fit: A220 =  (-0.171875507736-0.0449392972625j)\n",
      "## Error (%) =  0.0\n",
      "---\n",
      ">> From LAL MMRDNS Fit: A2-20 =  (-0.171875507736+0.0449392972625j)\n",
      ">> From PY  MMRDNS Fit: A2-20 =  (-0.171875507736+0.0449392972625j)\n",
      "## Error (%) =  0.0\n",
      "---\n",
      ">> From LAL MMRDNS Fit: A221 =  (0.0230794189277-0.0207215912778j)\n",
      ">> From PY  MMRDNS Fit: A221 =  (0.0230794189277-0.0207215912778j)\n",
      "## Error (%) =  0.0\n",
      "---\n",
      ">> From LAL MMRDNS Fit: A2-21 =  (0.0230794189277+0.0207215912778j)\n",
      ">> From PY  MMRDNS Fit: A2-21 =  (0.0230794189277+0.0207215912778j)\n",
      "## Error (%) =  0.0\n",
      "---\n",
      ">> From LAL MMRDNS Fit: A210 =  (0.0259653043898-0.0265344037486j)\n",
      ">> From PY  MMRDNS Fit: A210 =  (0.0265344037486+0.0259653043898j)\n",
      "## Error (%) =  141.421356237\n",
      "---\n",
      ">> From LAL MMRDNS Fit: A2-10 =  (0.0259653043898+0.0265344037486j)\n",
      ">> From PY  MMRDNS Fit: A2-10 =  (0.0265344037486-0.0259653043898j)\n",
      "## Error (%) =  141.421356237\n",
      "---\n",
      ">> From LAL MMRDNS Fit: A330 =  (-0.03038929952+0.0337194206288j)\n",
      ">> From PY  MMRDNS Fit: A330 =  (-0.03038929952+0.0337194206288j)\n",
      "## Error (%) =  0.0\n",
      "---\n",
      ">> From LAL MMRDNS Fit: A3-30 =  (0.03038929952+0.0337194206288j)\n",
      ">> From PY  MMRDNS Fit: A3-30 =  (0.03038929952+0.0337194206288j)\n",
      "## Error (%) =  0.0\n",
      "---\n",
      ">> From LAL MMRDNS Fit: A331 =  (-0.00267223451442-0.0109517045957j)\n",
      ">> From PY  MMRDNS Fit: A331 =  (-0.00267223451442-0.0109517045957j)\n",
      "## Error (%) =  0.0\n",
      "---\n",
      ">> From LAL MMRDNS Fit: A3-31 =  (0.00267223451442-0.0109517045957j)\n",
      ">> From PY  MMRDNS Fit: A3-31 =  (0.00267223451442-0.0109517045957j)\n",
      "## Error (%) =  0.0\n",
      "---\n",
      ">> From LAL MMRDNS Fit: A320 =  (0.0036873017686+0.00204231001315j)\n",
      ">> From PY  MMRDNS Fit: A320 =  (0.0036873017686+0.00204231001315j)\n",
      "## Error (%) =  0.0\n",
      "---\n",
      ">> From LAL MMRDNS Fit: A3-20 =  (-0.0036873017686+0.00204231001315j)\n",
      ">> From PY  MMRDNS Fit: A3-20 =  (-0.0036873017686+0.00204231001315j)\n",
      "## Error (%) =  0.0\n",
      "---\n",
      ">> From LAL MMRDNS Fit: A440 =  (-0.00237090752801+0.0090760454938j)\n",
      ">> From PY  MMRDNS Fit: A440 =  (-0.00237090752801+0.0090760454938j)\n",
      "## Error (%) =  0.0\n",
      "---\n",
      ">> From LAL MMRDNS Fit: A4-40 =  (-0.00237090752801-0.0090760454938j)\n",
      ">> From PY  MMRDNS Fit: A4-40 =  (-0.00237090752801-0.0090760454938j)\n",
      "## Error (%) =  0.0\n",
      "---\n",
      ">> From LAL MMRDNS Fit: A430 =  (-0.000315294400686+0.000643211792542j)\n",
      ">> From PY  MMRDNS Fit: A430 =  (-0.000315294400686+0.000643211792542j)\n",
      "## Error (%) =  0.0\n",
      "---\n",
      ">> From LAL MMRDNS Fit: A4-30 =  (-0.000315294400686-0.000643211792542j)\n",
      ">> From PY  MMRDNS Fit: A4-30 =  (-0.000315294400686-0.000643211792542j)\n",
      "## Error (%) =  0.0\n",
      "---\n",
      ">> From LAL MMRDNS Fit: A550 =  (0.00119966931673-0.00223799144074j)\n",
      ">> From PY  MMRDNS Fit: A550 =  (0.00119966931673-0.00223799144074j)\n",
      "## Error (%) =  0.0\n",
      "---\n",
      ">> From LAL MMRDNS Fit: A5-50 =  (-0.00119966931673-0.00223799144074j)\n",
      ">> From PY  MMRDNS Fit: A5-50 =  (-0.00119966931673-0.00223799144074j)\n",
      "## Error (%) =  0.0\n",
      "---\n"
     ]
    }
   ],
   "source": [
    "from kerr.formula.mmrdns_amplitudes import A_strain as Afitraw\n",
    "for l,m,n in ns.lmn:\n",
    "    Alal = lalsim.MMRDNSAmplitudeOverOmegaSquared(eta, l, m, n)\n",
    "    Apy  = ns.Afit(l, m, n, eta)\n",
    "    print '>> From LAL MMRDNS Fit: A%i%i%i = '%(l,m,n),Alal\n",
    "    print '>> From PY  MMRDNS Fit: A%i%i%i = '%(l,m,n),Apy\n",
    "    print '## Error (%) = ',100*abs((Alal-Apy)/abs(Apy))\n",
    "    print '---'"
   ]
  },
  {
   "cell_type": "markdown",
   "metadata": {},
   "source": [
    "## Compare methods for Ringdown Frequencies and Separation Constants"
   ]
  },
  {
   "cell_type": "code",
   "execution_count": 9,
   "metadata": {
    "ExecuteTime": {
     "end_time": "2017-09-07T16:13:53.158540Z",
     "start_time": "2017-09-07T16:13:53.119049"
    },
    "collapsed": false
   },
   "outputs": [
    {
     "data": {
      "text/plain": [
       "(0.37367168446509785-0.088962315683355j)"
      ]
     },
     "execution_count": 9,
     "metadata": {},
     "output_type": "execute_result"
    }
   ],
   "source": [
    "lalsim.QNM_CW(0,2,2,0)\n",
    "# plot( lalsim.JF_DATA, lalsim.SC220REAL_DATA )"
   ]
  },
  {
   "cell_type": "code",
   "execution_count": 10,
   "metadata": {
    "ExecuteTime": {
     "end_time": "2017-09-07T16:13:53.352369Z",
     "start_time": "2017-09-07T16:13:53.161434"
    },
    "collapsed": false
   },
   "outputs": [
    {
     "name": "stdout",
     "output_type": "stream",
     "text": [
      "---\n",
      ">> From LAL: cw220 = (0.475432493942-0.0849749870533j)\n",
      ">> From  PY: cw220 = (0.475432493942-0.0849749870532j)\n",
      "## Error (%) =  1.81172227874e-11\n",
      "\\\\ From LAL: sc220 = (3.26684732392+0.140354179513j)\n",
      "\\\\ From  PY: sc220 = (3.26684732392+0.140354179513j)\n",
      "## Error (%) =  8.39654845419e-12\n",
      "---\n",
      ">> From LAL: cw2-20 = (-0.475432493942-0.0849749870533j)\n",
      ">> From  PY: cw2-20 = (-0.475432493942-0.0849749870532j)\n",
      "## Error (%) =  1.81172227874e-11\n",
      "\\\\ From LAL: sc2-20 = (3.26684732392-0.140354179513j)\n",
      "\\\\ From  PY: sc2-20 = (3.26684732392-0.140354179513j)\n",
      "## Error (%) =  8.39654845419e-12\n",
      "---\n",
      ">> From LAL: cw221 = (0.459690939478-0.257921632451j)\n",
      ">> From  PY: cw221 = (0.459690939477-0.257921632451j)\n",
      "## Error (%) =  1.34041470282e-10\n",
      "\\\\ From LAL: sc221 = (3.30626721614+0.424033187032j)\n",
      "\\\\ From  PY: sc221 = (3.30626721614+0.424033187033j)\n",
      "## Error (%) =  5.23748495481e-12\n",
      "---\n",
      ">> From LAL: cw2-21 = (-0.459690939478-0.257921632451j)\n",
      ">> From  PY: cw2-21 = (-0.459690939477-0.257921632451j)\n",
      "## Error (%) =  1.34041470282e-10\n",
      "\\\\ From LAL: sc2-21 = (3.30626721614-0.424033187032j)\n",
      "\\\\ From  PY: sc2-21 = (3.30626721614-0.424033187033j)\n",
      "## Error (%) =  5.23748495481e-12\n",
      "---\n",
      ">> From LAL: cw210 = (0.426469323714-0.085598899967j)\n",
      ">> From  PY: cw210 = (0.426469323714-0.085598899967j)\n",
      "## Error (%) =  7.35805336898e-12\n",
      "\\\\ From LAL: sc210 = (3.66272955935+0.0743471512423j)\n",
      "\\\\ From  PY: sc210 = (3.66272955935+0.0743471512425j)\n",
      "## Error (%) =  1.24144491131e-11\n",
      "---\n",
      ">> From LAL: cw2-10 = (-0.426469323714-0.085598899967j)\n",
      ">> From  PY: cw2-10 = (-0.426469323714-0.085598899967j)\n",
      "## Error (%) =  7.35805336898e-12\n",
      "\\\\ From LAL: sc2-10 = (3.66272955935-0.0743471512423j)\n",
      "\\\\ From  PY: sc2-10 = (3.66272955935-0.0743471512425j)\n",
      "## Error (%) =  1.24144491131e-11\n",
      "---\n",
      ">> From LAL: cw330 = (0.758121673966-0.0878588683271j)\n",
      ">> From  PY: cw330 = (0.758121673967-0.0878588683269j)\n",
      "## Error (%) =  4.76466410114e-11\n",
      "\\\\ From LAL: sc330 = (9.09427247274+0.115661961386j)\n",
      "\\\\ From  PY: sc330 = (9.09427247274+0.115661961386j)\n",
      "## Error (%) =  2.40860190626e-12\n",
      "---\n",
      ">> From LAL: cw3-30 = (-0.758121673966-0.0878588683271j)\n",
      ">> From  PY: cw3-30 = (-0.758121673967-0.0878588683269j)\n",
      "## Error (%) =  4.76466410114e-11\n",
      "\\\\ From LAL: sc3-30 = (9.09427247274-0.115661961386j)\n",
      "\\\\ From  PY: sc3-30 = (9.09427247274-0.115661961386j)\n",
      "## Error (%) =  2.40860190626e-12\n",
      "---\n",
      ">> From LAL: cw331 = (0.749098381758-0.265032495038j)\n",
      ">> From  PY: cw331 = (0.749098381758-0.265032495038j)\n",
      "## Error (%) =  4.28004964677e-11\n",
      "\\\\ From LAL: sc331 = (9.1164286933+0.347972859303j)\n",
      "\\\\ From  PY: sc331 = (9.1164286933+0.347972859304j)\n",
      "## Error (%) =  1.12547001957e-11\n",
      "---\n",
      ">> From LAL: cw3-31 = (-0.749098381758-0.265032495038j)\n",
      ">> From  PY: cw3-31 = (-0.749098381758-0.265032495038j)\n",
      "## Error (%) =  4.28004964677e-11\n",
      "\\\\ From LAL: sc3-31 = (9.1164286933-0.347972859303j)\n",
      "\\\\ From  PY: sc3-31 = (9.1164286933-0.347972859304j)\n",
      "## Error (%) =  1.12547001957e-11\n",
      "---\n",
      ">> From LAL: cw320 = (0.70465209602-0.0885675992861j)\n",
      ">> From  PY: cw320 = (0.704652096019-0.088567599286j)\n",
      "## Error (%) =  1.36402251813e-11\n",
      "\\\\ From LAL: sc320 = (9.43393442803+0.0787453968586j)\n",
      "\\\\ From  PY: sc320 = (9.43393442803+0.0787453968589j)\n",
      "## Error (%) =  3.94197146912e-12\n",
      "---\n",
      ">> From LAL: cw3-20 = (-0.70465209602-0.0885675992861j)\n",
      ">> From  PY: cw3-20 = (-0.704652096019-0.088567599286j)\n",
      "## Error (%) =  1.36402251813e-11\n",
      "\\\\ From LAL: sc3-20 = (9.43393442803-0.0787453968586j)\n",
      "\\\\ From  PY: sc3-20 = (9.43393442803-0.0787453968589j)\n",
      "## Error (%) =  3.94197146912e-12\n",
      "---\n",
      ">> From LAL: cw440 = (1.02681564785-0.089430257451j)\n",
      ">> From  PY: cw440 = (1.02681564785-0.0894302574514j)\n",
      "## Error (%) =  3.89580047687e-11\n",
      "\\\\ From LAL: sc440 = (16.9963967698+0.0982104317944j)\n",
      "\\\\ From  PY: sc440 = (16.9963967698+0.0982104317947j)\n",
      "## Error (%) =  1.94981438687e-12\n",
      "---\n",
      ">> From LAL: cw4-40 = (-1.02681564785-0.089430257451j)\n",
      ">> From  PY: cw4-40 = (-1.02681564785-0.0894302574514j)\n",
      "## Error (%) =  3.89580047687e-11\n",
      "\\\\ From LAL: sc4-40 = (16.9963967698-0.0982104317944j)\n",
      "\\\\ From  PY: sc4-40 = (16.9963967698-0.0982104317947j)\n",
      "## Error (%) =  1.94981438687e-12\n",
      "---\n",
      ">> From LAL: cw430 = (0.970237469282-0.0899097787191j)\n",
      ">> From  PY: cw430 = (0.970237469282-0.089909778719j)\n",
      "## Error (%) =  6.93823789128e-12\n",
      "\\\\ From LAL: sc430 = (17.2731449529+0.0765221435499j)\n",
      "\\\\ From  PY: sc430 = (17.2731449529+0.0765221435499j)\n",
      "## Error (%) =  3.52837074854e-13\n",
      "---\n",
      ">> From LAL: cw4-30 = (-0.970237469282-0.0899097787191j)\n",
      ">> From  PY: cw4-30 = (-0.970237469282-0.089909778719j)\n",
      "## Error (%) =  6.93823789128e-12\n",
      "\\\\ From LAL: sc4-30 = (17.2731449529-0.0765221435499j)\n",
      "\\\\ From  PY: sc4-30 = (17.2731449529-0.0765221435499j)\n",
      "## Error (%) =  3.52837074854e-13\n",
      "---\n",
      ">> From LAL: cw550 = (1.28898449093-0.0902855249063j)\n",
      ">> From  PY: cw550 = (1.28898449093-0.0902855249066j)\n",
      "## Error (%) =  2.33793344813e-11\n",
      "\\\\ From LAL: sc550 = (26.9320563866+0.0852797799963j)\n",
      "\\\\ From  PY: sc550 = (26.9320563866+0.0852797799963j)\n",
      "## Error (%) =  3.84131959666e-12\n",
      "---\n",
      ">> From LAL: cw5-50 = (-1.28898449093-0.0902855249063j)\n",
      ">> From  PY: cw5-50 = (-1.28898449093-0.0902855249066j)\n",
      "## Error (%) =  2.33793344813e-11\n",
      "\\\\ From LAL: sc5-50 = (26.9320563866-0.0852797799963j)\n",
      "\\\\ From  PY: sc5-50 = (26.9320563866-0.0852797799963j)\n",
      "## Error (%) =  3.84131959666e-12\n"
     ]
    }
   ],
   "source": [
    "#\n",
    "for l,m,n in ns.lmn:\n",
    "\n",
    "    #\n",
    "    # kappa = lalsim.KAPPA(xf,l,m)\n",
    "    # cwlal = array([lalsim.complexOmega(kappa,l,m,n)]).conj()[0]\n",
    "    # sclal = lalsim.separationConstant( kappa, l, m, n )\n",
    "    cwlal = lalsim.QNM_CW(xf,l,m,n)\n",
    "    sclal = lalsim.QNM_SC(xf,l,m,n)\n",
    "    \n",
    "    \n",
    "\n",
    "    #\n",
    "    z = (l,m,n)\n",
    "    cwpy,scpy = leaver(xf,l,m,n)\n",
    "\n",
    "    #\n",
    "    print '---'\n",
    "    print '>> From LAL: cw%i%i%i = %s'%(l,m,n,cwlal)\n",
    "    print '>> From  PY: cw%i%i%i = %s'%(l,m,n,cwpy)\n",
    "    print '## Error (%) = ',100*abs((cwlal-cwpy)/abs(cwpy))\n",
    "    print '\\\\\\\\ From LAL: sc%i%i%i = %s'%(l,m,n,sclal)\n",
    "    print '\\\\\\\\ From  PY: sc%i%i%i = %s'%(l,m,n,scpy)\n",
    "    print '## Error (%) = ',100*abs((sclal-scpy)/abs(scpy))"
   ]
  },
  {
   "cell_type": "markdown",
   "metadata": {},
   "source": [
    "## Compare ALPHA, BETA & GAMMA functions for Spheroidal Harmonic calculation"
   ]
  },
  {
   "cell_type": "markdown",
   "metadata": {},
   "source": [
    "#### ALPHA"
   ]
  },
  {
   "cell_type": "code",
   "execution_count": 11,
   "metadata": {
    "ExecuteTime": {
     "end_time": "2017-09-07T16:13:53.413976Z",
     "start_time": "2017-09-07T16:13:53.359604"
    },
    "collapsed": false
   },
   "outputs": [
    {
     "name": "stdout",
     "output_type": "stream",
     "text": [
      "---\n",
      ">> From LAL: alpha220 =  (-42+0j)\n",
      ">> From  PY: alpha220 =  -42.0\n",
      "## Error (%) =  0.0\n",
      "---\n",
      ">> From LAL: alpha2-20 =  (-18+0j)\n",
      ">> From  PY: alpha2-20 =  -18.0\n",
      "## Error (%) =  0.0\n",
      "---\n",
      ">> From LAL: alpha221 =  (-42+0j)\n",
      ">> From  PY: alpha221 =  -42.0\n",
      "## Error (%) =  0.0\n",
      "---\n",
      ">> From LAL: alpha2-21 =  (-18+0j)\n",
      ">> From  PY: alpha2-21 =  -18.0\n",
      "## Error (%) =  0.0\n",
      "---\n",
      ">> From LAL: alpha210 =  (-36+0j)\n",
      ">> From  PY: alpha210 =  -36.0\n",
      "## Error (%) =  0.0\n",
      "---\n",
      ">> From LAL: alpha2-10 =  (-24+0j)\n",
      ">> From  PY: alpha2-10 =  -24.0\n",
      "## Error (%) =  0.0\n",
      "---\n",
      ">> From LAL: alpha330 =  (-48+0j)\n",
      ">> From  PY: alpha330 =  -48.0\n",
      "## Error (%) =  0.0\n",
      "---\n",
      ">> From LAL: alpha3-30 =  (-24+0j)\n",
      ">> From  PY: alpha3-30 =  -24.0\n",
      "## Error (%) =  0.0\n",
      "---\n",
      ">> From LAL: alpha331 =  (-48+0j)\n",
      ">> From  PY: alpha331 =  -48.0\n",
      "## Error (%) =  0.0\n",
      "---\n",
      ">> From LAL: alpha3-31 =  (-24+0j)\n",
      ">> From  PY: alpha3-31 =  -24.0\n",
      "## Error (%) =  0.0\n",
      "---\n",
      ">> From LAL: alpha320 =  (-42+0j)\n",
      ">> From  PY: alpha320 =  -42.0\n",
      "## Error (%) =  0.0\n",
      "---\n",
      ">> From LAL: alpha3-20 =  (-18+0j)\n",
      ">> From  PY: alpha3-20 =  -18.0\n",
      "## Error (%) =  0.0\n",
      "---\n",
      ">> From LAL: alpha440 =  (-54+0j)\n",
      ">> From  PY: alpha440 =  -54.0\n",
      "## Error (%) =  0.0\n",
      "---\n",
      ">> From LAL: alpha4-40 =  (-30+0j)\n",
      ">> From  PY: alpha4-40 =  -30.0\n",
      "## Error (%) =  0.0\n",
      "---\n",
      ">> From LAL: alpha430 =  (-48+0j)\n",
      ">> From  PY: alpha430 =  -48.0\n",
      "## Error (%) =  0.0\n",
      "---\n",
      ">> From LAL: alpha4-30 =  (-24+0j)\n",
      ">> From  PY: alpha4-30 =  -24.0\n",
      "## Error (%) =  0.0\n",
      "---\n",
      ">> From LAL: alpha550 =  (-60+0j)\n",
      ">> From  PY: alpha550 =  -60.0\n",
      "## Error (%) =  0.0\n",
      "---\n",
      ">> From LAL: alpha5-50 =  (-36+0j)\n",
      ">> From  PY: alpha5-50 =  -36.0\n",
      "## Error (%) =  0.0\n"
     ]
    }
   ],
   "source": [
    "#\n",
    "p = 2\n",
    "s = -2\n",
    "\n",
    "#\n",
    "for l,m,n in ns.lmn:\n",
    "    \n",
    "    #\n",
    "    cw = lalsim.QNM_CW(xf,l,m,n) \n",
    "    Alm = lalsim.QNM_SC(xf,l,m,n) \n",
    "    aw = cw*xf\n",
    "\n",
    "    #\n",
    "    alal = lalsim.ALPHA_RD(m,s,p)\n",
    "\n",
    "    #\n",
    "    z = (l,m,n)\n",
    "    k1 = 0.5*abs(m-s)\n",
    "    k2 = 0.5*abs(m+s)\n",
    "    apy = -2.0*(p+1.0)*(p+2.0*k1+1.0)\n",
    "\n",
    "    #\n",
    "    print '---'\n",
    "    print '>> From LAL: alpha%i%i%i = '%(l,m,n),alal\n",
    "    print '>> From  PY: alpha%i%i%i = '%(l,m,n),apy\n",
    "    print '## Error (%) = ',100*abs((alal-apy)/abs(apy))"
   ]
  },
  {
   "cell_type": "markdown",
   "metadata": {},
   "source": [
    "#### BETA"
   ]
  },
  {
   "cell_type": "code",
   "execution_count": 12,
   "metadata": {
    "ExecuteTime": {
     "end_time": "2017-09-07T16:13:53.474038Z",
     "start_time": "2017-09-07T16:13:53.416917"
    },
    "collapsed": false
   },
   "outputs": [
    {
     "name": "stdout",
     "output_type": "stream",
     "text": [
      "---\n",
      ">> From LAL: beta220 =  (31.0159123208+0.893678700075j)\n",
      ">> From  PY: beta220 =  (31.0159123208+0.893678700075j)\n",
      "## Error (%) =  0.0\n",
      "---\n",
      ">> From LAL: beta2-20 =  (40.2667942765+0.759749671849j)\n",
      ">> From  PY: beta2-20 =  (40.2667942765+0.759749671849j)\n",
      "## Error (%) =  0.0\n",
      "---\n",
      ">> From LAL: beta221 =  (31.1852983042+2.71215877941j)\n",
      ">> From  PY: beta221 =  (31.1852983042+2.71215877941j)\n",
      "## Error (%) =  0.0\n",
      "---\n",
      ">> From LAL: beta2-21 =  (40.1298838583+2.30643503997j)\n",
      ">> From  PY: beta2-21 =  (40.1298838583+2.30643503997j)\n",
      "## Error (%) =  0.0\n",
      "---\n",
      ">> From LAL: beta210 =  (31.6761868262+0.87229755696j)\n",
      ">> From  PY: beta210 =  (31.6761868262+0.87229755696j)\n",
      "## Error (%) =  0.0\n",
      "---\n",
      ">> From LAL: beta2-10 =  (39.9743520162+0.793270802846j)\n",
      ">> From  PY: beta2-10 =  (39.9743520162+0.793270802846j)\n",
      "## Error (%) =  0.0\n",
      "---\n",
      ">> From LAL: beta330 =  (34.9058128621+1.06294987489j)\n",
      ">> From  PY: beta330 =  (34.9058128621+1.06294987489j)\n",
      "## Error (%) =  0.0\n",
      "---\n",
      ">> From LAL: beta3-30 =  (51.2962554902+0.836541710867j)\n",
      ">> From  PY: beta3-30 =  (51.2962554902+0.836541710867j)\n",
      "## Error (%) =  0.0\n",
      "---\n",
      ">> From LAL: beta331 =  (35.0229439601+3.20599590652j)\n",
      ">> From  PY: beta331 =  (35.0229439601+3.20599590652j)\n",
      "## Error (%) =  0.0\n",
      "---\n",
      ">> From LAL: beta3-31 =  (51.2183047717+2.52395490964j)\n",
      ">> From  PY: beta3-31 =  (51.2183047717+2.52395490964j)\n",
      "## Error (%) =  0.0\n",
      "---\n",
      ">> From LAL: beta320 =  (22.0443595928+1.01086632371j)\n",
      ">> From  PY: beta320 =  (22.0443595928+1.01086632371j)\n",
      "## Error (%) =  0.0\n",
      "---\n",
      ">> From LAL: beta3-20 =  (35.7553563025+0.712466465985j)\n",
      ">> From  PY: beta3-20 =  (35.7553563025+0.712466465985j)\n",
      "## Error (%) =  0.0\n",
      "---\n",
      ">> From LAL: beta440 =  (38.2682170014+1.21219419858j)\n",
      ">> From  PY: beta440 =  (38.2682170014+1.21219419858j)\n",
      "## Error (%) =  0.0\n",
      "---\n",
      ">> From LAL: beta4-40 =  (62.6877262939+0.914616984551j)\n",
      ">> From  PY: beta4-40 =  (62.6877262939+0.914616984551j)\n",
      "## Error (%) =  0.0\n",
      "---\n",
      ">> From LAL: beta430 =  (23.8684053654+1.14074508654j)\n",
      ">> From  PY: beta430 =  (23.8684053654+1.14074508654j)\n",
      "## Error (%) =  0.0\n",
      "---\n",
      ">> From LAL: beta4-30 =  (44.8447500894+0.803086781624j)\n",
      ">> From  PY: beta4-30 =  (44.8447500894+0.803086781624j)\n",
      "## Error (%) =  0.0\n",
      "---\n",
      ">> From LAL: beta550 =  (41.0776330427+1.34908439373j)\n",
      ">> From  PY: beta550 =  (41.0776330427+1.34908439373j)\n",
      "## Error (%) =  0.0\n",
      "---\n",
      ">> From LAL: beta5-50 =  (74.5187447892+0.993262119139j)\n",
      ">> From  PY: beta5-50 =  (74.5187447892+0.993262119139j)\n",
      "## Error (%) =  0.0\n"
     ]
    }
   ],
   "source": [
    "#\n",
    "p = 4\n",
    "s = -2\n",
    "\n",
    "#\n",
    "for l,m,n in ns.lmn:\n",
    "    \n",
    "    #\n",
    "    cw = lalsim.QNM_CW(xf,l,m,n) \n",
    "    Alm = lalsim.QNM_SC(xf,l,m,n) \n",
    "    aw = cw*xf\n",
    "\n",
    "    #\n",
    "    blal = lalsim.BETA_RD(m,s,p,aw,Alm)\n",
    "\n",
    "    #\n",
    "    z = (l,m,n)\n",
    "    k1 = 0.5*abs(m-s)\n",
    "    k2 = 0.5*abs(m+s)\n",
    "    bpy = p*(p-1.0)+2.0*p*(k1+k2+1.0-2.0*aw) -( 2.0*aw*(2.0*k1+s+1.0)-(k1+k2)*(k1+k2+1.0) ) - ( aw*aw + s*(s+1.0) + Alm)\n",
    "\n",
    "    #\n",
    "    print '---'\n",
    "    print '>> From LAL: beta%i%i%i = '%(l,m,n),blal\n",
    "    print '>> From  PY: beta%i%i%i = '%(l,m,n),bpy\n",
    "    print '## Error (%) = ',100*abs((blal-bpy)/abs(bpy))"
   ]
  },
  {
   "cell_type": "markdown",
   "metadata": {},
   "source": [
    "#### GAMMA"
   ]
  },
  {
   "cell_type": "code",
   "execution_count": 13,
   "metadata": {
    "ExecuteTime": {
     "end_time": "2017-09-07T16:13:53.543055Z",
     "start_time": "2017-09-07T16:13:53.476921"
    },
    "code_folding": [],
    "collapsed": false
   },
   "outputs": [
    {
     "name": "stdout",
     "output_type": "stream",
     "text": [
      "---\n",
      ">> From LAL: gamma220 =  (2.05575154571-0.367428527094j)\n",
      ">> From  PY: gamma220 =  (2.05575154571-0.367428527094j)\n",
      "## Error (%) =  0.0\n",
      "---\n",
      ">> From LAL: gamma221 =  (1.98768567867-1.11524307097j)\n",
      ">> From  PY: gamma221 =  (1.98768567867-1.11524307097j)\n",
      "## Error (%) =  0.0\n",
      "---\n",
      ">> From LAL: gamma210 =  (1.84403670888-0.370126302179j)\n",
      ">> From  PY: gamma210 =  (1.84403670888-0.370126302179j)\n",
      "## Error (%) =  0.0\n",
      "---\n",
      ">> From LAL: gamma330 =  (4.09761065702-0.47487289644j)\n",
      ">> From  PY: gamma330 =  (4.09761065702-0.47487289644j)\n",
      "## Error (%) =  0.0\n",
      "---\n",
      ">> From LAL: gamma331 =  (4.0488402029-1.43248770404j)\n",
      ">> From  PY: gamma331 =  (4.0488402029-1.43248770404j)\n",
      "## Error (%) =  0.0\n",
      "---\n",
      ">> From LAL: gamma320 =  (3.04688815771-0.382962842154j)\n",
      ">> From  PY: gamma320 =  (3.04688815771-0.382962842154j)\n",
      "## Error (%) =  0.0\n",
      "---\n",
      ">> From LAL: gamma440 =  (6.65986617068-0.58003941358j)\n",
      ">> From  PY: gamma440 =  (6.65986617068-0.58003941358j)\n",
      "## Error (%) =  0.0\n",
      "---\n",
      ">> From LAL: gamma430 =  (5.24408618101-0.48595796704j)\n",
      ">> From  PY: gamma430 =  (5.24408618101-0.48595796704j)\n",
      "## Error (%) =  0.0\n",
      "---\n",
      ">> From LAL: gamma550 =  (9.75365759272-0.683184399588j)\n",
      ">> From  PY: gamma550 =  (9.75365759272-0.683184399588j)\n",
      "## Error (%) =  0.0\n"
     ]
    }
   ],
   "source": [
    "#\n",
    "p = 4\n",
    "s = -2\n",
    "\n",
    "#\n",
    "for l,m,n in ns.lmn:\n",
    "    \n",
    "    if m>0:\n",
    "\n",
    "        #\n",
    "        cw = lalsim.QNM_CW(xf,l,m,n) \n",
    "        Alm = lalsim.QNM_SC(xf,l,m,n) \n",
    "        aw = cw*xf\n",
    "\n",
    "        #\n",
    "        glal = lalsim.GAMMA_RD(m,s,p,aw)\n",
    "\n",
    "        #\n",
    "        z = (l,m,n)\n",
    "        k1 = 0.5*abs(m-s)\n",
    "        k2 = 0.5*abs(m+s)\n",
    "        gpy = 2.0*aw*(p+k1+k2+s)\n",
    "\n",
    "        #\n",
    "        print '---'\n",
    "        print '>> From LAL: gamma%i%i%i = '%(l,m,n),glal\n",
    "        print '>> From  PY: gamma%i%i%i = '%(l,m,n),gpy\n",
    "        print '## Error (%) = ',100*abs((glal-gpy)/abs(gpy))"
   ]
  },
  {
   "cell_type": "markdown",
   "metadata": {},
   "source": [
    "## Compare Spheroidal Harmonic Normalization"
   ]
  },
  {
   "cell_type": "code",
   "execution_count": 14,
   "metadata": {
    "ExecuteTime": {
     "end_time": "2017-09-07T16:13:53.722140Z",
     "start_time": "2017-09-07T16:13:53.551560"
    },
    "collapsed": false
   },
   "outputs": [
    {
     "name": "stdout",
     "output_type": "stream",
     "text": [
      "---\n",
      ">> From LAL: N220 =  6.56942875476\n",
      ">> From  PY: N220 =  (6.56962240489+0j)\n",
      "## Error (%) =  0.0029476599818\n",
      "---\n",
      ">> From LAL: N221 =  6.55204301597\n",
      ">> From  PY: N221 =  (6.55236243341+0j)\n",
      "## Error (%) =  0.00487484397592\n",
      "---\n",
      ">> From LAL: N210 =  3.10162281286\n",
      ">> From  PY: N210 =  (3.10109110742+0j)\n",
      "## Error (%) =  0.0171457538371\n",
      "---\n",
      ">> From LAL: N330 =  3.98923086875\n",
      ">> From  PY: N330 =  (3.98928980343+0j)\n",
      "## Error (%) =  0.00147732261508\n",
      "---\n",
      ">> From LAL: N331 =  3.99012656233\n",
      ">> From  PY: N331 =  (3.99000147363+0j)\n",
      "## Error (%) =  0.00313505399907\n",
      "---\n",
      ">> From LAL: N320 =  0.929334295818\n",
      ">> From  PY: N320 =  (0.928886904552+0j)\n",
      "## Error (%) =  0.0481642343914\n",
      "---\n",
      ">> From LAL: N440 =  2.82433476546\n",
      ">> From  PY: N440 =  (2.82466915195+0j)\n",
      "## Error (%) =  0.0118380762074\n",
      "---\n",
      ">> From LAL: N430 =  0.64067502375\n",
      ">> From  PY: N430 =  (0.640136123013+0j)\n",
      "## Error (%) =  0.0841853346378\n",
      "---\n",
      ">> From LAL: N550 =  2.13293482745\n",
      ">> From  PY: N550 =  (2.13403232598+0j)\n",
      "## Error (%) =  0.0514283931774\n"
     ]
    }
   ],
   "source": [
    "#\n",
    "from kerr import ssprod\n",
    "#\n",
    "for l,m,n in ns.lmn:\n",
    "    \n",
    "    if m>0:\n",
    "\n",
    "        #\n",
    "        kappa = lalsim.KAPPA(xf,l,m)\n",
    "        Nlal = lalsim.spheroidalHarmonicNormalization(kappa,l,m,n)\n",
    "\n",
    "        #\n",
    "        z = (l,m,n)\n",
    "        Npy = sqrt( ssprod(xf,z,z) )\n",
    "\n",
    "        #\n",
    "        print '---'\n",
    "        print '>> From LAL: N%i%i%i = '%(l,m,n),Nlal\n",
    "        print '>> From  PY: N%i%i%i = '%(l,m,n),Npy\n",
    "        print '## Error (%) = ',100*abs((Nlal-Npy)/abs(Npy))"
   ]
  },
  {
   "cell_type": "markdown",
   "metadata": {},
   "source": [
    "## Compare Spheroidal Harmonic Functions"
   ]
  },
  {
   "cell_type": "code",
   "execution_count": 15,
   "metadata": {
    "ExecuteTime": {
     "end_time": "2017-09-07T16:13:53.988767Z",
     "start_time": "2017-09-07T16:13:53.727772"
    },
    "collapsed": false
   },
   "outputs": [
    {
     "name": "stdout",
     "output_type": "stream",
     "text": [
      "(0.293129071055-0.00971211220383j)\n",
      "(0.293129071055-0.00971211220383j)\n",
      "---\n",
      ">> From LAL: S220(theta,phi) =  (0.343600826587-0.000412096766101j)\n",
      ">> From  PY: S220(theta,phi) =  (0.343590698403-0.000412084618899j)\n",
      "## Error (%) =  0.00294774687693\n",
      "---\n",
      ">> From LAL: S221(theta,phi) =  (0.344126755169-0.00120898883018j)\n",
      ">> From  PY: S221(theta,phi) =  (0.344109979527-0.0012089298938j)\n",
      "## Error (%) =  0.00487508161171\n",
      "---\n",
      ">> From LAL: S210(theta,phi) =  (0.419098035327-0.000129305288675j)\n",
      ">> From  PY: S210(theta,phi) =  (0.419169892844-0.000129327459088j)\n",
      "## Error (%) =  0.0171428145581\n",
      "---\n",
      ">> From LAL: S330(theta,phi) =  (-0.443335925179-0.00466095657991j)\n",
      ">> From  PY: S330(theta,phi) =  (-0.443329375677-0.00466088772251j)\n",
      "## Error (%) =  0.0014773444486\n",
      "---\n",
      ">> From LAL: S331(theta,phi) =  (-0.443205457505-0.0140901868142j)\n",
      ">> From  PY: S331(theta,phi) =  (-0.443219352235-0.0140906285491j)\n",
      "## Error (%) =  0.00313495568601\n",
      "---\n",
      ">> From LAL: S320(theta,phi) =  (-0.260652717942+0.00178824150417j)\n",
      ">> From  PY: S320(theta,phi) =  (-0.260778259328+0.00178910279705j)\n",
      "## Error (%) =  0.0481410476357\n",
      "---\n",
      ">> From LAL: S440(theta,phi) =  (0.481366799013+0.00876046195929j)\n",
      ">> From  PY: S440(theta,phi) =  (0.481309814444+0.00875942488918j)\n",
      "## Error (%) =  0.0118394777884\n",
      "---\n",
      ">> From LAL: S430(theta,phi) =  (0.0646539165256-0.0046980054731j)\n",
      ">> From  PY: S430(theta,phi) =  (0.0647083456416-0.00470196050474j)\n",
      "## Error (%) =  0.0841145225563\n",
      "---\n",
      ">> From LAL: S550(theta,phi) =  (-0.486058413717-0.011458145594j)\n",
      ">> From  PY: S550(theta,phi) =  (-0.485808441684-0.0114522528539j)\n",
      "## Error (%) =  0.0514548556115\n"
     ]
    }
   ],
   "source": [
    "\n",
    "print lalsim.SpinWeightedSpheroidalHarmonic( xf, l, m, n, pi/2, phi_ref )\n",
    "print lalsim.SpinWeightedSpheroidalHarmonic( xf, l, m, n, pi/2, phi_ref )\n",
    "\n",
    "#\n",
    "for l,m,n in ns.lmn:\n",
    "    \n",
    "    if m>0:\n",
    "\n",
    "        #\n",
    "        slal = lalsim.SpinWeightedSpheroidalHarmonic( xf, l, m, n, inclination, phi_ref )\n",
    "\n",
    "        #\n",
    "        spy = slm( xf,l,m,n,inclination,phi_ref,norm=True )\n",
    "\n",
    "        #\n",
    "        print '---'\n",
    "        print '>> From LAL: S%i%i%i(theta,phi) = '%(l,m,n),slal\n",
    "        print '>> From  PY: S%i%i%i(theta,phi) = '%(l,m,n),spy\n",
    "        print '## Error (%) = ',100*abs((slal-spy)/abs(spy))\n"
   ]
  },
  {
   "cell_type": "code",
   "execution_count": 16,
   "metadata": {
    "ExecuteTime": {
     "end_time": "2017-09-07T16:13:55.025104Z",
     "start_time": "2017-09-07T16:13:53.992884"
    },
    "collapsed": false
   },
   "outputs": [
    {
     "name": "stdout",
     "output_type": "stream",
     "text": [
      ">> Checking Normalization\n",
      "Python:  (0.999999570471+0j)\n",
      "LAL:     (1.00005852623+0j)\n"
     ]
    },
    {
     "data": {
      "image/png": "[encoded data removed]",
      "text/plain": [
       "<matplotlib.figure.Figure at 0x104af0d10>"
      ]
     },
     "metadata": {},
     "output_type": "display_data"
    }
   ],
   "source": [
    "\n",
    "#\n",
    "l,m,n = 2,-2,0\n",
    "jf = xf\n",
    "\n",
    "#\n",
    "theta = linspace(0,pi,5e2)\n",
    "phi = phi_ref\n",
    "\n",
    "#\n",
    "Spy = slm( jf,l,m,n,theta,phi )\n",
    "Slal = array( [ lalsim.SpinWeightedSpheroidalHarmonic( jf, l, m, n, th, phi ) for th in theta ] )\n",
    "\n",
    "#\n",
    "plot( theta, abs(Spy), label = 'Py' )\n",
    "plot( theta, abs(Slal), label = 'LAL' )\n",
    "xlim(lim(theta))\n",
    "\n",
    "#\n",
    "legend( frameon=False, loc = 1 if m>0 else 2 )\n",
    "xlabel(r'$\\theta$')\n",
    "ylabel(r'$|S_{lmn}(\\theta,\\phi)|$')\n",
    "\n",
    "#\n",
    "print '>> Checking Normalization'\n",
    "print 'Python: ', 2*pi*trapz(Spy*Spy.conj()*sin(theta),theta )\n",
    "print 'LAL:    ', 2*pi*trapz(Slal*Slal.conj()*sin(theta),theta )"
   ]
  },
  {
   "cell_type": "markdown",
   "metadata": {},
   "source": [
    "## Compare LAL and Python Models"
   ]
  },
  {
   "cell_type": "code",
   "execution_count": 17,
   "metadata": {
    "ExecuteTime": {
     "end_time": "2017-09-07T16:13:55.061730Z",
     "start_time": "2017-09-07T16:13:55.028011"
    },
    "collapsed": true
   },
   "outputs": [],
   "source": [
    "inclination = pi/3\n",
    "phi_ref = 0 # pi/3"
   ]
  },
  {
   "cell_type": "code",
   "execution_count": 24,
   "metadata": {
    "ExecuteTime": {
     "end_time": "2017-09-08T10:27:15.579036Z",
     "start_time": "2017-09-08T10:27:13.174271"
    },
    "collapsed": false
   },
   "outputs": [
    {
     "name": "stdout",
     "output_type": "stream",
     "text": [
      "(\u001b[0;36mringdown\u001b[0m)>> Time will be listed relative to the peak of \u001b[0;36mluminosity\u001b[0m.\n"
     ]
    },
    {
     "data": {
      "image/png": "[encoded data removed]",
      "text/plain": [
       "<matplotlib.figure.Figure at 0x111713050>"
      ]
     },
     "metadata": {},
     "output_type": "display_data"
    }
   ],
   "source": [
    "\n",
    "#\n",
    "l,m,n = 3,3,0\n",
    "\n",
    "\n",
    "#\n",
    "yrd = y.ringdown(T0=10,use_peak_strain=False,verbose=True)\n",
    "\n",
    "# #\n",
    "pyh = physh( ns.meval_mode(l,m,n,eta)(t_code), M_Sol, D_Mpc ) * slm(xf,l,m,n,inclination,phi_ref)\n",
    "lah_raw = lalsim.SimRingdownGenerateSingleModeMMRDNS_time( 0.0, deltaT,Mf,xf,eta,inclination,phi_ref,l,m,n,D,0,0,len(t_code), physt(0,M_Sol) )\n",
    "lah = lah_raw.data.data\n",
    "nrh = physh( yrd.lm[l,m]['strain'].y.copy(), M_Sol, D_Mpc ) * ( sYlm(-2,l,m,inclination,phi_ref)[0])\n",
    "\n",
    "\n",
    "# pyh = physh( ns.meval_mode(l,m,n,eta)(t_code), M_Sol, D_Mpc )\n",
    "# lah_raw = lalsim.SimRingdownGenerateSingleBareModeMMRDNS_time( 0.0, deltaT,Mf,xf,eta,l,m,n,D,0,0,len(t_code), physt(0,M_Sol) )\n",
    "# lah = lah_raw.data.data\n",
    "# nrh = physh( yrd.lm[l,m]['strain'].y.copy(), M_Sol, D_Mpc )\n",
    "\n",
    "# Check that +m and -m have the same amplitude\n",
    "# yrd.lm[l,m]['strain'].plot( ref_gwf = yrd.lm[l,-m]['strain'] )\n",
    "\n",
    "#\n",
    "t = physt(t_code,M_Sol)\n",
    "\n",
    "#\n",
    "fig = figure( figsize = 6*array([2.1,1]) )\n",
    "\n",
    "#\n",
    "def plotc(t, c,color='k',alpha=1,label=None,linestyle='-'):\n",
    "    #\n",
    "    subplot(1,2,1)\n",
    "    alpha = 0.8\n",
    "    plot( t, c.real, color = color, alpha=alpha, label=label,linestyle=linestyle )\n",
    "    plot( t, c.imag, color = color, alpha=alpha,linestyle=linestyle )\n",
    "    plot( t, abs(c), color = color, alpha=alpha,linestyle=linestyle )\n",
    "    plot( t,-abs(c), color = color, alpha=alpha,linestyle=linestyle )\n",
    "    xlim( lim(t) )\n",
    "    legend( frameon=False )\n",
    "    #\n",
    "    subplot(1,2,2)\n",
    "    alpha = 0.8\n",
    "    plot( t, unwrap(angle(c)), color = color, alpha=alpha, label=label,linestyle=linestyle )\n",
    "    xlim( lim(t) )\n",
    "    legend( frameon=False )\n",
    "\n",
    "    \n",
    "plotc( t, pyh, color='c', label = 'Python',linestyle='-' )\n",
    "plotc( t, lah, color='m', label = 'LAL',linestyle='--' )\n",
    "plotc( t, nrh, color='k', label='NR', linestyle=':' )\n",
    "\n",
    "\n",
    "# print abs(pyh[0])/abs(lah[0])\n",
    "# from nrutils.core.units import __physical_constants__\n",
    "# print __physical_constants__['mass_sun_secs']\n",
    "# print lal.MTSUN_SI/lal.MSUN_SI\n",
    "\n",
    "# print pyh[0]\n",
    "# print lah[0]\n",
    "# print 'Error (%%) = %f' % ( 100*average( abs(pyh-lah)[0]/abs(lah)[0] ) )\n",
    "# print abs(pyh[0]/lah[0])"
   ]
  },
  {
   "cell_type": "markdown",
   "metadata": {},
   "source": [
    "## Compare Recomposed Waveforms"
   ]
  },
  {
   "cell_type": "code",
   "execution_count": 19,
   "metadata": {
    "ExecuteTime": {
     "end_time": "2017-09-07T16:13:57.010682Z",
     "start_time": "2017-09-07T16:13:56.540408"
    },
    "collapsed": false
   },
   "outputs": [
    {
     "name": "stdout",
     "output_type": "stream",
     "text": [
      "400 400\n"
     ]
    }
   ],
   "source": [
    "\n",
    "#\n",
    "# yrd.align( ns.meval() ,verbose=True,plot=True)\n",
    "\n",
    "# Format NR Waveform \n",
    "# hnr = physh( yrd.recompose(inclination,-phi_ref,kind='strain',domain='time').shift_phase(pi-0.65+pi/2,apply=False).wfarr, M_Sol, D_Mpc )\n",
    "hnr = physh( yrd.recompose(inclination,phi_ref,kind='strain',domain='time').wfarr, M_Sol, D_Mpc )\n",
    "\n",
    "\n",
    "# Eval python model \n",
    "hpy = physh( ns.meval( inclination, phi_ref, eta, kind='strain' )(t_code), M_Sol, D_Mpc )\n",
    "\n",
    "# Evaluate LAL model\n",
    "hlal_raw = lalsim.SimRingdownMMRDNS_time(0.0,deltaT,len(t_code),Mf,xf,eta,inclination,phi_ref,D,nonGRparams=None)\n",
    "chlal = hlal_raw[0].data.data - 1j*hlal_raw[1].data.data\n",
    "\n",
    "\n",
    "print len(hnr), len(chlal)"
   ]
  },
  {
   "cell_type": "code",
   "execution_count": 20,
   "metadata": {
    "ExecuteTime": {
     "end_time": "2017-09-07T16:13:58.667090Z",
     "start_time": "2017-09-07T16:13:57.014284"
    },
    "collapsed": false
   },
   "outputs": [
    {
     "data": {
      "image/png": "[encoded data removed]",
      "text/plain": [
       "<matplotlib.figure.Figure at 0x10cb94290>"
      ]
     },
     "metadata": {},
     "output_type": "display_data"
    }
   ],
   "source": [
    "#\n",
    "fig = figure( figsize=5*array([3.2,1]) )\n",
    "\n",
    "#\n",
    "def plotnr():\n",
    "    t = hnr[:,0]\n",
    "    # Plot NR Waveform\n",
    "    nr_alpha = 0.3\n",
    "    # Shift time to align with LAL verision\n",
    "    plot( t-t[0], hnr[:,1], 'k', alpha=nr_alpha )\n",
    "    plot( t-t[0], hnr[:,2], 'k', alpha=nr_alpha )\n",
    "    chnr = hnr[:,1]+1j*hnr[:,2]\n",
    "    plot( t-t[0], abs(chnr), 'k', alpha=nr_alpha, label='NR' )\n",
    "    plot( t-t[0],-abs(chnr), 'k', alpha=nr_alpha )\n",
    "    if False:\n",
    "        ll,mm = 2,2\n",
    "        hlallmraw = lalsim.SimRingdownGenerateSingleBareModeMMRDNS_time( 0.0, deltaT,M,xf,eta,ll,mm,0,D,0,0,len(t),0.0 )\n",
    "        hlal22 = sYlm(-2,ll,mm,inclination,phi_ref)*hlallmraw.data.data\n",
    "        plot( t-t[0],abs(hlal22),'--r',label='LAL (2,2,0) ONLY')\n",
    "        plot( t-t[0],-abs(hlal22),'--r' )\n",
    "    xlim( lim(t-t[0]) )\n",
    "    #\n",
    "    legend( frameon=False )\n",
    "\n",
    "#\n",
    "def plotlal():\n",
    "    alpha = 0.5\n",
    "    t = deltaT * arange( len(chlal) )\n",
    "    # Plot LAL Waveform\n",
    "    plot( t, chlal.real, 'b', alpha=alpha, linewidth=3, label='MMRDNS (LAL)' )\n",
    "    plot( t, chlal.imag, 'b', alpha=alpha, linewidth=3 )\n",
    "    #plot( t, abs(chlal), 'b', label='MMRDNS (LAL)',alpha=alpha )\n",
    "    #plot( t,-abs(chlal), 'b',alpha=alpha )\n",
    "    xlim( lim(t) )\n",
    "    #\n",
    "    legend( frameon=False )\n",
    "    title(r'$(\\theta,\\phi)=(%1.2f,%1.2f)$'%(inclination,phi_ref))\n",
    "    \n",
    "#\n",
    "def plotpy():\n",
    "    alpha=0.90\n",
    "    color = 'k'\n",
    "    t = physt(t_code-t_code[0],M_Sol)\n",
    "    plot( t, hpy.real, '--',alpha=alpha, color=color, label='MMRDNS (PY)'  )\n",
    "    plot( t, hpy.imag, '--',alpha=alpha, color=color  )\n",
    "    plot( t, abs(hpy), '--',alpha=alpha, color=color  )\n",
    "    plot( t,-abs(hpy), '--',alpha=alpha, color=color  )\n",
    "    #\n",
    "    legend( frameon=False )\n",
    "    title(r'$(\\theta,\\phi)=(%1.2f,%1.2f)$'%(inclination,phi_ref))\n",
    "\n",
    "#\n",
    "subplot(1,3,1)\n",
    "plotnr()\n",
    "# plotpy()\n",
    "#\n",
    "subplot(1,3,2)\n",
    "plotlal()\n",
    "plotpy()\n",
    "#\n",
    "subplot(1,3,3)\n",
    "plotnr()\n",
    "plotlal()\n",
    "plotpy()\n",
    "\n",
    "\n"
   ]
  },
  {
   "cell_type": "code",
   "execution_count": 21,
   "metadata": {
    "ExecuteTime": {
     "end_time": "2017-09-07T16:13:59.228277Z",
     "start_time": "2017-09-07T16:13:58.669389"
    },
    "collapsed": false
   },
   "outputs": [
    {
     "data": {
      "text/plain": [
       "[<matplotlib.lines.Line2D at 0x10f362390>]"
      ]
     },
     "execution_count": 21,
     "metadata": {},
     "output_type": "execute_result"
    },
    {
     "data": {
      "image/png": "[encoded data removed]",
      "text/plain": [
       "<matplotlib.figure.Figure at 0x10c68d250>"
      ]
     },
     "metadata": {},
     "output_type": "display_data"
    }
   ],
   "source": [
    "\n",
    "L,M = 3,2\n",
    "\n",
    "y22 = yrd.lm[L,M]['strain']\n",
    "y2m2 = yrd.lm[L,-M]['strain']\n",
    "\n",
    "plot( y22.t, y22.y.real )\n",
    "plot( y22.t, y22.y.imag )\n",
    "\n",
    "plot( y22.t,  ((-1)**L) * y2m2.y.real, '--k' )\n",
    "plot( y22.t, -((-1)**L) * y2m2.y.imag, '--k' )"
   ]
  },
  {
   "cell_type": "code",
   "execution_count": null,
   "metadata": {
    "collapsed": true
   },
   "outputs": [],
   "source": []
  }
 ],
 "metadata": {
  "kernelspec": {
   "display_name": "Python [Root]",
   "language": "python",
   "name": "Python [Root]"
  },
  "language_info": {
   "codemirror_mode": {
    "name": "ipython",
    "version": 2
   },
   "file_extension": ".py",
   "mimetype": "text/x-python",
   "name": "python",
   "nbconvert_exporter": "python",
   "pygments_lexer": "ipython2",
   "version": "2.7.9"
  }
 },
 "nbformat": 4,
 "nbformat_minor": 0
}
