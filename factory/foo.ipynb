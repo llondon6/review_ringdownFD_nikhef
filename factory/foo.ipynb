{
 "cells": [
  {
   "cell_type": "markdown",
   "metadata": {},
   "source": [
    "# Development for code review: MMRDNS"
   ]
  },
  {
   "cell_type": "markdown",
   "metadata": {},
   "source": [
    "## Notes\n",
    "---\n",
    "\n",
    "#### Aug 11th 2017\n",
    "* Fixing the bug below helps, but now there are nans for low inclinaitons returned, and morphology of Slm are still a bit off for $(3,2,0)$.\n",
    "* Bug found in the Spheroidal function:\n",
    "``` C\n",
    "// Incorrect\n",
    "dY = pow(a2*(1.0+u),k);\n",
    "```\n",
    "Should be \n",
    "``` C\n",
    "// Correct\n",
    "dY = a2 * pow(1.0+u,k);\n",
    "```\n",
    "* There is definitely a noticeable error/bug in the LAL Spheroidal harmonic function: the amplitde and phase is off by ~10 percent for the q=1 test case\n",
    "    * The LAL spheroidal harmonics are not properly normalized. \n",
    "    * In some cases (e.g. $(l,m)=(3,2)$) the morphology of the spheroidal harmonic function is incorrect AND not properly normalized\n",
    "* Adding overall conjugation to output of Amplitude fit -- switching to correct phase convention\n",
    "``` C\n",
    "/*NOTE that the MATLAB code used to perform the fitting uses a different convention when handling the real and imaginary parts of psi4 than we will use here. The conjugation below makes the output of MMRDNS consistent with nrutils, which injects no manual minus signs when handling psi4, but enforces a phase convention: m>0 has frequencies >0 (non-precessing). NOTE that this may change in the future if significantly precessing systems are found to not sufficiently obey this property. See https://github.com/llondon6/nrutils_dev/blob/master/nrutils/core/nrsc.py#L1714-L1728 for more details.*/\n",
    "ans = conj( ans );\n",
    "```\n",
    "* Fixed line in Amplitude function\n",
    "``` C\n",
    "  /* If m<0, then take the conjugate */\n",
    "  if ( input_m < 0 ) {\n",
    "    /**/\n",
    "    // OLD: ans = conj( ans );\n",
    "    ans = pow(-1,l) * conj( ans );\n",
    "  }\n",
    "```\n",
    "\n",
    "#### Aug 10th 2017\n",
    "* Adding mode-by-mode comparisons and making separate sectino for full signal comparison\n",
    "* I suspect an incorrect usage of the fninal mass fit: lalsim.E_rad_nonspinning_UIB2016(eta)\n",
    "\n",
    "#### Aug 9th 2017\n",
    "* The definition of time in the LAL version is inconsistent with the model's construction. It starts at zero where it should start at 10M\n",
    "    * Tentatively fixed in my version of the LAL Code by having T0=10M within the code. \n",
    "    * A better fix may be to rescale the model itself with the LAL code.\n",
    "* There is something incorrect about how the multipoles are being added together: when modes beyond the fundmental are added, a strange modulation is"
   ]
  },
  {
   "cell_type": "markdown",
   "metadata": {},
   "source": [
    "## Setup Environment"
   ]
  },
  {
   "cell_type": "code",
   "execution_count": 1,
   "metadata": {
    "ExecuteTime": {
     "end_time": "2017-08-10T23:28:11.089791Z",
     "start_time": "2017-08-10T23:28:08.287734"
    },
    "code_folding": [],
    "collapsed": false
   },
   "outputs": [
    {
     "name": "stdout",
     "output_type": "stream",
     "text": [
      "(\u001b[0;36m<module>\u001b[0m)>> The LASIMULATION version is located at: \u001b[1m\u001b[0;33m/Users/book/.virtual_enviroments/ringdownFD_nikhef/opt/lalsuite/lib/python2.7/site-packages/lalsimulation\u001b[0m\u001b[0m\n"
     ]
    }
   ],
   "source": [
    "# Setup ipython environment\n",
    "%load_ext autoreload\n",
    "%autoreload 2\n",
    "# %matplotlib auto\n",
    "%matplotlib inline\n",
    "# Import useful things\n",
    "#\n",
    "# from os import system\n",
    "# system('source ~/.virtual_enviroments/ringdownFD_nikhef/bin/activate')\n",
    "from nrutils.core.basics import lalphenom\n",
    "from kerr import rgb,gmvpfit,modelrd,anglep,qnmfit,leaver,ndflatten,sunwrap,alert,cyan,slm\n",
    "from kerr.models import mmrdns as ns\n",
    "from nrutils import scsearch,gwylm,FinalSpin0815,EradRational0815\n",
    "# Setup plotting backend\n",
    "import matplotlib as mpl\n",
    "from mpl_toolkits.mplot3d import axes3d\n",
    "mpl.rcParams['lines.linewidth'] = 0.8\n",
    "mpl.rcParams['font.family'] = 'serif'\n",
    "mpl.rcParams['font.size'] = 12\n",
    "mpl.rcParams['axes.labelsize'] = 20\n",
    "mpl.rcParams['axes.titlesize'] = 20\n",
    "from matplotlib.pyplot import *\n",
    "from mpl_toolkits.mplot3d import Axes3D\n",
    "#\n",
    "import corner\n",
    "#\n",
    "from numpy import *\n",
    "from numpy.linalg import pinv\n",
    "#\n",
    "from nrutils.core.units import *\n",
    "#\n",
    "from scipy.optimize import minimize\n",
    "from os.path import expanduser\n",
    "#\n",
    "import lal\n",
    "from lal import MSUN_SI, PC_SI, C_SI, G_SI, MTSUN_SI\n",
    "import lalsimulation as lalsim\n",
    "alert('The LASIMULATION version is located at: %s'%( bold(yellow(lalsim.__path__[0])) ))\n",
    "#\n",
    "import review_ringdownFD_nikhef as review"
   ]
  },
  {
   "cell_type": "markdown",
   "metadata": {},
   "source": [
    "## Select and Load NR Data"
   ]
  },
  {
   "cell_type": "code",
   "execution_count": 2,
   "metadata": {
    "ExecuteTime": {
     "end_time": "2017-08-10T23:28:16.335763Z",
     "start_time": "2017-08-10T23:28:11.093360"
    },
    "collapsed": false
   },
   "outputs": [
    {
     "name": "stdout",
     "output_type": "stream",
     "text": [
      "(\u001b[0;36mscsearch\u001b[0m)>> Found \u001b[4mkeyword\u001b[0m (='D11_q1.00_a0.0_m240') keyword.\n",
      "(\u001b[0;36mscsearch\u001b[0m)>> Found \u001b[4mverbose\u001b[0m (=True) keyword.\n",
      "(\u001b[0;36mscsearch\u001b[0m)>> List of keywords or string keyword found: \u001b[0;36mALL scentry objects matching will be passed.\u001b[0m To pass ANY entries matching the keywords, input the keywords using an iterable of not of type list.\n",
      "## Found \u001b[1m1\u001b[0m\u001b[0;35m possibly degenerate\u001b[0m simulations:\n",
      "[0001][\u001b[92mbradwr\u001b[0m] \u001b[0;36mHR-series\u001b[0m: ns-q1.00\t(\u001b[0;36mD11_q1.00_a0.0_m240\u001b[0m)\n",
      "\n"
     ]
    }
   ],
   "source": [
    "# Find simlations to load \n",
    "A = scsearch(keyword='D11_q1.00_a0.0_m240',verbose=True)\n",
    "# A = scsearch(keyword='D9_q1.2_a0.0_m160',verbose=True)\n",
    "# A = scsearch(nonspinning=True,q=1.2,verbose=True,institute='gt',keyword='hrq')"
   ]
  },
  {
   "cell_type": "code",
   "execution_count": 3,
   "metadata": {
    "ExecuteTime": {
     "end_time": "2017-08-10T23:28:20.763573Z",
     "start_time": "2017-08-10T23:28:16.338836"
    },
    "collapsed": false
   },
   "outputs": [
    {
     "name": "stdout",
     "output_type": "stream",
     "text": [
      "(\u001b[0;36mgwylm\u001b[0m)>> Found \u001b[4mdt\u001b[0m (=0.15) keyword.\n",
      "(\u001b[0;36mgwylm\u001b[0m)>> Found \u001b[4mlm\u001b[0m (=[(2, 2), (3, 2), (4, 4)]) keyword.\n",
      "(\u001b[0;36mgwylm\u001b[0m)>> Found \u001b[4mscentry_obj\u001b[0m (=<nrutils.core.nrsc.scentry instance at 0x10b59a758>) keyword.\n",
      "(\u001b[0;36mgwylm\u001b[0m)>> Found \u001b[4mverbose\u001b[0m (=True) keyword.\n",
      "\u001b[1m(\u001b[0;33mvalidate!\u001b[0m)>> \u001b[0mMultiple catalog directories found. We will scan through the related list, and then store first the catalog_dir that the OS can find.\n",
      "\u001b[1m(\u001b[0;33mvalidate!\u001b[0m)>> \u001b[0mSelecting \"\u001b[0;36m/Volumes/athena/bradwr/\u001b[0m\"\n",
      "(\u001b[0;36mgwylm\u001b[0m)>> The (\u001b[0;35mextraction_parameter\u001b[0m,\u001b[92mlevel\u001b[0m) is (\u001b[0;35m75.0\u001b[0m,\u001b[92mNone\u001b[0m), which differs from the config values of (75,0). You have either manually input the non-config values, or the handler has set them by looking at the contents of the simulation directory. \n",
      "(\u001b[0;36m__make_lmlist__\u001b[0m)>> The following spherical multipoles will be loaded:\u001b[0;36m[(2, 2), (3, 2), (4, 4)]\u001b[0m\n",
      "(\u001b[0;36mload\u001b[0m)>> Loading: \u001b[0;36mYlm_WEYLSCAL4::Psi4r_l2_m2_r75.00.asc\u001b[0m\n",
      "(\u001b[0;36mload\u001b[0m)>> Imposing a default padding of 3 to the data.\n",
      "(\u001b[0;36mpad_wfarr\u001b[0m)>> The shape was (11994, 3). Now the shape is (11997, 3).\n",
      "(\u001b[0;36mload\u001b[0m)>> Loading: \u001b[0;36mYlm_WEYLSCAL4::Psi4r_l3_m2_r75.00.asc\u001b[0m\n",
      "(\u001b[0;36mload\u001b[0m)>> Imposing a default padding of 3 to the data.\n",
      "(\u001b[0;36mpad_wfarr\u001b[0m)>> The shape was (11994, 3). Now the shape is (11997, 3).\n",
      "(\u001b[0;36mload\u001b[0m)>> Loading: \u001b[0;36mYlm_WEYLSCAL4::Psi4r_l4_m4_r75.00.asc\u001b[0m\n",
      "(\u001b[0;36mload\u001b[0m)>> Imposing a default padding of 3 to the data.\n",
      "(\u001b[0;36mpad_wfarr\u001b[0m)>> The shape was (11994, 3). Now the shape is (11997, 3).\n",
      "(\u001b[0;36mgwylm\u001b[0m)>> Storing w22 from a \u001b[1m\u001b[0;35mPN estimate\u001b[0m\u001b[0m[see pnw0 in basics.py, and/or arxiv:1310.1528v4]. This will be the frequency parameter used if strain is to be calculated.\n",
      "(\u001b[0;36mcalcflm\u001b[0m)>> \u001b[0;35mw0(w22) = 0.044088\u001b[0m\u001b[0;33m (this is the lower frequency used for FFI method [arxiv:1006.1632v3])\u001b[0m\n",
      "(\u001b[0;36mcalcflm\u001b[0m)>> \u001b[0;35mw0(w22) = 0.044088\u001b[0m\u001b[0;33m (this is the lower frequency used for FFI method [arxiv:1006.1632v3])\u001b[0m\n",
      "(\u001b[0;36mcalcflm\u001b[0m)>> \u001b[0;35mw0(w22) = 0.088175\u001b[0m\u001b[0;33m (this is the lower frequency used for FFI method [arxiv:1006.1632v3])\u001b[0m\n",
      "(\u001b[0;36mcalchlm\u001b[0m)>> \u001b[0;35mw22 = m*w22/2 = 0.044088\u001b[0m\u001b[0;33m (this is the lower frequency used for FFI method [arxiv:1006.1632v3])\u001b[0m\n",
      "(\u001b[0;36mgwylm.calchlm\u001b[0m)>> \u001b[0;33mThe user should note that there is no minus sign used in front of the double time integral for strain (i.e. Eq 4 of arxiv:1006.1632). This differs from Eq 3.4 of arxiv:0707.4654v3. The net effect is a rotation of the overall polarization of pi degrees. The user should also note that there is no minus sign applied to h_cross meaning that the user must be mindful to write h_pluss-1j*h_cross when appropriate.\u001b[0m\n",
      "(\u001b[0;36mcalchlm\u001b[0m)>> \u001b[0;35mw32 = m*w22/2 = 0.044088\u001b[0m\u001b[0;33m (this is the lower frequency used for FFI method [arxiv:1006.1632v3])\u001b[0m\n",
      "(\u001b[0;36mgwylm.calchlm\u001b[0m)>> \u001b[0;33mThe user should note that there is no minus sign used in front of the double time integral for strain (i.e. Eq 4 of arxiv:1006.1632). This differs from Eq 3.4 of arxiv:0707.4654v3. The net effect is a rotation of the overall polarization of pi degrees. The user should also note that there is no minus sign applied to h_cross meaning that the user must be mindful to write h_pluss-1j*h_cross when appropriate.\u001b[0m\n",
      "(\u001b[0;36mcalchlm\u001b[0m)>> \u001b[0;35mw44 = m*w22/2 = 0.088175\u001b[0m\u001b[0;33m (this is the lower frequency used for FFI method [arxiv:1006.1632v3])\u001b[0m\n",
      "(\u001b[0;36mgwylm.calchlm\u001b[0m)>> \u001b[0;33mThe user should note that there is no minus sign used in front of the double time integral for strain (i.e. Eq 4 of arxiv:1006.1632). This differs from Eq 3.4 of arxiv:0707.4654v3. The net effect is a rotation of the overall polarization of pi degrees. The user should also note that there is no minus sign applied to h_cross meaning that the user must be mindful to write h_pluss-1j*h_cross when appropriate.\u001b[0m\n"
     ]
    }
   ],
   "source": [
    "# Load simulation data\n",
    "a = A[0]\n",
    "y = gwylm( a, lm=[(2,2),(3,2),(4,4)], verbose=True )"
   ]
  },
  {
   "cell_type": "code",
   "execution_count": 4,
   "metadata": {
    "ExecuteTime": {
     "end_time": "2017-08-10T23:28:20.933664Z",
     "start_time": "2017-08-10T23:28:20.767074"
    },
    "collapsed": false
   },
   "outputs": [
    {
     "name": "stdout",
     "output_type": "stream",
     "text": [
      "(\u001b[0;36mringdown\u001b[0m)>> Time will be listed relative to the peak of \u001b[0;36mluminosity\u001b[0m.\n"
     ]
    }
   ],
   "source": [
    "#\n",
    "yrd = y.ringdown(T0=10,use_peak_strain=False,verbose=True)"
   ]
  },
  {
   "cell_type": "code",
   "execution_count": 5,
   "metadata": {
    "ExecuteTime": {
     "end_time": "2017-08-10T23:28:20.978189Z",
     "start_time": "2017-08-10T23:28:20.937174"
    },
    "collapsed": false
   },
   "outputs": [],
   "source": [
    "# Define physical parameters for LAL comparison\n",
    "M_Sol = 80\n",
    "Mf_Sol = 1.00002821*M_Sol * y.mf\n",
    "D_Mpc = 150\n",
    "inclination = 0\n",
    "fmin = 20\n",
    "phi_ref = 0\n",
    "#\n",
    "M = M_Sol*MSUN_SI\n",
    "Mf = Mf_Sol*MSUN_SI\n",
    "D = D_Mpc*1.0e6*PC_SI\n",
    "deltaT = physt( y.lm[2,2]['strain'].dt, M_Sol )\n",
    "xf = y.xf\n",
    "eta = y.eta\n",
    "#\n",
    "t_code = yrd.ylm[0].t"
   ]
  },
  {
   "cell_type": "markdown",
   "metadata": {},
   "source": [
    "### Spot check final mass fit "
   ]
  },
  {
   "cell_type": "code",
   "execution_count": 6,
   "metadata": {
    "ExecuteTime": {
     "end_time": "2017-08-10T23:28:21.020370Z",
     "start_time": "2017-08-10T23:28:20.982884"
    },
    "collapsed": false
   },
   "outputs": [
    {
     "name": "stdout",
     "output_type": "stream",
     "text": [
      ">> From LAL UIB Fit: Mf =  0.951588979146\n",
      ">> From NR metadata: Mf =  0.951562197018\n",
      ">> Estimated initial mass: M_Sol =  80.0000051654\n",
      ">> Desired initial mass  : M_Sol =  80\n"
     ]
    }
   ],
   "source": [
    "print '>> From LAL UIB Fit: Mf = ',1-lalsim.E_rad_nonspinning_UIB2016(eta)\n",
    "print '>> From NR metadata: Mf = ',y.mf\n",
    "print '>> Estimated initial mass: M_Sol = ', lalsim.Mf_to_M_nonspinning_UIB2016(eta, Mf_Sol)\n",
    "print '>> Desired initial mass  : M_Sol = ', M_Sol"
   ]
  },
  {
   "cell_type": "markdown",
   "metadata": {
    "ExecuteTime": {
     "end_time": "2017-08-10T14:38:29.578130Z",
     "start_time": "2017-08-10T14:38:29.542377"
    },
    "heading_collapsed": true
   },
   "source": [
    "### Directly compare amplitude functions"
   ]
  },
  {
   "cell_type": "code",
   "execution_count": 7,
   "metadata": {
    "ExecuteTime": {
     "end_time": "2017-08-10T23:28:21.079411Z",
     "start_time": "2017-08-10T23:28:21.024191"
    },
    "collapsed": false,
    "hidden": true
   },
   "outputs": [
    {
     "name": "stdout",
     "output_type": "stream",
     "text": [
      ">> From LAL MMRDNS Fit: A220 =  (-0.229804848082-0.0716724887031j)\n",
      ">> From PY  MMRDNS Fit: A220 =  (-0.229804848082-0.0716724887031j)\n",
      ">> From RAWPY      Fit: A220 =  (-0.229804848082-0.0716724887031j)\n",
      "## Error (%) =  0.0\n",
      "---\n",
      ">> From LAL MMRDNS Fit: A221 =  (0.0386954515206-0.0465239548319j)\n",
      ">> From PY  MMRDNS Fit: A221 =  (0.0386954515206-0.0465239548319j)\n",
      ">> From RAWPY      Fit: A221 =  (0.0386954515206-0.0465239548319j)\n",
      "## Error (%) =  0.0\n",
      "---\n",
      ">> From LAL MMRDNS Fit: A210 =  0j\n",
      ">> From PY  MMRDNS Fit: A210 =  -0j\n",
      ">> From RAWPY      Fit: A210 =  -0j\n",
      "## Error (%) =  nan\n",
      "---\n",
      ">> From LAL MMRDNS Fit: A330 =  (-0+0j)\n",
      ">> From PY  MMRDNS Fit: A330 =  0j\n",
      ">> From RAWPY      Fit: A330 =  0j\n",
      "## Error (%) =  nan\n",
      "---\n",
      ">> From LAL MMRDNS Fit: A320 =  (-0.00744566845341-0.00161945693189j)\n",
      ">> From PY  MMRDNS Fit: A320 =  (-0.00744566845341-0.00161945693189j)\n",
      ">> From RAWPY      Fit: A320 =  (-0.00744566845341-0.00161945693189j)\n",
      "## Error (%) =  0.0\n",
      "---\n",
      ">> From LAL MMRDNS Fit: A440 =  (0.00854016048963-0.0036417587464j)\n",
      ">> From PY  MMRDNS Fit: A440 =  (0.00854016048963-0.0036417587464j)\n",
      ">> From RAWPY      Fit: A440 =  (0.00854016048963-0.0036417587464j)\n",
      "## Error (%) =  0.0\n",
      "---\n",
      ">> From LAL MMRDNS Fit: A430 =  (-0+0j)\n",
      ">> From PY  MMRDNS Fit: A430 =  0j\n",
      ">> From RAWPY      Fit: A430 =  0j\n",
      "## Error (%) =  nan\n",
      "---\n",
      ">> From LAL MMRDNS Fit: A550 =  (-0-0j)\n",
      ">> From PY  MMRDNS Fit: A550 =  (-0-0j)\n",
      ">> From RAWPY      Fit: A550 =  (-0-0j)\n",
      "## Error (%) =  nan\n",
      "---\n"
     ]
    },
    {
     "name": "stderr",
     "output_type": "stream",
     "text": [
      "/Library/Python/2.7/site-packages/ipykernel/__main__.py:8: RuntimeWarning: invalid value encountered in cdouble_scalars\n"
     ]
    }
   ],
   "source": [
    "from kerr.formula.mmrdns_amplitudes import A_strain as Afitraw\n",
    "for l,m,n in ns.lmn:\n",
    "    Alal = lalsim.MMRDNSAmplitudeOverOmegaSquared(eta, l, m, n)\n",
    "    Apy  = ns.Afit(l, m, n, eta)\n",
    "    print '>> From LAL MMRDNS Fit: A%i%i%i = '%(l,m,n),Alal\n",
    "    print '>> From PY  MMRDNS Fit: A%i%i%i = '%(l,m,n),Apy\n",
    "    print '>> From RAWPY      Fit: A%i%i%i = '%(l,m,n), Afitraw[l,m,n](eta).conj()\n",
    "    print '## Error (%) = ',100*abs((Alal-Apy)/abs(Apy))\n",
    "    print '---'"
   ]
  },
  {
   "cell_type": "markdown",
   "metadata": {},
   "source": [
    "## Compare Spheroidal Harmonic Functions"
   ]
  },
  {
   "cell_type": "code",
   "execution_count": 8,
   "metadata": {
    "ExecuteTime": {
     "end_time": "2017-08-10T23:28:21.450645Z",
     "start_time": "2017-08-10T23:28:21.083064"
    },
    "collapsed": false
   },
   "outputs": [
    {
     "name": "stdout",
     "output_type": "stream",
     "text": [
      "---\n",
      ">> From LAL: S220(theta,phi) =  (0.681147649747+0.0621806869524j)\n",
      ">> From  PY: S220(theta,phi) =  (0.683085144067-0.0155192574025j)\n",
      "## Error (%) =  11.3754553041\n",
      "---\n",
      ">> From LAL: S221(theta,phi) =  (nan+nanj)\n",
      ">> From  PY: S221(theta,phi) =  (0.679978579574-0.0466228656609j)\n",
      "## Error (%) =  nan\n",
      "---\n",
      ">> From LAL: S210(theta,phi) =  (nan+nanj)\n",
      ">> From  PY: S210(theta,phi) =  0j\n",
      "## Error (%) =  nan\n",
      "---\n",
      ">> From LAL: S330(theta,phi) =  (nan+nanj)\n",
      ">> From  PY: S330(theta,phi) =  (-0+0j)\n",
      "## Error (%) =  nan\n",
      "---\n",
      ">> From LAL: S320(theta,phi) =  (nan+nanj)\n",
      ">> From  PY: S320(theta,phi) =  (0.769356825587+0.0128372148711j)\n",
      "## Error (%) =  nan\n",
      "---\n",
      ">> From LAL: S440(theta,phi) =  (nan+nanj)\n",
      ">> From  PY: S440(theta,phi) =  0j\n",
      "## Error (%) =  nan\n",
      "---\n",
      ">> From LAL: S430(theta,phi) =  (nan+nanj)\n",
      ">> From  PY: S430(theta,phi) =  0j\n",
      "## Error (%) =  nan\n",
      "---\n",
      ">> From LAL: S550(theta,phi) =  (nan+nanj)\n",
      ">> From  PY: S550(theta,phi) =  (-0+0j)\n",
      "## Error (%) =  nan\n"
     ]
    }
   ],
   "source": [
    "\n",
    "#\n",
    "for l,m,n in ns.lmn:\n",
    "\n",
    "    #\n",
    "    slal = lalsim.SpinWeightedSpheroidalHarmonic( xf, l, m, n, inclination, phi_ref )\n",
    "\n",
    "    #\n",
    "    spy = slm( xf,l,m,n,inclination,phi_ref )\n",
    "\n",
    "    #\n",
    "    print '---'\n",
    "    print '>> From LAL: S%i%i%i(theta,phi) = '%(l,m,n),slal\n",
    "    print '>> From  PY: S%i%i%i(theta,phi) = '%(l,m,n),spy\n",
    "    print '## Error (%) = ',100*abs((slal-spy)/abs(spy))\n"
   ]
  },
  {
   "cell_type": "code",
   "execution_count": 10,
   "metadata": {
    "ExecuteTime": {
     "end_time": "2017-08-10T23:28:39.937563Z",
     "start_time": "2017-08-10T23:28:39.024280"
    },
    "collapsed": false
   },
   "outputs": [
    {
     "name": "stdout",
     "output_type": "stream",
     "text": [
      "(0.999999429637+0j)\n",
      "(nan+nan*j)\n"
     ]
    },
    {
     "data": {
      "image/png": "[encoded data removed]",
      "text/plain": [
       "<matplotlib.figure.Figure at 0x10ec60390>"
      ]
     },
     "metadata": {},
     "output_type": "display_data"
    }
   ],
   "source": [
    "\n",
    "#\n",
    "l,m,n = 3,2,0\n",
    "\n",
    "#\n",
    "theta = linspace(0,pi,5e2)\n",
    "phi = 0\n",
    "\n",
    "#\n",
    "Spy = slm( xf,l,m,n,theta,phi )\n",
    "Slal = array( [ lalsim.SpinWeightedSpheroidalHarmonic( xf, l, m, n, th, phi ) for th in theta ] )\n",
    "\n",
    "#\n",
    "plot( theta, abs(Spy), label = 'Py' )\n",
    "plot( theta, abs(Slal), label = 'LAL' )\n",
    "\n",
    "#\n",
    "legend( frameon=False )\n",
    "xlabel(r'$\\theta$')\n",
    "ylabel(r'$|S_{lmn}(\\theta,\\phi)|$')\n",
    "\n",
    "#\n",
    "print 2*pi*trapz(Spy*Spy.conj()*sin(theta),theta )\n",
    "print 2*pi*trapz(Slal*Slal.conj()*sin(theta),theta )\n"
   ]
  },
  {
   "cell_type": "markdown",
   "metadata": {},
   "source": [
    "## Compare LAL and Python Models"
   ]
  },
  {
   "cell_type": "code",
   "execution_count": null,
   "metadata": {
    "ExecuteTime": {
     "end_time": "2017-08-10T23:28:21.522002Z",
     "start_time": "2017-08-10T22:28:08.319Z"
    },
    "collapsed": false
   },
   "outputs": [],
   "source": [
    "\n",
    "#\n",
    "l,m,n = 4,4,0\n",
    "\n",
    "#\n",
    "pyh = physh( ns.meval_mode(l,m,n,eta)(t_code), M_Sol, D_Mpc )\n",
    "\n",
    "#\n",
    "lah_raw = lalsim.SimRingdownGenerateSingleBareModeMMRDNS_time( 0.0, deltaT,Mf,xf,eta,l,m,n,D,0,0,len(t_code), physt(0,M_Sol) )\n",
    "lah = lah_raw.data.data\n",
    "\n",
    "#\n",
    "t = physt(t_code,M_Sol)\n",
    "\n",
    "#\n",
    "fig = figure( figsize = 6*array([2.1,1]) )\n",
    "\n",
    "#\n",
    "def plotc(c,color='k',alpha=1,label=None,linestyle='-'):\n",
    "    #\n",
    "    subplot(1,2,1)\n",
    "    alpha = 0.6\n",
    "    plot( t, c.real, color = color, alpha=alpha, label=label,linestyle=linestyle )\n",
    "    plot( t, c.imag, color = color, alpha=alpha,linestyle=linestyle )\n",
    "    plot( t, abs(c), color = color, alpha=alpha,linestyle=linestyle )\n",
    "    plot( t,-abs(c), color = color, alpha=alpha,linestyle=linestyle )\n",
    "    xlim( lim(t) )\n",
    "    legend( frameon=False )\n",
    "    #\n",
    "    subplot(1,2,2)\n",
    "    alpha = 0.6\n",
    "    plot( t, unwrap(angle(c)), color = color, alpha=alpha, label=label,linestyle=linestyle )\n",
    "    xlim( lim(t) )\n",
    "    legend( frameon=False )\n",
    "\n",
    "    \n",
    "plotc( pyh, color='b', label = 'KERR',linestyle='-' )\n",
    "plotc( lah, color='g', label = 'LAL',linestyle='-' )\n",
    "\n",
    "\n"
   ]
  },
  {
   "cell_type": "markdown",
   "metadata": {},
   "source": [
    "## Compare Recomposed Waveforms"
   ]
  },
  {
   "cell_type": "code",
   "execution_count": null,
   "metadata": {
    "ExecuteTime": {
     "end_time": "2017-08-10T23:28:21.522753Z",
     "start_time": "2017-08-10T22:28:08.322Z"
    },
    "collapsed": false
   },
   "outputs": [],
   "source": [
    "\n",
    "# Format NR Waveform \n",
    "hnr = physh( yrd.recompose(inclination,phi_ref,kind='strain',domain='time').wfarr, M_Sol, D_Mpc )\n",
    "\n",
    "# Eval python model \n",
    "hpy = physh( ns.meval( inclination, phi_ref, eta, kind='strain' )(t_code), M_Sol, D_Mpc )\n",
    "\n",
    "# Evaluate LAL model\n",
    "hlal_raw = lalsim.SimRingdownMMRDNS_time(0.0,deltaT,M,xf,eta,inclination,phi_ref,D,nonGRparams=None)\n",
    "chlal = hlal_raw[0].data.data + 1j*hlal_raw[1].data.data"
   ]
  },
  {
   "cell_type": "code",
   "execution_count": null,
   "metadata": {
    "ExecuteTime": {
     "end_time": "2017-08-10T23:28:21.523283Z",
     "start_time": "2017-08-10T22:28:08.325Z"
    },
    "collapsed": false
   },
   "outputs": [],
   "source": [
    "#\n",
    "fig = figure( figsize=5*array([3.2,1]) )\n",
    "\n",
    "#\n",
    "def plotnr():\n",
    "    t = hnr[:,0]\n",
    "    # Plot NR Waveform\n",
    "    nr_alpha = 0.3\n",
    "    # Shift time to align with LAL verision\n",
    "    plot( t-t[0], hnr[:,1], 'k', alpha=nr_alpha )\n",
    "    plot( t-t[0], hnr[:,2], 'k', alpha=nr_alpha )\n",
    "    chnr = hnr[:,1]+1j*hnr[:,2]\n",
    "    plot( t-t[0], abs(chnr), 'k', alpha=nr_alpha, label='NR' )\n",
    "    plot( t-t[0],-abs(chnr), 'k', alpha=nr_alpha )\n",
    "    if False:\n",
    "        ll,mm = 2,2\n",
    "        hlallmraw = lalsim.SimRingdownGenerateSingleBareModeMMRDNS_time( 0.0, deltaT,M,xf,eta,ll,mm,0,D,0,0,len(t),0.0 )\n",
    "        hlal22 = sYlm(-2,ll,mm,inclination,phi_ref)*hlallmraw.data.data\n",
    "        plot( t-t[0],abs(hlal22),'--r',label='LAL (2,2,0) ONLY')\n",
    "        plot( t-t[0],-abs(hlal22),'--r' )\n",
    "    xlim( lim(t-t[0]) )\n",
    "    #\n",
    "    legend( frameon=False )\n",
    "\n",
    "#\n",
    "def plotlal():\n",
    "    alpha = 0.8\n",
    "    t = deltaT * arange( len(chlal) )\n",
    "    # Plot LAL Waveform\n",
    "    plot( t, abs(chlal), 'b', label='MMRDNS (LAL)',alpha=alpha )\n",
    "    plot( t,-abs(chlal), 'b',alpha=alpha )\n",
    "    xlim( lim(t) )\n",
    "    #\n",
    "    legend( frameon=False )\n",
    "    \n",
    "#\n",
    "def plotpy():\n",
    "    alpha=0.90\n",
    "    color = 'k'\n",
    "    t = physt(t_code-t_code[0],M_Sol)\n",
    "    plot( t, hpy.real, '--',alpha=alpha, color=color, label='MMRDNS (PY)'  )\n",
    "    plot( t, hpy.imag, '--',alpha=alpha, color=color  )\n",
    "    plot( t, abs(hpy), '--',alpha=alpha, color=color  )\n",
    "    plot( t,-abs(hpy), '--',alpha=alpha, color=color  )\n",
    "    #\n",
    "    legend( frameon=False )\n",
    "\n",
    "#\n",
    "subplot(1,3,1)\n",
    "plotnr()\n",
    "plotpy()\n",
    "#\n",
    "subplot(1,3,2)\n",
    "plotlal()\n",
    "#\n",
    "subplot(1,3,3)\n",
    "plotnr()\n",
    "plotlal()\n",
    "plotpy()\n"
   ]
  },
  {
   "cell_type": "code",
   "execution_count": null,
   "metadata": {
    "ExecuteTime": {
     "end_time": "2017-08-10T23:28:21.523717Z",
     "start_time": "2017-08-10T22:28:08.328Z"
    },
    "collapsed": false
   },
   "outputs": [],
   "source": [
    "# ?physh"
   ]
  }
 ],
 "metadata": {
  "kernelspec": {
   "display_name": "Python [Root]",
   "language": "python",
   "name": "Python [Root]"
  },
  "language_info": {
   "codemirror_mode": {
    "name": "ipython",
    "version": 2
   },
   "file_extension": ".py",
   "mimetype": "text/x-python",
   "name": "python",
   "nbconvert_exporter": "python",
   "pygments_lexer": "ipython2",
   "version": "2.7.9"
  }
 },
 "nbformat": 4,
 "nbformat_minor": 0
}
